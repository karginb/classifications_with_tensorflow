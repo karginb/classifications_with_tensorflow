{
  "nbformat": 4,
  "nbformat_minor": 0,
  "metadata": {
    "colab": {
      "provenance": [],
      "authorship_tag": "ABX9TyN39QeszbgRGCGignRgQ01c",
      "include_colab_link": true
    },
    "kernelspec": {
      "name": "python3",
      "display_name": "Python 3"
    },
    "language_info": {
      "name": "python"
    }
  },
  "cells": [
    {
      "cell_type": "markdown",
      "metadata": {
        "id": "view-in-github",
        "colab_type": "text"
      },
      "source": [
        "<a href=\"https://colab.research.google.com/github/karginb/classifications_with_tensorflow/blob/main/01_neural_network_regression_with_tensorflow.ipynb\" target=\"_parent\"><img src=\"https://colab.research.google.com/assets/colab-badge.svg\" alt=\"Open In Colab\"/></a>"
      ]
    },
    {
      "cell_type": "markdown",
      "source": [
        "# 01. Neural Network Regression with TensorFlow\n",
        "\n",
        "\n",
        "**Input layer**: shape\tSame shape as number of features (e.g. 3 for # bedrooms, # bathrooms, # car spaces in housing price prediction)\n",
        "\n",
        "**Hidden layer(s)**:\tProblem specific, minimum = 1, maximum = unlimited\n",
        "Neurons per hidden layer\tProblem specific, generally 10 to 100\n",
        "\n",
        "**Output layer**: shape\tSame shape as desired prediction shape (e.g. 1 for house price)\n",
        "\n",
        "**Hidden activation**:\tUsually ReLU (rectified linear unit)\n",
        "\n",
        "**Output activation**:\tNone, ReLU, logistic/tanh\n",
        "\n",
        "**Loss function**:\tMSE (mean square error) or MAE (mean absolute error)/Huber (combination of MAE/MSE) if outliers\n",
        "\n",
        "**Optimizer**:\tSGD (stochastic gradient descent), Adam"
      ],
      "metadata": {
        "id": "7Hkolk0FpqXH"
      }
    },
    {
      "cell_type": "code",
      "source": [
        "import tensorflow as tf\n",
        "print(tf.__version__)\n",
        "import datetime\n",
        "print(datetime.datetime.now())"
      ],
      "metadata": {
        "colab": {
          "base_uri": "https://localhost:8080/"
        },
        "id": "IanOcBNyp7ES",
        "outputId": "5c96b867-c44c-4f39-8353-1064fa95ad62"
      },
      "execution_count": null,
      "outputs": [
        {
          "output_type": "stream",
          "name": "stdout",
          "text": [
            "2.13.0\n",
            "2023-09-10 20:12:21.517347\n"
          ]
        }
      ]
    },
    {
      "cell_type": "markdown",
      "source": [
        "## Creating data to view and fit\n",
        "\n",
        "Since we're working on a regression problem (predicting a number) let's create some linear data (a straight line) to model."
      ],
      "metadata": {
        "id": "3uFFAI9Dq0Kj"
      }
    },
    {
      "cell_type": "code",
      "source": [
        "import numpy as np\n",
        "import matplotlib.pyplot as plt\n",
        "\n",
        "X = np.array([-7.0, -4.0, -1.0, 2.0, 5.0, 8.0, 11.0, 14.0])\n",
        "\n",
        "y = np.array([3.0, 6.0, 9.0, 12.0, 15.0, 18.0, 21.0, 24.0])\n",
        "\n",
        "plt.scatter(X,y)\n"
      ],
      "metadata": {
        "colab": {
          "base_uri": "https://localhost:8080/",
          "height": 452
        },
        "id": "s3U-vrEuq4b6",
        "outputId": "bc9a9824-52e1-4f90-8f21-ee0957c6852a"
      },
      "execution_count": null,
      "outputs": [
        {
          "output_type": "execute_result",
          "data": {
            "text/plain": [
              "<matplotlib.collections.PathCollection at 0x78aa4e1d3820>"
            ]
          },
          "metadata": {},
          "execution_count": 2
        },
        {
          "output_type": "display_data",
          "data": {
            "text/plain": [
              "<Figure size 640x480 with 1 Axes>"
            ],
            "image/png": "[encoded data removed]"
          },
          "metadata": {}
        }
      ]
    },
    {
      "cell_type": "markdown",
      "source": [
        "## Steps in modelling with TensorFlow\n",
        "Now we know what data we have as well as the input and output shapes, let's see how we'd build a neural network to model it.\n",
        "\n",
        "In TensorFlow, there are typically 3 fundamental steps to creating and training a model.\n",
        "\n",
        "**Creating a model** - piece together the layers of a neural network yourself (using the Functional or Sequential API) or import a previously built model (known as transfer learning).\n",
        "\n",
        "**Compiling a model** - defining how a models performance should be measured (loss/metrics) as well as defining how it should improve (optimizer).\n",
        "\n",
        "**Fitting a model** - letting the model try to find patterns in the data (how does X get to y)."
      ],
      "metadata": {
        "id": "1sCprMQGrhTD"
      }
    },
    {
      "cell_type": "code",
      "source": [
        "tf.random.set_seed(42)\n",
        "\n",
        "model = tf.keras.Sequential()\n",
        "\n",
        "model.add(tf.keras.layers.Dense(1))\n",
        "\n",
        "model.compile(loss = tf.keras.losses.mae,\n",
        "              optimizer = tf.keras.optimizers.SGD(),\n",
        "              metrics = [\"mae\"])\n",
        "\n",
        "model.fit(tf.expand_dims(X,axis=-1),y,epochs = 5)"
      ],
      "metadata": {
        "colab": {
          "base_uri": "https://localhost:8080/"
        },
        "id": "Q3Lhu8UCrgkf",
        "outputId": "f02f1a56-a941-4340-b48f-253044dbf58d"
      },
      "execution_count": null,
      "outputs": [
        {
          "output_type": "stream",
          "name": "stdout",
          "text": [
            "Epoch 1/5\n",
            "1/1 [==============================] - 1s 647ms/step - loss: 15.9280 - mae: 15.9280\n",
            "Epoch 2/5\n",
            "1/1 [==============================] - 0s 15ms/step - loss: 15.6467 - mae: 15.6467\n",
            "Epoch 3/5\n",
            "1/1 [==============================] - 0s 22ms/step - loss: 15.3655 - mae: 15.3655\n",
            "Epoch 4/5\n",
            "1/1 [==============================] - 0s 31ms/step - loss: 15.0842 - mae: 15.0842\n",
            "Epoch 5/5\n",
            "1/1 [==============================] - 0s 15ms/step - loss: 14.8536 - mae: 14.8536\n"
          ]
        },
        {
          "output_type": "execute_result",
          "data": {
            "text/plain": [
              "<keras.src.callbacks.History at 0x78aa4901ab00>"
            ]
          },
          "metadata": {},
          "execution_count": 3
        }
      ]
    },
    {
      "cell_type": "code",
      "source": [
        "X,y"
      ],
      "metadata": {
        "colab": {
          "base_uri": "https://localhost:8080/"
        },
        "id": "H74pUWwnsfXH",
        "outputId": "b3d531fe-3f3d-4956-f5cd-2a50258c0730"
      },
      "execution_count": null,
      "outputs": [
        {
          "output_type": "execute_result",
          "data": {
            "text/plain": [
              "(array([-7., -4., -1.,  2.,  5.,  8., 11., 14.]),\n",
              " array([ 3.,  6.,  9., 12., 15., 18., 21., 24.]))"
            ]
          },
          "metadata": {},
          "execution_count": 4
        }
      ]
    },
    {
      "cell_type": "code",
      "source": [
        " #output should've something close to 27.0\n",
        "model.predict([17.0])"
      ],
      "metadata": {
        "colab": {
          "base_uri": "https://localhost:8080/"
        },
        "id": "7VDJCYdWsjMf",
        "outputId": "361f3588-65dd-40ad-c772-2e401b491e2c"
      },
      "execution_count": null,
      "outputs": [
        {
          "output_type": "stream",
          "name": "stdout",
          "text": [
            "1/1 [==============================] - 0s 153ms/step\n"
          ]
        },
        {
          "output_type": "execute_result",
          "data": {
            "text/plain": [
              "array([[-6.085585]], dtype=float32)"
            ]
          },
          "metadata": {},
          "execution_count": 5
        }
      ]
    },
    {
      "cell_type": "markdown",
      "source": [
        "## Improving a model\n",
        "How do you think you'd improve upon our current model?\n",
        "\n",
        "If you guessed by tweaking some of the things we did above, you'd be correct.\n",
        "\n",
        "To improve our model, we alter almost every part of the 3 steps we went through before.\n",
        "\n",
        "**Creating a model** - here you might want to add more layers, increase the number of hidden units (also called neurons) within each layer, change the activation functions of each layer.\n",
        "\n",
        "**Compiling a model** - you might want to choose optimization function or perhaps change the learning rate of the optimization function.\n",
        "\n",
        "**Fitting a model** - perhaps you could fit a model for more epochs (leave it training for longer) or on more data (give the model more examples to learn from).\n",
        "\n",
        "\n",
        "\n",
        "\n"
      ],
      "metadata": {
        "id": "BnoGxIszt4as"
      }
    },
    {
      "cell_type": "code",
      "source": [
        "tf.random.set_seed(42)\n",
        "model = tf.keras.Sequential()\n",
        "\n",
        "model.add(tf.keras.layers.Dense(1))\n",
        "\n",
        "model.compile(loss = tf.keras.losses.mae,\n",
        "              optimizer = tf.keras.optimizers.SGD(),\n",
        "              metrics = [\"mae\"])\n",
        "\n",
        "\n",
        "model.fit(tf.expand_dims(X,axis = -1),y,epochs = 100)\n"
      ],
      "metadata": {
        "colab": {
          "base_uri": "https://localhost:8080/"
        },
        "id": "qDP3RZxbtAdB",
        "outputId": "456cbea6-51e5-440f-dbe1-2e2263d3f243"
      },
      "execution_count": null,
      "outputs": [
        {
          "output_type": "stream",
          "name": "stdout",
          "text": [
            "Epoch 1/100\n",
            "1/1 [==============================] - 1s 580ms/step - loss: 10.3976 - mae: 10.3976\n",
            "Epoch 2/100\n",
            "1/1 [==============================] - 0s 24ms/step - loss: 10.2651 - mae: 10.2651\n",
            "Epoch 3/100\n",
            "1/1 [==============================] - 0s 13ms/step - loss: 10.1326 - mae: 10.1326\n",
            "Epoch 4/100\n",
            "1/1 [==============================] - 0s 15ms/step - loss: 10.0001 - mae: 10.0001\n",
            "Epoch 5/100\n",
            "1/1 [==============================] - 0s 25ms/step - loss: 9.8676 - mae: 9.8676\n",
            "Epoch 6/100\n",
            "1/1 [==============================] - 0s 21ms/step - loss: 9.7351 - mae: 9.7351\n",
            "Epoch 7/100\n",
            "1/1 [==============================] - 0s 27ms/step - loss: 9.6026 - mae: 9.6026\n",
            "Epoch 8/100\n",
            "1/1 [==============================] - 0s 19ms/step - loss: 9.4701 - mae: 9.4701\n",
            "Epoch 9/100\n",
            "1/1 [==============================] - 0s 17ms/step - loss: 9.3376 - mae: 9.3376\n",
            "Epoch 10/100\n",
            "1/1 [==============================] - 0s 15ms/step - loss: 9.2051 - mae: 9.2051\n",
            "Epoch 11/100\n",
            "1/1 [==============================] - 0s 19ms/step - loss: 9.0726 - mae: 9.0726\n",
            "Epoch 12/100\n",
            "1/1 [==============================] - 0s 25ms/step - loss: 8.9401 - mae: 8.9401\n",
            "Epoch 13/100\n",
            "1/1 [==============================] - 0s 13ms/step - loss: 8.8076 - mae: 8.8076\n",
            "Epoch 14/100\n",
            "1/1 [==============================] - 0s 12ms/step - loss: 8.6751 - mae: 8.6751\n",
            "Epoch 15/100\n",
            "1/1 [==============================] - 0s 19ms/step - loss: 8.5426 - mae: 8.5426\n",
            "Epoch 16/100\n",
            "1/1 [==============================] - 0s 11ms/step - loss: 8.4101 - mae: 8.4101\n",
            "Epoch 17/100\n",
            "1/1 [==============================] - 0s 21ms/step - loss: 8.2776 - mae: 8.2776\n",
            "Epoch 18/100\n",
            "1/1 [==============================] - 0s 13ms/step - loss: 8.1451 - mae: 8.1451\n",
            "Epoch 19/100\n",
            "1/1 [==============================] - 0s 24ms/step - loss: 8.0126 - mae: 8.0126\n",
            "Epoch 20/100\n",
            "1/1 [==============================] - 0s 15ms/step - loss: 7.8801 - mae: 7.8801\n",
            "Epoch 21/100\n",
            "1/1 [==============================] - 0s 15ms/step - loss: 7.7476 - mae: 7.7476\n",
            "Epoch 22/100\n",
            "1/1 [==============================] - 0s 17ms/step - loss: 7.6151 - mae: 7.6151\n",
            "Epoch 23/100\n",
            "1/1 [==============================] - 0s 16ms/step - loss: 7.4826 - mae: 7.4826\n",
            "Epoch 24/100\n",
            "1/1 [==============================] - 0s 13ms/step - loss: 7.3501 - mae: 7.3501\n",
            "Epoch 25/100\n",
            "1/1 [==============================] - 0s 12ms/step - loss: 7.3200 - mae: 7.3200\n",
            "Epoch 26/100\n",
            "1/1 [==============================] - 0s 41ms/step - loss: 7.3144 - mae: 7.3144\n",
            "Epoch 27/100\n",
            "1/1 [==============================] - 0s 22ms/step - loss: 7.3088 - mae: 7.3088\n",
            "Epoch 28/100\n",
            "1/1 [==============================] - 0s 14ms/step - loss: 7.3031 - mae: 7.3031\n",
            "Epoch 29/100\n",
            "1/1 [==============================] - 0s 14ms/step - loss: 7.2975 - mae: 7.2975\n",
            "Epoch 30/100\n",
            "1/1 [==============================] - 0s 20ms/step - loss: 7.2919 - mae: 7.2919\n",
            "Epoch 31/100\n",
            "1/1 [==============================] - 0s 16ms/step - loss: 7.2863 - mae: 7.2863\n",
            "Epoch 32/100\n",
            "1/1 [==============================] - 0s 12ms/step - loss: 7.2806 - mae: 7.2806\n",
            "Epoch 33/100\n",
            "1/1 [==============================] - 0s 14ms/step - loss: 7.2750 - mae: 7.2750\n",
            "Epoch 34/100\n",
            "1/1 [==============================] - 0s 13ms/step - loss: 7.2694 - mae: 7.2694\n",
            "Epoch 35/100\n",
            "1/1 [==============================] - 0s 18ms/step - loss: 7.2638 - mae: 7.2638\n",
            "Epoch 36/100\n",
            "1/1 [==============================] - 0s 18ms/step - loss: 7.2581 - mae: 7.2581\n",
            "Epoch 37/100\n",
            "1/1 [==============================] - 0s 10ms/step - loss: 7.2525 - mae: 7.2525\n",
            "Epoch 38/100\n",
            "1/1 [==============================] - 0s 11ms/step - loss: 7.2469 - mae: 7.2469\n",
            "Epoch 39/100\n",
            "1/1 [==============================] - 0s 12ms/step - loss: 7.2413 - mae: 7.2413\n",
            "Epoch 40/100\n",
            "1/1 [==============================] - 0s 12ms/step - loss: 7.2356 - mae: 7.2356\n",
            "Epoch 41/100\n",
            "1/1 [==============================] - 0s 11ms/step - loss: 7.2300 - mae: 7.2300\n",
            "Epoch 42/100\n",
            "1/1 [==============================] - 0s 13ms/step - loss: 7.2244 - mae: 7.2244\n",
            "Epoch 43/100\n",
            "1/1 [==============================] - 0s 23ms/step - loss: 7.2188 - mae: 7.2188\n",
            "Epoch 44/100\n",
            "1/1 [==============================] - 0s 13ms/step - loss: 7.2131 - mae: 7.2131\n",
            "Epoch 45/100\n",
            "1/1 [==============================] - 0s 20ms/step - loss: 7.2075 - mae: 7.2075\n",
            "Epoch 46/100\n",
            "1/1 [==============================] - 0s 23ms/step - loss: 7.2019 - mae: 7.2019\n",
            "Epoch 47/100\n",
            "1/1 [==============================] - 0s 13ms/step - loss: 7.1962 - mae: 7.1962\n",
            "Epoch 48/100\n",
            "1/1 [==============================] - 0s 12ms/step - loss: 7.1906 - mae: 7.1906\n",
            "Epoch 49/100\n",
            "1/1 [==============================] - 0s 15ms/step - loss: 7.1850 - mae: 7.1850\n",
            "Epoch 50/100\n",
            "1/1 [==============================] - 0s 49ms/step - loss: 7.1794 - mae: 7.1794\n",
            "Epoch 51/100\n",
            "1/1 [==============================] - 0s 30ms/step - loss: 7.1737 - mae: 7.1737\n",
            "Epoch 52/100\n",
            "1/1 [==============================] - 0s 11ms/step - loss: 7.1681 - mae: 7.1681\n",
            "Epoch 53/100\n",
            "1/1 [==============================] - 0s 17ms/step - loss: 7.1625 - mae: 7.1625\n",
            "Epoch 54/100\n",
            "1/1 [==============================] - 0s 16ms/step - loss: 7.1569 - mae: 7.1569\n",
            "Epoch 55/100\n",
            "1/1 [==============================] - 0s 23ms/step - loss: 7.1512 - mae: 7.1512\n",
            "Epoch 56/100\n",
            "1/1 [==============================] - 0s 37ms/step - loss: 7.1456 - mae: 7.1456\n",
            "Epoch 57/100\n",
            "1/1 [==============================] - 0s 12ms/step - loss: 7.1400 - mae: 7.1400\n",
            "Epoch 58/100\n",
            "1/1 [==============================] - 0s 15ms/step - loss: 7.1344 - mae: 7.1344\n",
            "Epoch 59/100\n",
            "1/1 [==============================] - 0s 12ms/step - loss: 7.1287 - mae: 7.1287\n",
            "Epoch 60/100\n",
            "1/1 [==============================] - 0s 11ms/step - loss: 7.1231 - mae: 7.1231\n",
            "Epoch 61/100\n",
            "1/1 [==============================] - 0s 11ms/step - loss: 7.1175 - mae: 7.1175\n",
            "Epoch 62/100\n",
            "1/1 [==============================] - 0s 28ms/step - loss: 7.1119 - mae: 7.1119\n",
            "Epoch 63/100\n",
            "1/1 [==============================] - 0s 24ms/step - loss: 7.1063 - mae: 7.1063\n",
            "Epoch 64/100\n",
            "1/1 [==============================] - 0s 26ms/step - loss: 7.1006 - mae: 7.1006\n",
            "Epoch 65/100\n",
            "1/1 [==============================] - 0s 18ms/step - loss: 7.0950 - mae: 7.0950\n",
            "Epoch 66/100\n",
            "1/1 [==============================] - 0s 30ms/step - loss: 7.0894 - mae: 7.0894\n",
            "Epoch 67/100\n",
            "1/1 [==============================] - 0s 18ms/step - loss: 7.0838 - mae: 7.0838\n",
            "Epoch 68/100\n",
            "1/1 [==============================] - 0s 15ms/step - loss: 7.0781 - mae: 7.0781\n",
            "Epoch 69/100\n",
            "1/1 [==============================] - 0s 14ms/step - loss: 7.0725 - mae: 7.0725\n",
            "Epoch 70/100\n",
            "1/1 [==============================] - 0s 14ms/step - loss: 7.0669 - mae: 7.0669\n",
            "Epoch 71/100\n",
            "1/1 [==============================] - 0s 16ms/step - loss: 7.0613 - mae: 7.0613\n",
            "Epoch 72/100\n",
            "1/1 [==============================] - 0s 14ms/step - loss: 7.0556 - mae: 7.0556\n",
            "Epoch 73/100\n",
            "1/1 [==============================] - 0s 14ms/step - loss: 7.0500 - mae: 7.0500\n",
            "Epoch 74/100\n",
            "1/1 [==============================] - 0s 15ms/step - loss: 7.0444 - mae: 7.0444\n",
            "Epoch 75/100\n",
            "1/1 [==============================] - 0s 14ms/step - loss: 7.0387 - mae: 7.0387\n",
            "Epoch 76/100\n",
            "1/1 [==============================] - 0s 13ms/step - loss: 7.0331 - mae: 7.0331\n",
            "Epoch 77/100\n",
            "1/1 [==============================] - 0s 23ms/step - loss: 7.0275 - mae: 7.0275\n",
            "Epoch 78/100\n",
            "1/1 [==============================] - 0s 22ms/step - loss: 7.0219 - mae: 7.0219\n",
            "Epoch 79/100\n",
            "1/1 [==============================] - 0s 20ms/step - loss: 7.0163 - mae: 7.0163\n",
            "Epoch 80/100\n",
            "1/1 [==============================] - 0s 21ms/step - loss: 7.0106 - mae: 7.0106\n",
            "Epoch 81/100\n",
            "1/1 [==============================] - 0s 34ms/step - loss: 7.0050 - mae: 7.0050\n",
            "Epoch 82/100\n",
            "1/1 [==============================] - 0s 24ms/step - loss: 6.9994 - mae: 6.9994\n",
            "Epoch 83/100\n",
            "1/1 [==============================] - 0s 11ms/step - loss: 6.9938 - mae: 6.9938\n",
            "Epoch 84/100\n",
            "1/1 [==============================] - 0s 12ms/step - loss: 6.9881 - mae: 6.9881\n",
            "Epoch 85/100\n",
            "1/1 [==============================] - 0s 12ms/step - loss: 6.9825 - mae: 6.9825\n",
            "Epoch 86/100\n",
            "1/1 [==============================] - 0s 13ms/step - loss: 6.9769 - mae: 6.9769\n",
            "Epoch 87/100\n",
            "1/1 [==============================] - 0s 22ms/step - loss: 6.9713 - mae: 6.9713\n",
            "Epoch 88/100\n",
            "1/1 [==============================] - 0s 53ms/step - loss: 6.9656 - mae: 6.9656\n",
            "Epoch 89/100\n",
            "1/1 [==============================] - 0s 15ms/step - loss: 6.9600 - mae: 6.9600\n",
            "Epoch 90/100\n",
            "1/1 [==============================] - 0s 12ms/step - loss: 6.9544 - mae: 6.9544\n",
            "Epoch 91/100\n",
            "1/1 [==============================] - 0s 13ms/step - loss: 6.9488 - mae: 6.9488\n",
            "Epoch 92/100\n",
            "1/1 [==============================] - 0s 18ms/step - loss: 6.9431 - mae: 6.9431\n",
            "Epoch 93/100\n",
            "1/1 [==============================] - 0s 13ms/step - loss: 6.9375 - mae: 6.9375\n",
            "Epoch 94/100\n",
            "1/1 [==============================] - 0s 12ms/step - loss: 6.9319 - mae: 6.9319\n",
            "Epoch 95/100\n",
            "1/1 [==============================] - 0s 12ms/step - loss: 6.9263 - mae: 6.9263\n",
            "Epoch 96/100\n",
            "1/1 [==============================] - 0s 12ms/step - loss: 6.9206 - mae: 6.9206\n",
            "Epoch 97/100\n",
            "1/1 [==============================] - 0s 15ms/step - loss: 6.9150 - mae: 6.9150\n",
            "Epoch 98/100\n",
            "1/1 [==============================] - 0s 18ms/step - loss: 6.9094 - mae: 6.9094\n",
            "Epoch 99/100\n",
            "1/1 [==============================] - 0s 21ms/step - loss: 6.9038 - mae: 6.9038\n",
            "Epoch 100/100\n",
            "1/1 [==============================] - 0s 19ms/step - loss: 6.8981 - mae: 6.8981\n"
          ]
        },
        {
          "output_type": "execute_result",
          "data": {
            "text/plain": [
              "<keras.src.callbacks.History at 0x78aa484c13c0>"
            ]
          },
          "metadata": {},
          "execution_count": 6
        }
      ]
    },
    {
      "cell_type": "code",
      "source": [
        "model.predict([17.0])"
      ],
      "metadata": {
        "colab": {
          "base_uri": "https://localhost:8080/"
        },
        "id": "7xBjD-b0tiGZ",
        "outputId": "031280dc-a707-49b2-b1fb-0ecd9b6c07ba"
      },
      "execution_count": null,
      "outputs": [
        {
          "output_type": "stream",
          "name": "stdout",
          "text": [
            "1/1 [==============================] - 0s 101ms/step\n"
          ]
        },
        {
          "output_type": "execute_result",
          "data": {
            "text/plain": [
              "array([[30.15884]], dtype=float32)"
            ]
          },
          "metadata": {},
          "execution_count": 7
        }
      ]
    },
    {
      "cell_type": "code",
      "source": [
        "# Let's work on more complex model\n",
        "model = tf.keras.Sequential()\n",
        "\n",
        "model.add(tf.keras.layers.Dense(10, activation = \"relu\"))\n",
        "model.add(tf.keras.layers.Dense(1))\n",
        "\n",
        "model.compile(loss = tf.keras.losses.mae,\n",
        "              optimizer = tf.keras.optimizers.SGD(),\n",
        "              metrics = [\"mae\"])\n",
        "\n",
        "model.fit(tf.expand_dims(X,axis = -1),y,epochs = 100)\n"
      ],
      "metadata": {
        "colab": {
          "base_uri": "https://localhost:8080/"
        },
        "id": "j8YBlvpoh_VN",
        "outputId": "ff02c76a-d989-4134-ae47-e1193c511f1e"
      },
      "execution_count": null,
      "outputs": [
        {
          "output_type": "stream",
          "name": "stdout",
          "text": [
            "Epoch 1/100\n",
            "1/1 [==============================] - 1s 1s/step - loss: 11.8810 - mae: 11.8810\n",
            "Epoch 2/100\n",
            "1/1 [==============================] - 0s 21ms/step - loss: 11.0764 - mae: 11.0764\n",
            "Epoch 3/100\n",
            "1/1 [==============================] - 0s 14ms/step - loss: 10.2525 - mae: 10.2525\n",
            "Epoch 4/100\n",
            "1/1 [==============================] - 0s 12ms/step - loss: 9.4012 - mae: 9.4012\n",
            "Epoch 5/100\n",
            "1/1 [==============================] - 0s 12ms/step - loss: 8.5142 - mae: 8.5142\n",
            "Epoch 6/100\n",
            "1/1 [==============================] - 0s 12ms/step - loss: 7.6124 - mae: 7.6124\n",
            "Epoch 7/100\n",
            "1/1 [==============================] - 0s 23ms/step - loss: 6.7619 - mae: 6.7619\n",
            "Epoch 8/100\n",
            "1/1 [==============================] - 0s 19ms/step - loss: 5.9476 - mae: 5.9476\n",
            "Epoch 9/100\n",
            "1/1 [==============================] - 0s 26ms/step - loss: 5.0403 - mae: 5.0403\n",
            "Epoch 10/100\n",
            "1/1 [==============================] - 0s 29ms/step - loss: 4.4785 - mae: 4.4785\n",
            "Epoch 11/100\n",
            "1/1 [==============================] - 0s 24ms/step - loss: 4.3729 - mae: 4.3729\n",
            "Epoch 12/100\n",
            "1/1 [==============================] - 0s 21ms/step - loss: 4.4120 - mae: 4.4120\n",
            "Epoch 13/100\n",
            "1/1 [==============================] - 0s 17ms/step - loss: 4.3385 - mae: 4.3385\n",
            "Epoch 14/100\n",
            "1/1 [==============================] - 0s 16ms/step - loss: 4.3914 - mae: 4.3914\n",
            "Epoch 15/100\n",
            "1/1 [==============================] - 0s 25ms/step - loss: 4.3267 - mae: 4.3267\n",
            "Epoch 16/100\n",
            "1/1 [==============================] - 0s 14ms/step - loss: 4.3474 - mae: 4.3474\n",
            "Epoch 17/100\n",
            "1/1 [==============================] - 0s 14ms/step - loss: 4.3142 - mae: 4.3142\n",
            "Epoch 18/100\n",
            "1/1 [==============================] - 0s 10ms/step - loss: 4.3023 - mae: 4.3023\n",
            "Epoch 19/100\n",
            "1/1 [==============================] - 0s 22ms/step - loss: 4.3009 - mae: 4.3009\n",
            "Epoch 20/100\n",
            "1/1 [==============================] - 0s 13ms/step - loss: 4.2561 - mae: 4.2561\n",
            "Epoch 21/100\n",
            "1/1 [==============================] - 0s 12ms/step - loss: 4.2867 - mae: 4.2867\n",
            "Epoch 22/100\n",
            "1/1 [==============================] - 0s 12ms/step - loss: 4.2116 - mae: 4.2116\n",
            "Epoch 23/100\n",
            "1/1 [==============================] - 0s 11ms/step - loss: 4.2678 - mae: 4.2678\n",
            "Epoch 24/100\n",
            "1/1 [==============================] - 0s 17ms/step - loss: 4.1956 - mae: 4.1956\n",
            "Epoch 25/100\n",
            "1/1 [==============================] - 0s 18ms/step - loss: 4.2190 - mae: 4.2190\n",
            "Epoch 26/100\n",
            "1/1 [==============================] - 0s 27ms/step - loss: 4.1786 - mae: 4.1786\n",
            "Epoch 27/100\n",
            "1/1 [==============================] - 0s 16ms/step - loss: 4.1688 - mae: 4.1688\n",
            "Epoch 28/100\n",
            "1/1 [==============================] - 0s 18ms/step - loss: 4.1604 - mae: 4.1604\n",
            "Epoch 29/100\n",
            "1/1 [==============================] - 0s 16ms/step - loss: 4.1172 - mae: 4.1172\n",
            "Epoch 30/100\n",
            "1/1 [==============================] - 0s 13ms/step - loss: 4.1410 - mae: 4.1410\n",
            "Epoch 31/100\n",
            "1/1 [==============================] - 0s 13ms/step - loss: 4.0640 - mae: 4.0640\n",
            "Epoch 32/100\n",
            "1/1 [==============================] - 0s 13ms/step - loss: 4.1202 - mae: 4.1202\n",
            "Epoch 33/100\n",
            "1/1 [==============================] - 0s 16ms/step - loss: 4.0417 - mae: 4.0417\n",
            "Epoch 34/100\n",
            "1/1 [==============================] - 0s 14ms/step - loss: 4.0645 - mae: 4.0645\n",
            "Epoch 35/100\n",
            "1/1 [==============================] - 0s 14ms/step - loss: 4.0184 - mae: 4.0184\n",
            "Epoch 36/100\n",
            "1/1 [==============================] - 0s 14ms/step - loss: 4.0075 - mae: 4.0075\n",
            "Epoch 37/100\n",
            "1/1 [==============================] - 0s 16ms/step - loss: 3.9936 - mae: 3.9936\n",
            "Epoch 38/100\n",
            "1/1 [==============================] - 0s 13ms/step - loss: 3.9485 - mae: 3.9485\n",
            "Epoch 39/100\n",
            "1/1 [==============================] - 0s 14ms/step - loss: 3.9671 - mae: 3.9671\n",
            "Epoch 40/100\n",
            "1/1 [==============================] - 0s 38ms/step - loss: 3.8875 - mae: 3.8875\n",
            "Epoch 41/100\n",
            "1/1 [==============================] - 0s 30ms/step - loss: 3.9387 - mae: 3.9387\n",
            "Epoch 42/100\n",
            "1/1 [==============================] - 0s 17ms/step - loss: 3.8564 - mae: 3.8564\n",
            "Epoch 43/100\n",
            "1/1 [==============================] - 0s 12ms/step - loss: 3.8753 - mae: 3.8753\n",
            "Epoch 44/100\n",
            "1/1 [==============================] - 0s 13ms/step - loss: 3.8405 - mae: 3.8405\n",
            "Epoch 45/100\n",
            "1/1 [==============================] - 0s 15ms/step - loss: 3.8461 - mae: 3.8461\n",
            "Epoch 46/100\n",
            "1/1 [==============================] - 0s 17ms/step - loss: 3.8493 - mae: 3.8493\n",
            "Epoch 47/100\n",
            "1/1 [==============================] - 0s 13ms/step - loss: 3.8224 - mae: 3.8224\n",
            "Epoch 48/100\n",
            "1/1 [==============================] - 0s 12ms/step - loss: 3.8581 - mae: 3.8581\n",
            "Epoch 49/100\n",
            "1/1 [==============================] - 0s 40ms/step - loss: 3.7985 - mae: 3.7985\n",
            "Epoch 50/100\n",
            "1/1 [==============================] - 0s 14ms/step - loss: 3.8671 - mae: 3.8671\n",
            "Epoch 51/100\n",
            "1/1 [==============================] - 0s 15ms/step - loss: 3.8048 - mae: 3.8048\n",
            "Epoch 52/100\n",
            "1/1 [==============================] - 0s 17ms/step - loss: 3.8475 - mae: 3.8475\n",
            "Epoch 53/100\n",
            "1/1 [==============================] - 0s 16ms/step - loss: 3.8156 - mae: 3.8156\n",
            "Epoch 54/100\n",
            "1/1 [==============================] - 0s 14ms/step - loss: 3.8236 - mae: 3.8236\n",
            "Epoch 55/100\n",
            "1/1 [==============================] - 0s 14ms/step - loss: 3.8246 - mae: 3.8246\n",
            "Epoch 56/100\n",
            "1/1 [==============================] - 0s 13ms/step - loss: 3.7996 - mae: 3.7996\n",
            "Epoch 57/100\n",
            "1/1 [==============================] - 0s 13ms/step - loss: 3.8336 - mae: 3.8336\n",
            "Epoch 58/100\n",
            "1/1 [==============================] - 0s 14ms/step - loss: 3.7755 - mae: 3.7755\n",
            "Epoch 59/100\n",
            "1/1 [==============================] - 0s 13ms/step - loss: 3.8428 - mae: 3.8428\n",
            "Epoch 60/100\n",
            "1/1 [==============================] - 0s 13ms/step - loss: 3.7802 - mae: 3.7802\n",
            "Epoch 61/100\n",
            "1/1 [==============================] - 0s 14ms/step - loss: 3.8220 - mae: 3.8220\n",
            "Epoch 62/100\n",
            "1/1 [==============================] - 0s 15ms/step - loss: 3.7897 - mae: 3.7897\n",
            "Epoch 63/100\n",
            "1/1 [==============================] - 0s 14ms/step - loss: 3.7998 - mae: 3.7998\n",
            "Epoch 64/100\n",
            "1/1 [==============================] - 0s 39ms/step - loss: 3.8009 - mae: 3.8009\n",
            "Epoch 65/100\n",
            "1/1 [==============================] - 0s 15ms/step - loss: 3.7755 - mae: 3.7755\n",
            "Epoch 66/100\n",
            "1/1 [==============================] - 0s 28ms/step - loss: 3.8102 - mae: 3.8102\n",
            "Epoch 67/100\n",
            "1/1 [==============================] - 0s 22ms/step - loss: 3.7511 - mae: 3.7511\n",
            "Epoch 68/100\n",
            "1/1 [==============================] - 0s 18ms/step - loss: 3.8196 - mae: 3.8196\n",
            "Epoch 69/100\n",
            "1/1 [==============================] - 0s 18ms/step - loss: 3.7574 - mae: 3.7574\n",
            "Epoch 70/100\n",
            "1/1 [==============================] - 0s 16ms/step - loss: 3.7973 - mae: 3.7973\n",
            "Epoch 71/100\n",
            "1/1 [==============================] - 0s 13ms/step - loss: 3.7666 - mae: 3.7666\n",
            "Epoch 72/100\n",
            "1/1 [==============================] - 0s 31ms/step - loss: 3.7729 - mae: 3.7729\n",
            "Epoch 73/100\n",
            "1/1 [==============================] - 0s 26ms/step - loss: 3.7760 - mae: 3.7760\n",
            "Epoch 74/100\n",
            "1/1 [==============================] - 0s 25ms/step - loss: 3.7506 - mae: 3.7506\n",
            "Epoch 75/100\n",
            "1/1 [==============================] - 0s 28ms/step - loss: 3.7879 - mae: 3.7879\n",
            "Epoch 76/100\n",
            "1/1 [==============================] - 0s 26ms/step - loss: 3.7262 - mae: 3.7262\n",
            "Epoch 77/100\n",
            "1/1 [==============================] - 0s 22ms/step - loss: 3.7957 - mae: 3.7957\n",
            "Epoch 78/100\n",
            "1/1 [==============================] - 0s 21ms/step - loss: 3.7356 - mae: 3.7356\n",
            "Epoch 79/100\n",
            "1/1 [==============================] - 0s 44ms/step - loss: 3.7712 - mae: 3.7712\n",
            "Epoch 80/100\n",
            "1/1 [==============================] - 0s 13ms/step - loss: 3.7450 - mae: 3.7450\n",
            "Epoch 81/100\n",
            "1/1 [==============================] - 0s 13ms/step - loss: 3.7465 - mae: 3.7465\n",
            "Epoch 82/100\n",
            "1/1 [==============================] - 0s 28ms/step - loss: 3.7546 - mae: 3.7546\n",
            "Epoch 83/100\n",
            "1/1 [==============================] - 0s 16ms/step - loss: 3.7217 - mae: 3.7217\n",
            "Epoch 84/100\n",
            "1/1 [==============================] - 0s 11ms/step - loss: 3.7643 - mae: 3.7643\n",
            "Epoch 85/100\n",
            "1/1 [==============================] - 0s 23ms/step - loss: 3.7042 - mae: 3.7042\n",
            "Epoch 86/100\n",
            "1/1 [==============================] - 0s 22ms/step - loss: 3.7687 - mae: 3.7687\n",
            "Epoch 87/100\n",
            "1/1 [==============================] - 0s 30ms/step - loss: 3.7148 - mae: 3.7148\n",
            "Epoch 88/100\n",
            "1/1 [==============================] - 0s 25ms/step - loss: 3.7439 - mae: 3.7439\n",
            "Epoch 89/100\n",
            "1/1 [==============================] - 0s 18ms/step - loss: 3.7244 - mae: 3.7244\n",
            "Epoch 90/100\n",
            "1/1 [==============================] - 0s 18ms/step - loss: 3.7189 - mae: 3.7189\n",
            "Epoch 91/100\n",
            "1/1 [==============================] - 0s 14ms/step - loss: 3.7342 - mae: 3.7342\n",
            "Epoch 92/100\n",
            "1/1 [==============================] - 0s 36ms/step - loss: 3.6937 - mae: 3.6937\n",
            "Epoch 93/100\n",
            "1/1 [==============================] - 0s 39ms/step - loss: 3.7441 - mae: 3.7441\n",
            "Epoch 94/100\n",
            "1/1 [==============================] - 0s 23ms/step - loss: 3.6829 - mae: 3.6829\n",
            "Epoch 95/100\n",
            "1/1 [==============================] - 0s 34ms/step - loss: 3.7386 - mae: 3.7386\n",
            "Epoch 96/100\n",
            "1/1 [==============================] - 0s 18ms/step - loss: 3.6927 - mae: 3.6927\n",
            "Epoch 97/100\n",
            "1/1 [==============================] - 0s 15ms/step - loss: 3.7152 - mae: 3.7152\n",
            "Epoch 98/100\n",
            "1/1 [==============================] - 0s 13ms/step - loss: 3.7049 - mae: 3.7049\n",
            "Epoch 99/100\n",
            "1/1 [==============================] - 0s 12ms/step - loss: 3.6899 - mae: 3.6899\n",
            "Epoch 100/100\n",
            "1/1 [==============================] - 0s 13ms/step - loss: 3.7149 - mae: 3.7149\n"
          ]
        },
        {
          "output_type": "execute_result",
          "data": {
            "text/plain": [
              "<keras.src.callbacks.History at 0x78aa48356680>"
            ]
          },
          "metadata": {},
          "execution_count": 8
        }
      ]
    },
    {
      "cell_type": "code",
      "source": [
        "model.predict([17.0])"
      ],
      "metadata": {
        "colab": {
          "base_uri": "https://localhost:8080/"
        },
        "id": "sQ_dl81JjhcI",
        "outputId": "3c0b5635-80f2-4350-d547-7e8cecac46ab"
      },
      "execution_count": null,
      "outputs": [
        {
          "output_type": "stream",
          "name": "stdout",
          "text": [
            "1/1 [==============================] - 0s 192ms/step\n"
          ]
        },
        {
          "output_type": "execute_result",
          "data": {
            "text/plain": [
              "array([[31.842981]], dtype=float32)"
            ]
          },
          "metadata": {},
          "execution_count": 9
        }
      ]
    },
    {
      "cell_type": "markdown",
      "source": [
        "## Evaluating a model\n",
        "\n",
        "It's a good idea to visualize:\n",
        "\n",
        "* **The data**- what data are you working with? What does it look like?\n",
        "* **The model itself** - what does the architecture look like? What are the different shapes?\n",
        "* **The training of a model** - how does a model perform while it learns?\n",
        "* **The predictions of a model** - how do the predictions of a model line up against the ground truth (the original labels)?\n",
        "\n",
        "Let's start by visualizing the model."
      ],
      "metadata": {
        "id": "c43Yon_WjwoV"
      }
    },
    {
      "cell_type": "code",
      "source": [
        "X = np.arange(-100,100,4)\n",
        "X"
      ],
      "metadata": {
        "colab": {
          "base_uri": "https://localhost:8080/"
        },
        "id": "hMIpVEWOkKRd",
        "outputId": "604d688b-1d06-4f95-eff5-9d841bff7e46"
      },
      "execution_count": null,
      "outputs": [
        {
          "output_type": "execute_result",
          "data": {
            "text/plain": [
              "array([-100,  -96,  -92,  -88,  -84,  -80,  -76,  -72,  -68,  -64,  -60,\n",
              "        -56,  -52,  -48,  -44,  -40,  -36,  -32,  -28,  -24,  -20,  -16,\n",
              "        -12,   -8,   -4,    0,    4,    8,   12,   16,   20,   24,   28,\n",
              "         32,   36,   40,   44,   48,   52,   56,   60,   64,   68,   72,\n",
              "         76,   80,   84,   88,   92,   96])"
            ]
          },
          "metadata": {},
          "execution_count": 10
        }
      ]
    },
    {
      "cell_type": "code",
      "source": [
        "y = np.arange(-90,110,4)\n",
        "y"
      ],
      "metadata": {
        "colab": {
          "base_uri": "https://localhost:8080/"
        },
        "id": "MzFBMdgQkPhL",
        "outputId": "792a477e-876b-41ec-812c-72adc3b7a8af"
      },
      "execution_count": null,
      "outputs": [
        {
          "output_type": "execute_result",
          "data": {
            "text/plain": [
              "array([-90, -86, -82, -78, -74, -70, -66, -62, -58, -54, -50, -46, -42,\n",
              "       -38, -34, -30, -26, -22, -18, -14, -10,  -6,  -2,   2,   6,  10,\n",
              "        14,  18,  22,  26,  30,  34,  38,  42,  46,  50,  54,  58,  62,\n",
              "        66,  70,  74,  78,  82,  86,  90,  94,  98, 102, 106])"
            ]
          },
          "metadata": {},
          "execution_count": 11
        }
      ]
    },
    {
      "cell_type": "code",
      "source": [
        "y = X + 10\n",
        "\n",
        "y"
      ],
      "metadata": {
        "colab": {
          "base_uri": "https://localhost:8080/"
        },
        "id": "AaZSF1wNkUjs",
        "outputId": "ba642701-7a1c-49f4-bd59-614b36e00649"
      },
      "execution_count": null,
      "outputs": [
        {
          "output_type": "execute_result",
          "data": {
            "text/plain": [
              "array([-90, -86, -82, -78, -74, -70, -66, -62, -58, -54, -50, -46, -42,\n",
              "       -38, -34, -30, -26, -22, -18, -14, -10,  -6,  -2,   2,   6,  10,\n",
              "        14,  18,  22,  26,  30,  34,  38,  42,  46,  50,  54,  58,  62,\n",
              "        66,  70,  74,  78,  82,  86,  90,  94,  98, 102, 106])"
            ]
          },
          "metadata": {},
          "execution_count": 12
        }
      ]
    },
    {
      "cell_type": "markdown",
      "source": [
        "## Split data into training/test set\n",
        "\n",
        "One of the other most common and important steps in a machine learning project is creating a training and test set (and when required, a validation set).\n",
        "\n",
        "Each set serves a specific purpose:\n",
        "\n",
        "* **Training set** - the model learns from this data, which is typically 70-80% of the total data available (like the course materials you study during the semester).\n",
        "* **Validation set** - the model gets tuned on this data, which is typically 10-15% of the total data available (like the practice exam you take before the final exam).\n",
        "* **Test set** - the model gets evaluated on this data to test what it has learned, it's typically 10-15% of the total data available (like the final exam you take at the end of the semester)\n",
        "\n",
        "🔑 **Note**: When dealing with real-world data, this step is typically done right at the start of a project (the test set should always be kept separate from all other data). We want our model to learn on training data and then evaluate it on test data to get an indication of how well it **generalizes** to unseen examples.\n"
      ],
      "metadata": {
        "id": "_fOF9q7hkepR"
      }
    },
    {
      "cell_type": "code",
      "source": [
        "len(X),len(y)"
      ],
      "metadata": {
        "colab": {
          "base_uri": "https://localhost:8080/"
        },
        "id": "2BAaj495kwbn",
        "outputId": "f0f2c57b-3a1f-4474-a717-e91d5a197760"
      },
      "execution_count": null,
      "outputs": [
        {
          "output_type": "execute_result",
          "data": {
            "text/plain": [
              "(50, 50)"
            ]
          },
          "metadata": {},
          "execution_count": 13
        }
      ]
    },
    {
      "cell_type": "code",
      "source": [
        "X_train = X[:40]\n",
        "X_test = X[40:]\n",
        "\n",
        "y_train = y[:40]\n",
        "y_test = y[40:]"
      ],
      "metadata": {
        "id": "V7L5TVwskyPC"
      },
      "execution_count": null,
      "outputs": []
    },
    {
      "cell_type": "code",
      "source": [
        "len(X_train),len(X_test),len(y_train),len(y_test)"
      ],
      "metadata": {
        "colab": {
          "base_uri": "https://localhost:8080/"
        },
        "id": "o8iIoIbGlEqm",
        "outputId": "e03d807c-8a78-41a7-8d22-46aa8af42557"
      },
      "execution_count": null,
      "outputs": [
        {
          "output_type": "execute_result",
          "data": {
            "text/plain": [
              "(40, 10, 40, 10)"
            ]
          },
          "metadata": {},
          "execution_count": 15
        }
      ]
    },
    {
      "cell_type": "markdown",
      "source": [
        "## Visualizing the data\n",
        "\n",
        "Now we've got our training and test data, it's a good idea to visualize it."
      ],
      "metadata": {
        "id": "jba-7k7MlNqi"
      }
    },
    {
      "cell_type": "code",
      "source": [
        "plt.figure(figsize=(11,5))\n",
        "\n",
        "plt.scatter(X_train,y_train,color = \"blue\", label = \"Training Data\")\n",
        "\n",
        "plt.scatter(X_test,y_test, color = \"green\", label = \"Testing Data\")\n",
        "\n",
        "plt.legend()\n",
        "\n",
        "plt.show()\n"
      ],
      "metadata": {
        "colab": {
          "base_uri": "https://localhost:8080/",
          "height": 445
        },
        "id": "RkTiw19FlL3-",
        "outputId": "cf6d2f4e-abb2-474d-9bf9-ad6ab5cc7d51"
      },
      "execution_count": null,
      "outputs": [
        {
          "output_type": "display_data",
          "data": {
            "text/plain": [
              "<Figure size 1100x500 with 1 Axes>"
            ],
            "image/png": "[encoded data removed]"
          },
          "metadata": {}
        }
      ]
    },
    {
      "cell_type": "code",
      "source": [
        "tf.random.set_seed(42)\n",
        "\n",
        "model = tf.keras.Sequential()\n",
        "\n",
        "model.add(tf.keras.layers.Dense(1,input_shape = [1]))\n",
        "\n",
        "model.compile(loss = tf.keras.losses.mae,\n",
        "              optimizer = tf.keras.optimizers.SGD(),\n",
        "              metrics = [\"mae\"])"
      ],
      "metadata": {
        "id": "pHe4NvZymbzK"
      },
      "execution_count": null,
      "outputs": []
    },
    {
      "cell_type": "code",
      "source": [
        "model.summary()"
      ],
      "metadata": {
        "id": "slXaqkC2muXR",
        "colab": {
          "base_uri": "https://localhost:8080/"
        },
        "outputId": "f2ab9161-66c9-4dbf-e412-683d462674f0"
      },
      "execution_count": null,
      "outputs": [
        {
          "output_type": "stream",
          "name": "stdout",
          "text": [
            "Model: \"sequential_4\"\n",
            "_________________________________________________________________\n",
            " Layer (type)                Output Shape              Param #   \n",
            "=================================================================\n",
            " dense_5 (Dense)             (None, 1)                 2         \n",
            "                                                                 \n",
            "=================================================================\n",
            "Total params: 2 (8.00 Byte)\n",
            "Trainable params: 2 (8.00 Byte)\n",
            "Non-trainable params: 0 (0.00 Byte)\n",
            "_________________________________________________________________\n"
          ]
        }
      ]
    },
    {
      "cell_type": "markdown",
      "source": [
        "Calling summary() on our model shows us the layers it contains, the output shape and the number of parameters.\n",
        "\n",
        "* **Total params** - total number of parameters in the model.\n",
        "* **Trainable parameters** - these are the parameters (patterns) the model can update as it trains.\n",
        "* **Non-trainable parameters** - these parameters aren't updated during training (this is typical when you bring in the already learned patterns from other models during transfer learning)."
      ],
      "metadata": {
        "id": "w4A-3Ypkmx2U"
      }
    },
    {
      "cell_type": "code",
      "source": [
        "model.fit(X_train, y_train, epochs = 100, verbose = 0)"
      ],
      "metadata": {
        "id": "DJTJmgYum4hi",
        "colab": {
          "base_uri": "https://localhost:8080/"
        },
        "outputId": "c47c94dd-69a9-4cc2-a503-b52206dd0b2e"
      },
      "execution_count": null,
      "outputs": [
        {
          "output_type": "execute_result",
          "data": {
            "text/plain": [
              "<keras.src.callbacks.History at 0x78aa490a8b50>"
            ]
          },
          "metadata": {},
          "execution_count": 21
        }
      ]
    },
    {
      "cell_type": "code",
      "source": [
        "model.summary()"
      ],
      "metadata": {
        "id": "yrX89NqXnI6b",
        "colab": {
          "base_uri": "https://localhost:8080/"
        },
        "outputId": "66fa28ec-c89b-4062-d4ad-671981a9ee3d"
      },
      "execution_count": null,
      "outputs": [
        {
          "output_type": "stream",
          "name": "stdout",
          "text": [
            "Model: \"sequential_4\"\n",
            "_________________________________________________________________\n",
            " Layer (type)                Output Shape              Param #   \n",
            "=================================================================\n",
            " dense_5 (Dense)             (None, 1)                 2         \n",
            "                                                                 \n",
            "=================================================================\n",
            "Total params: 2 (8.00 Byte)\n",
            "Trainable params: 2 (8.00 Byte)\n",
            "Non-trainable params: 0 (0.00 Byte)\n",
            "_________________________________________________________________\n"
          ]
        }
      ]
    },
    {
      "cell_type": "code",
      "source": [
        "from tensorflow.keras.utils import plot_model\n",
        "\n",
        "plot_model(model,show_shapes = True)\n"
      ],
      "metadata": {
        "id": "AmJl_MawnMZP",
        "colab": {
          "base_uri": "https://localhost:8080/",
          "height": 201
        },
        "outputId": "e49f80ca-1dd1-4f86-c7f5-53f5b1695d49"
      },
      "execution_count": null,
      "outputs": [
        {
          "output_type": "execute_result",
          "data": {
            "image/png": "[encoded data removed]",
            "text/plain": [
              "<IPython.core.display.Image object>"
            ]
          },
          "metadata": {},
          "execution_count": 23
        }
      ]
    },
    {
      "cell_type": "markdown",
      "source": [
        "## Visualizing the predictions\n",
        "Now we've got a trained model, let's visualize some predictions.\n",
        "\n",
        "To visualize predictions, it's always a good idea to plot them against the ground truth labels.\n",
        "\n",
        "Often you'll see this in the form of y_test vs. y_pred (ground truth vs. predictions).\n",
        "\n",
        "First, we'll make some predictions on the test data (X_test), remember the model has never seen the test data."
      ],
      "metadata": {
        "id": "txnlj1Hcp9od"
      }
    },
    {
      "cell_type": "code",
      "source": [
        "y_preds = model.predict(X_test)"
      ],
      "metadata": {
        "id": "JXv_CF72p6WE",
        "colab": {
          "base_uri": "https://localhost:8080/"
        },
        "outputId": "8e3b6382-428d-45cd-ec51-89bb24aeb913"
      },
      "execution_count": null,
      "outputs": [
        {
          "output_type": "stream",
          "name": "stdout",
          "text": [
            "1/1 [==============================] - 0s 45ms/step\n"
          ]
        }
      ]
    },
    {
      "cell_type": "code",
      "source": [
        "y_preds"
      ],
      "metadata": {
        "id": "IeB3VL-7qEcG",
        "colab": {
          "base_uri": "https://localhost:8080/"
        },
        "outputId": "eddd83d8-c107-4c31-d3bc-eeca7ae760f3"
      },
      "execution_count": null,
      "outputs": [
        {
          "output_type": "execute_result",
          "data": {
            "text/plain": [
              "array([[44.483147],\n",
              "       [47.36165 ],\n",
              "       [50.24015 ],\n",
              "       [53.118652],\n",
              "       [55.997154],\n",
              "       [58.875656],\n",
              "       [61.754154],\n",
              "       [64.63265 ],\n",
              "       [67.51116 ],\n",
              "       [70.389656]], dtype=float32)"
            ]
          },
          "metadata": {},
          "execution_count": 25
        }
      ]
    },
    {
      "cell_type": "code",
      "source": [
        "def plot_predictions(train_data, train_labels, test_data, test_labels, predictions):\n",
        "  plt.figure(figsize = (8,8))\n",
        "\n",
        "  plt.scatter(train_data, train_labels, color = \"green\", label = \"Traninig Data\")\n",
        "\n",
        "  plt.scatter(test_data, test_labels, color = \"blue\", label = \"Testing Data\")\n",
        "\n",
        "  plt.scatter(test_data, predictions, color = \"red\", label = \"Predictions\")\n",
        "\n",
        "  plt.legend()\n",
        "\n",
        "  plt.show()\n"
      ],
      "metadata": {
        "id": "ChFKTOA1qJLu"
      },
      "execution_count": null,
      "outputs": []
    },
    {
      "cell_type": "code",
      "source": [
        "plot_predictions(X_train, y_train, X_test, y_test, y_preds)"
      ],
      "metadata": {
        "id": "H4HrytiHq8RF",
        "colab": {
          "base_uri": "https://localhost:8080/",
          "height": 676
        },
        "outputId": "04168d9c-4555-4b69-bc71-7e279b3d8930"
      },
      "execution_count": null,
      "outputs": [
        {
          "output_type": "display_data",
          "data": {
            "text/plain": [
              "<Figure size 800x800 with 1 Axes>"
            ],
            "image/png": "[encoded data removed]"
          },
          "metadata": {}
        }
      ]
    },
    {
      "cell_type": "markdown",
      "source": [
        "## Evaluating predictions\n",
        "Alongisde visualizations, evaulation metrics are your alternative best option for evaluating your model.\n",
        "\n",
        "Depending on the problem you're working on, different models have different evaluation metrics.\n",
        "\n",
        "Two of the main metrics used for regression problems are:\n",
        "\n",
        "* **Mean absolute error (MAE)** - the mean difference between each of the predictions.\n",
        "* **Mean squared error (MSE)** - the squared mean difference between of the predictions (use if larger errors are more detrimental than smaller errors).\n",
        "The lower each of these values, the better.\n",
        "\n",
        "You can also use model.evaluate() which will return the loss of the model as well as any metrics setup during the compile ste"
      ],
      "metadata": {
        "id": "oeyREJVUrREb"
      }
    },
    {
      "cell_type": "code",
      "source": [
        "model.evaluate(X_test, y_test)"
      ],
      "metadata": {
        "id": "_Sz14fHArQRG",
        "colab": {
          "base_uri": "https://localhost:8080/"
        },
        "outputId": "5b13fbf8-c314-4c22-b35d-c5d2073d0438"
      },
      "execution_count": null,
      "outputs": [
        {
          "output_type": "stream",
          "name": "stdout",
          "text": [
            "1/1 [==============================] - 0s 160ms/step - loss: 30.5636 - mae: 30.5636\n"
          ]
        },
        {
          "output_type": "execute_result",
          "data": {
            "text/plain": [
              "[30.563594818115234, 30.563594818115234]"
            ]
          },
          "metadata": {},
          "execution_count": 28
        }
      ]
    },
    {
      "cell_type": "code",
      "source": [
        "# Mean Absolute error\n",
        "mae = tf.metrics.mean_absolute_error(y_test, y_preds)\n",
        "\n",
        "mae"
      ],
      "metadata": {
        "id": "V46JgumHrbc1",
        "colab": {
          "base_uri": "https://localhost:8080/"
        },
        "outputId": "98b86a0a-84e3-4f73-e434-c9f764b496ec"
      },
      "execution_count": null,
      "outputs": [
        {
          "output_type": "execute_result",
          "data": {
            "text/plain": [
              "<tf.Tensor: shape=(10,), dtype=float32, numpy=\n",
              "array([43.516853, 40.63835 , 37.75985 , 34.881348, 32.002846, 29.124344,\n",
              "       26.245846, 23.367348, 20.488838, 17.688274], dtype=float32)>"
            ]
          },
          "metadata": {},
          "execution_count": 29
        }
      ]
    },
    {
      "cell_type": "markdown",
      "source": [
        "Huh? That's strange, MAE should be a single output.\n",
        "\n",
        "Instead, we get 10 values.\n",
        "\n",
        "This is because our y_test and y_preds tensors are different shapes.\n",
        "\n",
        "Remember how we discussed dealing with different input and output shapes is one the most common issues you'll come across, this is one of those times.\n",
        "\n",
        "But not to worry.\n",
        "\n",
        "We can fix it using squeeze(), it'll remove the the 1 dimension from our y_preds tensor, making it the same shape as y_test.\n",
        "\n",
        "🔑 Note: If you're comparing two tensors, it's important to make sure they're the right shape(s) (you won't always have to manipulate the shapes, but always be on the look out, many errors are the result of mismatched tensors, especially mismatched input and output shapes)"
      ],
      "metadata": {
        "id": "nmgn3bvorxK6"
      }
    },
    {
      "cell_type": "code",
      "source": [
        "y_test.shape,y_preds.shape"
      ],
      "metadata": {
        "id": "jAsUzmjFryyu",
        "colab": {
          "base_uri": "https://localhost:8080/"
        },
        "outputId": "e6a432d9-2e08-4e12-9610-7bcb31297d2d"
      },
      "execution_count": null,
      "outputs": [
        {
          "output_type": "execute_result",
          "data": {
            "text/plain": [
              "((10,), (10, 1))"
            ]
          },
          "metadata": {},
          "execution_count": 30
        }
      ]
    },
    {
      "cell_type": "code",
      "source": [
        "y_test.shape,y_preds.squeeze().shape"
      ],
      "metadata": {
        "id": "-cbJO7sQr_WD",
        "colab": {
          "base_uri": "https://localhost:8080/"
        },
        "outputId": "bab45dcd-8b35-42f7-ff86-36f593fdf0f5"
      },
      "execution_count": null,
      "outputs": [
        {
          "output_type": "execute_result",
          "data": {
            "text/plain": [
              "((10,), (10,))"
            ]
          },
          "metadata": {},
          "execution_count": 31
        }
      ]
    },
    {
      "cell_type": "code",
      "source": [
        "mae = tf.metrics.mean_absolute_error(y_test, y_preds.squeeze().shape)\n",
        "\n",
        "mae"
      ],
      "metadata": {
        "id": "VYt3XcRhsEzT",
        "colab": {
          "base_uri": "https://localhost:8080/"
        },
        "outputId": "80c471f7-c7b0-48f1-cd03-2eabfc132bb8"
      },
      "execution_count": null,
      "outputs": [
        {
          "output_type": "execute_result",
          "data": {
            "text/plain": [
              "<tf.Tensor: shape=(), dtype=int32, numpy=78>"
            ]
          },
          "metadata": {},
          "execution_count": 32
        }
      ]
    },
    {
      "cell_type": "code",
      "source": [
        "# Calculate the Mean Squared Eroor\n",
        "mse = tf.metrics.mean_squared_error(y_true=y_test,\n",
        "                                    y_pred=y_preds.squeeze())\n",
        "mse"
      ],
      "metadata": {
        "id": "OTDXi4jbsO_c",
        "colab": {
          "base_uri": "https://localhost:8080/"
        },
        "outputId": "a551bc15-8797-4271-8502-8de23e933632"
      },
      "execution_count": null,
      "outputs": [
        {
          "output_type": "execute_result",
          "data": {
            "text/plain": [
              "<tf.Tensor: shape=(), dtype=float32, numpy=944.50995>"
            ]
          },
          "metadata": {},
          "execution_count": 33
        }
      ]
    },
    {
      "cell_type": "markdown",
      "source": [],
      "metadata": {
        "id": "ea93xUDNKqZh"
      }
    },
    {
      "cell_type": "code",
      "source": [
        "# Returns the same as tf.metrics.mean_absolute_error()\n",
        "tf.reduce_mean(tf.abs(y_test-y_preds.squeeze()))"
      ],
      "metadata": {
        "id": "zXzq695YsY69",
        "colab": {
          "base_uri": "https://localhost:8080/"
        },
        "outputId": "814ea0f9-6c1a-4bfc-dd28-78f0d2895b2a"
      },
      "execution_count": null,
      "outputs": [
        {
          "output_type": "execute_result",
          "data": {
            "text/plain": [
              "<tf.Tensor: shape=(), dtype=float64, numpy=30.563596725463867>"
            ]
          },
          "metadata": {},
          "execution_count": 34
        }
      ]
    },
    {
      "cell_type": "code",
      "source": [
        "\n",
        "def mae(y_test, y_pred):\n",
        "  return tf.metrics.mean_absolute_error(y_test,\n",
        "                                        y_pred)\n",
        "\n",
        "def mse(y_test, y_pred):\n",
        "  return tf.metrics.mean_squared_error(y_test,\n",
        "                                       y_pred)"
      ],
      "metadata": {
        "id": "zcyZ7CgFMLST"
      },
      "execution_count": null,
      "outputs": []
    },
    {
      "cell_type": "markdown",
      "source": [
        "## Running experiments to improve a model\n",
        "\n",
        "After seeing the evaluation metrics and the predictions your model makes, it's likely you'll want to improve it.\n",
        "\n",
        "Again, there are many different ways you can do this, but 3 of the main ones are:\n",
        "\n",
        "1.**Get more data** - get more examples for your model to train on (more opportunities to learn patterns).\n",
        "\n",
        "2.**Make your model larger (use a more complex model)** - this might come in the form of more layers or more hidden units in each layer.\n",
        "\n",
        "3.**Train for longer** - give your model more of a chance to find the patterns in the data.\n",
        "\n",
        "Since we created our dataset, we could easily make more data but this isn't always the case when you're working with real-world datasets.\n",
        "\n",
        "So let's take a look at how we can improve our model using 2 and 3.\n",
        "\n",
        "To do so, we'll build 3 models and compare their results:\n",
        "\n",
        "1.model_1 --> same as original model, 1 layer, trained for 100 epochs.\n",
        "\n",
        "2.model_2 --> 2 layers, trained for 100 epochs.\n",
        "\n",
        "3.model_3 --> 2 layers, trained for 500 epochs.\n"
      ],
      "metadata": {
        "id": "iHX__UYAKSQQ"
      }
    },
    {
      "cell_type": "code",
      "source": [
        "tf.random.set_seed(42)\n",
        "\n",
        "model_1 = tf.keras.Sequential()\n",
        "\n",
        "model_1.add(tf.keras.layers.Dense(1))\n",
        "\n",
        "model_1.compile(loss = tf.keras.losses.mae,\n",
        "              optimizer = tf.keras.optimizers.SGD(),\n",
        "              metrics = [\"mae\"])\n",
        "\n",
        "model_1.fit(tf.expand_dims(X_train,axis = -1), y_train, epochs = 100)\n"
      ],
      "metadata": {
        "id": "z5Mn_fMsKro9",
        "colab": {
          "base_uri": "https://localhost:8080/"
        },
        "outputId": "b0fee331-e6ec-422e-f8db-cfa0d0ea7ce4"
      },
      "execution_count": null,
      "outputs": [
        {
          "output_type": "stream",
          "name": "stdout",
          "text": [
            "Epoch 1/100\n",
            "2/2 [==============================] - 0s 10ms/step - loss: 47.8113 - mae: 47.8113\n",
            "Epoch 2/100\n",
            "2/2 [==============================] - 0s 7ms/step - loss: 16.2129 - mae: 16.2129\n",
            "Epoch 3/100\n",
            "2/2 [==============================] - 0s 6ms/step - loss: 15.1129 - mae: 15.1129\n",
            "Epoch 4/100\n",
            "2/2 [==============================] - 0s 6ms/step - loss: 8.2025 - mae: 8.2025\n",
            "Epoch 5/100\n",
            "2/2 [==============================] - 0s 7ms/step - loss: 10.6485 - mae: 10.6485\n",
            "Epoch 6/100\n",
            "2/2 [==============================] - 0s 9ms/step - loss: 9.8549 - mae: 9.8549\n",
            "Epoch 7/100\n",
            "2/2 [==============================] - 0s 7ms/step - loss: 8.9268 - mae: 8.9268\n",
            "Epoch 8/100\n",
            "2/2 [==============================] - 0s 6ms/step - loss: 9.0844 - mae: 9.0844\n",
            "Epoch 9/100\n",
            "2/2 [==============================] - 0s 8ms/step - loss: 19.6240 - mae: 19.6240\n",
            "Epoch 10/100\n",
            "2/2 [==============================] - 0s 6ms/step - loss: 10.6071 - mae: 10.6071\n",
            "Epoch 11/100\n",
            "2/2 [==============================] - 0s 6ms/step - loss: 8.5964 - mae: 8.5964\n",
            "Epoch 12/100\n",
            "2/2 [==============================] - 0s 7ms/step - loss: 11.1070 - mae: 11.1070\n",
            "Epoch 13/100\n",
            "2/2 [==============================] - 0s 15ms/step - loss: 12.3063 - mae: 12.3063\n",
            "Epoch 14/100\n",
            "2/2 [==============================] - 0s 6ms/step - loss: 13.7584 - mae: 13.7584\n",
            "Epoch 15/100\n",
            "2/2 [==============================] - 0s 5ms/step - loss: 11.1408 - mae: 11.1408\n",
            "Epoch 16/100\n",
            "2/2 [==============================] - 0s 7ms/step - loss: 8.6319 - mae: 8.6319\n",
            "Epoch 17/100\n",
            "2/2 [==============================] - 0s 6ms/step - loss: 13.8365 - mae: 13.8365\n",
            "Epoch 18/100\n",
            "2/2 [==============================] - 0s 6ms/step - loss: 11.7120 - mae: 11.7120\n",
            "Epoch 19/100\n",
            "2/2 [==============================] - 0s 10ms/step - loss: 17.6365 - mae: 17.6365\n",
            "Epoch 20/100\n",
            "2/2 [==============================] - 0s 12ms/step - loss: 14.7733 - mae: 14.7733\n",
            "Epoch 21/100\n",
            "2/2 [==============================] - 0s 10ms/step - loss: 10.7026 - mae: 10.7026\n",
            "Epoch 22/100\n",
            "2/2 [==============================] - 0s 7ms/step - loss: 8.4359 - mae: 8.4359\n",
            "Epoch 23/100\n",
            "2/2 [==============================] - 0s 7ms/step - loss: 9.8620 - mae: 9.8620\n",
            "Epoch 24/100\n",
            "2/2 [==============================] - 0s 7ms/step - loss: 15.8931 - mae: 15.8931\n",
            "Epoch 25/100\n",
            "2/2 [==============================] - 0s 9ms/step - loss: 12.2872 - mae: 12.2872\n",
            "Epoch 26/100\n",
            "2/2 [==============================] - 0s 7ms/step - loss: 13.4518 - mae: 13.4518\n",
            "Epoch 27/100\n",
            "2/2 [==============================] - 0s 6ms/step - loss: 10.8444 - mae: 10.8444\n",
            "Epoch 28/100\n",
            "2/2 [==============================] - 0s 7ms/step - loss: 13.1586 - mae: 13.1586\n",
            "Epoch 29/100\n",
            "2/2 [==============================] - 0s 7ms/step - loss: 9.5734 - mae: 9.5734\n",
            "Epoch 30/100\n",
            "2/2 [==============================] - 0s 8ms/step - loss: 16.8289 - mae: 16.8289\n",
            "Epoch 31/100\n",
            "2/2 [==============================] - 0s 7ms/step - loss: 23.2089 - mae: 23.2089\n",
            "Epoch 32/100\n",
            "2/2 [==============================] - 0s 7ms/step - loss: 7.3170 - mae: 7.3170\n",
            "Epoch 33/100\n",
            "2/2 [==============================] - 0s 7ms/step - loss: 10.4853 - mae: 10.4853\n",
            "Epoch 34/100\n",
            "2/2 [==============================] - 0s 6ms/step - loss: 9.7700 - mae: 9.7700\n",
            "Epoch 35/100\n",
            "2/2 [==============================] - 0s 7ms/step - loss: 8.3872 - mae: 8.3872\n",
            "Epoch 36/100\n",
            "2/2 [==============================] - 0s 7ms/step - loss: 8.5337 - mae: 8.5337\n",
            "Epoch 37/100\n",
            "2/2 [==============================] - 0s 8ms/step - loss: 8.5907 - mae: 8.5907\n",
            "Epoch 38/100\n",
            "2/2 [==============================] - 0s 7ms/step - loss: 9.2344 - mae: 9.2344\n",
            "Epoch 39/100\n",
            "2/2 [==============================] - 0s 7ms/step - loss: 10.1396 - mae: 10.1396\n",
            "Epoch 40/100\n",
            "2/2 [==============================] - 0s 8ms/step - loss: 9.7355 - mae: 9.7355\n",
            "Epoch 41/100\n",
            "2/2 [==============================] - 0s 7ms/step - loss: 8.0891 - mae: 8.0891\n",
            "Epoch 42/100\n",
            "2/2 [==============================] - 0s 7ms/step - loss: 10.4590 - mae: 10.4590\n",
            "Epoch 43/100\n",
            "2/2 [==============================] - 0s 10ms/step - loss: 7.9690 - mae: 7.9690\n",
            "Epoch 44/100\n",
            "2/2 [==============================] - 0s 7ms/step - loss: 17.5286 - mae: 17.5286\n",
            "Epoch 45/100\n",
            "2/2 [==============================] - 0s 9ms/step - loss: 13.3722 - mae: 13.3722\n",
            "Epoch 46/100\n",
            "2/2 [==============================] - 0s 7ms/step - loss: 8.1137 - mae: 8.1137\n",
            "Epoch 47/100\n",
            "2/2 [==============================] - 0s 9ms/step - loss: 8.8682 - mae: 8.8682\n",
            "Epoch 48/100\n",
            "2/2 [==============================] - 0s 9ms/step - loss: 10.2190 - mae: 10.2190\n",
            "Epoch 49/100\n",
            "2/2 [==============================] - 0s 8ms/step - loss: 7.1002 - mae: 7.1002\n",
            "Epoch 50/100\n",
            "2/2 [==============================] - 0s 7ms/step - loss: 9.1036 - mae: 9.1036\n",
            "Epoch 51/100\n",
            "2/2 [==============================] - 0s 7ms/step - loss: 10.6190 - mae: 10.6190\n",
            "Epoch 52/100\n",
            "2/2 [==============================] - 0s 7ms/step - loss: 15.3627 - mae: 15.3627\n",
            "Epoch 53/100\n",
            "2/2 [==============================] - 0s 6ms/step - loss: 14.3681 - mae: 14.3681\n",
            "Epoch 54/100\n",
            "2/2 [==============================] - 0s 7ms/step - loss: 21.7276 - mae: 21.7276\n",
            "Epoch 55/100\n",
            "2/2 [==============================] - 0s 8ms/step - loss: 15.9065 - mae: 15.9065\n",
            "Epoch 56/100\n",
            "2/2 [==============================] - 0s 7ms/step - loss: 10.3662 - mae: 10.3662\n",
            "Epoch 57/100\n",
            "2/2 [==============================] - 0s 9ms/step - loss: 9.7358 - mae: 9.7358\n",
            "Epoch 58/100\n",
            "2/2 [==============================] - 0s 6ms/step - loss: 9.0304 - mae: 9.0304\n",
            "Epoch 59/100\n",
            "2/2 [==============================] - 0s 8ms/step - loss: 10.2845 - mae: 10.2845\n",
            "Epoch 60/100\n",
            "2/2 [==============================] - 0s 7ms/step - loss: 8.1486 - mae: 8.1486\n",
            "Epoch 61/100\n",
            "2/2 [==============================] - 0s 7ms/step - loss: 9.9901 - mae: 9.9901\n",
            "Epoch 62/100\n",
            "2/2 [==============================] - 0s 7ms/step - loss: 7.0711 - mae: 7.0711\n",
            "Epoch 63/100\n",
            "2/2 [==============================] - 0s 7ms/step - loss: 8.5693 - mae: 8.5693\n",
            "Epoch 64/100\n",
            "2/2 [==============================] - 0s 7ms/step - loss: 9.1532 - mae: 9.1532\n",
            "Epoch 65/100\n",
            "2/2 [==============================] - 0s 6ms/step - loss: 10.3335 - mae: 10.3335\n",
            "Epoch 66/100\n",
            "2/2 [==============================] - 0s 6ms/step - loss: 15.8305 - mae: 15.8305\n",
            "Epoch 67/100\n",
            "2/2 [==============================] - 0s 6ms/step - loss: 10.1754 - mae: 10.1754\n",
            "Epoch 68/100\n",
            "2/2 [==============================] - 0s 7ms/step - loss: 9.0948 - mae: 9.0948\n",
            "Epoch 69/100\n",
            "2/2 [==============================] - 0s 7ms/step - loss: 12.7044 - mae: 12.7044\n",
            "Epoch 70/100\n",
            "2/2 [==============================] - 0s 7ms/step - loss: 8.8912 - mae: 8.8912\n",
            "Epoch 71/100\n",
            "2/2 [==============================] - 0s 7ms/step - loss: 9.8583 - mae: 9.8583\n",
            "Epoch 72/100\n",
            "2/2 [==============================] - 0s 7ms/step - loss: 9.9154 - mae: 9.9154\n",
            "Epoch 73/100\n",
            "2/2 [==============================] - 0s 8ms/step - loss: 12.3136 - mae: 12.3136\n",
            "Epoch 74/100\n",
            "2/2 [==============================] - 0s 8ms/step - loss: 10.7154 - mae: 10.7154\n",
            "Epoch 75/100\n",
            "2/2 [==============================] - 0s 6ms/step - loss: 9.5653 - mae: 9.5653\n",
            "Epoch 76/100\n",
            "2/2 [==============================] - 0s 7ms/step - loss: 11.0148 - mae: 11.0148\n",
            "Epoch 77/100\n",
            "2/2 [==============================] - 0s 6ms/step - loss: 11.0904 - mae: 11.0904\n",
            "Epoch 78/100\n",
            "2/2 [==============================] - 0s 6ms/step - loss: 11.5673 - mae: 11.5673\n",
            "Epoch 79/100\n",
            "2/2 [==============================] - 0s 8ms/step - loss: 15.6029 - mae: 15.6029\n",
            "Epoch 80/100\n",
            "2/2 [==============================] - 0s 7ms/step - loss: 11.5883 - mae: 11.5883\n",
            "Epoch 81/100\n",
            "2/2 [==============================] - 0s 10ms/step - loss: 9.4604 - mae: 9.4604\n",
            "Epoch 82/100\n",
            "2/2 [==============================] - 0s 6ms/step - loss: 12.5796 - mae: 12.5796\n",
            "Epoch 83/100\n",
            "2/2 [==============================] - 0s 6ms/step - loss: 8.1754 - mae: 8.1754\n",
            "Epoch 84/100\n",
            "2/2 [==============================] - 0s 10ms/step - loss: 7.5392 - mae: 7.5392\n",
            "Epoch 85/100\n",
            "2/2 [==============================] - 0s 6ms/step - loss: 9.7202 - mae: 9.7202\n",
            "Epoch 86/100\n",
            "2/2 [==============================] - 0s 5ms/step - loss: 9.0317 - mae: 9.0317\n",
            "Epoch 87/100\n",
            "2/2 [==============================] - 0s 8ms/step - loss: 11.6611 - mae: 11.6611\n",
            "Epoch 88/100\n",
            "2/2 [==============================] - 0s 6ms/step - loss: 10.2595 - mae: 10.2595\n",
            "Epoch 89/100\n",
            "2/2 [==============================] - 0s 6ms/step - loss: 6.7452 - mae: 6.7452\n",
            "Epoch 90/100\n",
            "2/2 [==============================] - 0s 9ms/step - loss: 8.0996 - mae: 8.0996\n",
            "Epoch 91/100\n",
            "2/2 [==============================] - 0s 7ms/step - loss: 6.7477 - mae: 6.7477\n",
            "Epoch 92/100\n",
            "2/2 [==============================] - 0s 10ms/step - loss: 10.1875 - mae: 10.1875\n",
            "Epoch 93/100\n",
            "2/2 [==============================] - 0s 8ms/step - loss: 7.5787 - mae: 7.5787\n",
            "Epoch 94/100\n",
            "2/2 [==============================] - 0s 9ms/step - loss: 9.2077 - mae: 9.2077\n",
            "Epoch 95/100\n",
            "2/2 [==============================] - 0s 8ms/step - loss: 10.7666 - mae: 10.7666\n",
            "Epoch 96/100\n",
            "2/2 [==============================] - 0s 7ms/step - loss: 10.3622 - mae: 10.3622\n",
            "Epoch 97/100\n",
            "2/2 [==============================] - 0s 8ms/step - loss: 7.6389 - mae: 7.6389\n",
            "Epoch 98/100\n",
            "2/2 [==============================] - 0s 7ms/step - loss: 8.5803 - mae: 8.5803\n",
            "Epoch 99/100\n",
            "2/2 [==============================] - 0s 7ms/step - loss: 9.3526 - mae: 9.3526\n",
            "Epoch 100/100\n",
            "2/2 [==============================] - 0s 6ms/step - loss: 8.8140 - mae: 8.8140\n"
          ]
        },
        {
          "output_type": "execute_result",
          "data": {
            "text/plain": [
              "<keras.src.callbacks.History at 0x78aa482e3b80>"
            ]
          },
          "metadata": {},
          "execution_count": 36
        }
      ]
    },
    {
      "cell_type": "code",
      "source": [
        "y_preds_1 = model_1.predict(X_test)\n",
        "plot_predictions(X_train, y_train, X_test, y_test, y_preds_1)"
      ],
      "metadata": {
        "id": "C3YWP9N3LLZE",
        "colab": {
          "base_uri": "https://localhost:8080/",
          "height": 731
        },
        "outputId": "1e5ec5b0-ab1b-454f-9899-eca2189a3a3e"
      },
      "execution_count": null,
      "outputs": [
        {
          "output_type": "stream",
          "name": "stderr",
          "text": [
            "WARNING:tensorflow:5 out of the last 5 calls to <function Model.make_predict_function.<locals>.predict_function at 0x78aa497d00d0> triggered tf.function retracing. Tracing is expensive and the excessive number of tracings could be due to (1) creating @tf.function repeatedly in a loop, (2) passing tensors with different shapes, (3) passing Python objects instead of tensors. For (1), please define your @tf.function outside of the loop. For (2), @tf.function has reduce_retracing=True option that can avoid unnecessary retracing. For (3), please refer to https://www.tensorflow.org/guide/function#controlling_retracing and https://www.tensorflow.org/api_docs/python/tf/function for  more details.\n"
          ]
        },
        {
          "output_type": "stream",
          "name": "stdout",
          "text": [
            "1/1 [==============================] - 0s 83ms/step\n"
          ]
        },
        {
          "output_type": "display_data",
          "data": {
            "text/plain": [
              "<Figure size 800x800 with 1 Axes>"
            ],
            "image/png": "[encoded data removed]"
          },
          "metadata": {}
        }
      ]
    },
    {
      "cell_type": "code",
      "source": [
        "mae_1 = mae(y_test,y_preds_1.squeeze()).numpy()\n",
        "mse_1 = mse(y_test,y_preds_1.squeeze()).numpy()\n",
        "mae_1,mse_1"
      ],
      "metadata": {
        "id": "kCE8hk5ZLbF0",
        "colab": {
          "base_uri": "https://localhost:8080/"
        },
        "outputId": "1c384ea2-4981-4ffe-d23f-c151cee85dce"
      },
      "execution_count": null,
      "outputs": [
        {
          "output_type": "execute_result",
          "data": {
            "text/plain": [
              "(8.416368, 77.188805)"
            ]
          },
          "metadata": {},
          "execution_count": 38
        }
      ]
    },
    {
      "cell_type": "code",
      "source": [
        "tf.random.set_seed(42)\n",
        "\n",
        "model_2 = tf.keras.Sequential()\n",
        "\n",
        "model_2.add(tf.keras.layers.Dense(1))\n",
        "model_2.add(tf.keras.layers.Dense(1))\n",
        "\n",
        "model_2.compile(loss = tf.keras.losses.mae,\n",
        "                optimizer = tf.keras.optimizers.SGD(),\n",
        "                metrics = [\"mae\"])\n",
        "\n",
        "model_2.fit(tf.expand_dims(X_train,axis = -1),y_train, epochs = 100, verbose = 0)\n"
      ],
      "metadata": {
        "id": "A_KmCe4rMjMI",
        "colab": {
          "base_uri": "https://localhost:8080/"
        },
        "outputId": "0c4486bf-eb50-4263-e66c-85836ef76a91"
      },
      "execution_count": null,
      "outputs": [
        {
          "output_type": "execute_result",
          "data": {
            "text/plain": [
              "<keras.src.callbacks.History at 0x78aa481ef490>"
            ]
          },
          "metadata": {},
          "execution_count": 39
        }
      ]
    },
    {
      "cell_type": "code",
      "source": [
        "y_preds_2 = model_2.predict(X_test)\n",
        "plot_predictions(X_train, y_train, X_test, y_test, y_preds_2)"
      ],
      "metadata": {
        "id": "SBOyBUanNL2v",
        "colab": {
          "base_uri": "https://localhost:8080/",
          "height": 731
        },
        "outputId": "1d33aa22-a73b-46ac-8806-e3c6f28ff1d4"
      },
      "execution_count": null,
      "outputs": [
        {
          "output_type": "stream",
          "name": "stderr",
          "text": [
            "WARNING:tensorflow:6 out of the last 6 calls to <function Model.make_predict_function.<locals>.predict_function at 0x78aa481bab00> triggered tf.function retracing. Tracing is expensive and the excessive number of tracings could be due to (1) creating @tf.function repeatedly in a loop, (2) passing tensors with different shapes, (3) passing Python objects instead of tensors. For (1), please define your @tf.function outside of the loop. For (2), @tf.function has reduce_retracing=True option that can avoid unnecessary retracing. For (3), please refer to https://www.tensorflow.org/guide/function#controlling_retracing and https://www.tensorflow.org/api_docs/python/tf/function for  more details.\n"
          ]
        },
        {
          "output_type": "stream",
          "name": "stdout",
          "text": [
            "1/1 [==============================] - 0s 60ms/step\n"
          ]
        },
        {
          "output_type": "display_data",
          "data": {
            "text/plain": [
              "<Figure size 800x800 with 1 Axes>"
            ],
            "image/png": "[encoded data removed]"
          },
          "metadata": {}
        }
      ]
    },
    {
      "cell_type": "code",
      "source": [
        "mae_2= mae(y_test,y_preds_2.squeeze()).numpy()\n",
        "mse_2= mse(y_test,y_preds_2.squeeze()).numpy()\n",
        "mae_2,mse_2"
      ],
      "metadata": {
        "id": "AqTjz_M5NJda",
        "colab": {
          "base_uri": "https://localhost:8080/"
        },
        "outputId": "db72b66b-9f0d-4ee7-ddc0-9114667b369d"
      },
      "execution_count": null,
      "outputs": [
        {
          "output_type": "execute_result",
          "data": {
            "text/plain": [
              "(13.48723, 192.13095)"
            ]
          },
          "metadata": {},
          "execution_count": 41
        }
      ]
    },
    {
      "cell_type": "code",
      "source": [
        "tf.random.set_seed(42)\n",
        "\n",
        "model_3 = tf.keras.Sequential()\n",
        "\n",
        "model_3.add(tf.keras.layers.Dense(1))\n",
        "model_3.add(tf.keras.layers.Dense(1))\n",
        "\n",
        "model_3.compile(loss = tf.keras.losses.mae,\n",
        "              optimizer = tf.keras.optimizers.SGD(),\n",
        "              metrics = [\"mae\"])\n",
        "\n",
        "model_3.fit(tf.expand_dims(X_train, axis = -1), y_train, epochs = 500, verbose = 0)"
      ],
      "metadata": {
        "id": "HOf4NSWuNUY6",
        "colab": {
          "base_uri": "https://localhost:8080/"
        },
        "outputId": "74457128-8780-4f23-e0a5-dfb0576bbb44"
      },
      "execution_count": null,
      "outputs": [
        {
          "output_type": "execute_result",
          "data": {
            "text/plain": [
              "<keras.src.callbacks.History at 0x78aa480fa5c0>"
            ]
          },
          "metadata": {},
          "execution_count": 42
        }
      ]
    },
    {
      "cell_type": "code",
      "source": [
        "y_preds_3 = model_3.predict(X_test)\n",
        "plot_predictions(X_train, y_train, X_test, y_test, y_preds_3)"
      ],
      "metadata": {
        "id": "QIJHkenwOJwq",
        "colab": {
          "base_uri": "https://localhost:8080/",
          "height": 693
        },
        "outputId": "eeb12d7d-d629-4f09-8561-c1988310e624"
      },
      "execution_count": null,
      "outputs": [
        {
          "output_type": "stream",
          "name": "stdout",
          "text": [
            "1/1 [==============================] - 0s 56ms/step\n"
          ]
        },
        {
          "output_type": "display_data",
          "data": {
            "text/plain": [
              "<Figure size 800x800 with 1 Axes>"
            ],
            "image/png": "[encoded data removed]"
          },
          "metadata": {}
        }
      ]
    },
    {
      "cell_type": "code",
      "source": [
        "mae_3= mae(y_test,y_preds_3.squeeze()).numpy()\n",
        "mse_3= mse(y_test,y_preds_3.squeeze()).numpy()\n",
        "mae_3,mse_3"
      ],
      "metadata": {
        "id": "pX_tDaHvOS9Z",
        "colab": {
          "base_uri": "https://localhost:8080/"
        },
        "outputId": "8314c2c8-d0b3-4fcf-b75a-fe1a35bd7876"
      },
      "execution_count": null,
      "outputs": [
        {
          "output_type": "execute_result",
          "data": {
            "text/plain": [
              "(68.73033, 4810.3306)"
            ]
          },
          "metadata": {},
          "execution_count": 44
        }
      ]
    },
    {
      "cell_type": "markdown",
      "source": [
        "## Comparing results\n",
        "Now we've got results for 3 similar but slightly different results, let's compare them."
      ],
      "metadata": {
        "id": "Cc34U9T9OZsq"
      }
    },
    {
      "cell_type": "code",
      "source": [
        "model_results = {\"model_1\":{\n",
        "    \"mae\":mae_1,\n",
        "    \"mse\":mse_1\n",
        "},\"model_2\":{\n",
        "    \"mae\":mae_2,\n",
        "    \"mse\":mse_2\n",
        "},\"model_3\":{\n",
        "    \"mae\":mae_3,\n",
        "    \"mse\":mse_3\n",
        "}}\n"
      ],
      "metadata": {
        "id": "iCaoYbdFQbjh"
      },
      "execution_count": null,
      "outputs": []
    },
    {
      "cell_type": "code",
      "source": [
        "\n",
        "model_results = [[\"model_1\", mae_1, mse_1],\n",
        "                 [\"model_2\", mae_2, mse_2],\n",
        "                 [\"model_3\", mae_3, mae_3]]"
      ],
      "metadata": {
        "id": "8cXHic7nVKVl"
      },
      "execution_count": null,
      "outputs": []
    },
    {
      "cell_type": "code",
      "source": [
        "import pandas as pd\n",
        "all_results = pd.DataFrame(model_results)\n",
        "all_results"
      ],
      "metadata": {
        "id": "RXvkF-JxRAKe",
        "colab": {
          "base_uri": "https://localhost:8080/",
          "height": 143
        },
        "outputId": "32ebfaeb-5f67-417e-d2ee-0c5c3b061ce9"
      },
      "execution_count": null,
      "outputs": [
        {
          "output_type": "execute_result",
          "data": {
            "text/plain": [
              "         0          1           2\n",
              "0  model_1   8.416368   77.188805\n",
              "1  model_2  13.487230  192.130951\n",
              "2  model_3  68.730331   68.730331"
            ],
            "text/html": [
              "\n",
              "  <div id=\"df-172942e1-0150-4363-87b8-3f0cfc204e62\" class=\"colab-df-container\">\n",
              "    <div>\n",
              "<style scoped>\n",
              "    .dataframe tbody tr th:only-of-type {\n",
              "        vertical-align: middle;\n",
              "    }\n",
              "\n",
              "    .dataframe tbody tr th {\n",
              "        vertical-align: top;\n",
              "    }\n",
              "\n",
              "    .dataframe thead th {\n",
              "        text-align: right;\n",
              "    }\n",
              "</style>\n",
              "<table border=\"1\" class=\"dataframe\">\n",
              "  <thead>\n",
              "    <tr style=\"text-align: right;\">\n",
              "      <th></th>\n",
              "      <th>0</th>\n",
              "      <th>1</th>\n",
              "      <th>2</th>\n",
              "    </tr>\n",
              "  </thead>\n",
              "  <tbody>\n",
              "    <tr>\n",
              "      <th>0</th>\n",
              "      <td>model_1</td>\n",
              "      <td>8.416368</td>\n",
              "      <td>77.188805</td>\n",
              "    </tr>\n",
              "    <tr>\n",
              "      <th>1</th>\n",
              "      <td>model_2</td>\n",
              "      <td>13.487230</td>\n",
              "      <td>192.130951</td>\n",
              "    </tr>\n",
              "    <tr>\n",
              "      <th>2</th>\n",
              "      <td>model_3</td>\n",
              "      <td>68.730331</td>\n",
              "      <td>68.730331</td>\n",
              "    </tr>\n",
              "  </tbody>\n",
              "</table>\n",
              "</div>\n",
              "    <div class=\"colab-df-buttons\">\n",
              "\n",
              "  <div class=\"colab-df-container\">\n",
              "    <button class=\"colab-df-convert\" onclick=\"convertToInteractive('df-172942e1-0150-4363-87b8-3f0cfc204e62')\"\n",
              "            title=\"Convert this dataframe to an interactive table.\"\n",
              "            style=\"display:none;\">\n",
              "\n",
              "  <svg xmlns=\"http://www.w3.org/2000/svg\" height=\"24px\" viewBox=\"0 -960 960 960\">\n",
              "    <path d=\"M120-120v-720h720v720H120Zm60-500h600v-160H180v160Zm220 220h160v-160H400v160Zm0 220h160v-160H400v160ZM180-400h160v-160H180v160Zm440 0h160v-160H620v160ZM180-180h160v-160H180v160Zm440 0h160v-160H620v160Z\"/>\n",
              "  </svg>\n",
              "    </button>\n",
              "\n",
              "  <style>\n",
              "    .colab-df-container {\n",
              "      display:flex;\n",
              "      gap: 12px;\n",
              "    }\n",
              "\n",
              "    .colab-df-convert {\n",
              "      background-color: #E8F0FE;\n",
              "      border: none;\n",
              "      border-radius: 50%;\n",
              "      cursor: pointer;\n",
              "      display: none;\n",
              "      fill: #1967D2;\n",
              "      height: 32px;\n",
              "      padding: 0 0 0 0;\n",
              "      width: 32px;\n",
              "    }\n",
              "\n",
              "    .colab-df-convert:hover {\n",
              "      background-color: #E2EBFA;\n",
              "      box-shadow: 0px 1px 2px rgba(60, 64, 67, 0.3), 0px 1px 3px 1px rgba(60, 64, 67, 0.15);\n",
              "      fill: #174EA6;\n",
              "    }\n",
              "\n",
              "    .colab-df-buttons div {\n",
              "      margin-bottom: 4px;\n",
              "    }\n",
              "\n",
              "    [theme=dark] .colab-df-convert {\n",
              "      background-color: #3B4455;\n",
              "      fill: #D2E3FC;\n",
              "    }\n",
              "\n",
              "    [theme=dark] .colab-df-convert:hover {\n",
              "      background-color: #434B5C;\n",
              "      box-shadow: 0px 1px 3px 1px rgba(0, 0, 0, 0.15);\n",
              "      filter: drop-shadow(0px 1px 2px rgba(0, 0, 0, 0.3));\n",
              "      fill: #FFFFFF;\n",
              "    }\n",
              "  </style>\n",
              "\n",
              "    <script>\n",
              "      const buttonEl =\n",
              "        document.querySelector('#df-172942e1-0150-4363-87b8-3f0cfc204e62 button.colab-df-convert');\n",
              "      buttonEl.style.display =\n",
              "        google.colab.kernel.accessAllowed ? 'block' : 'none';\n",
              "\n",
              "      async function convertToInteractive(key) {\n",
              "        const element = document.querySelector('#df-172942e1-0150-4363-87b8-3f0cfc204e62');\n",
              "        const dataTable =\n",
              "          await google.colab.kernel.invokeFunction('convertToInteractive',\n",
              "                                                    [key], {});\n",
              "        if (!dataTable) return;\n",
              "\n",
              "        const docLinkHtml = 'Like what you see? Visit the ' +\n",
              "          '<a target=\"_blank\" href=https://colab.research.google.com/notebooks/data_table.ipynb>data table notebook</a>'\n",
              "          + ' to learn more about interactive tables.';\n",
              "        element.innerHTML = '';\n",
              "        dataTable['output_type'] = 'display_data';\n",
              "        await google.colab.output.renderOutput(dataTable, element);\n",
              "        const docLink = document.createElement('div');\n",
              "        docLink.innerHTML = docLinkHtml;\n",
              "        element.appendChild(docLink);\n",
              "      }\n",
              "    </script>\n",
              "  </div>\n",
              "\n",
              "\n",
              "<div id=\"df-4917befa-cb83-4a88-8f2c-ec77f2e16669\">\n",
              "  <button class=\"colab-df-quickchart\" onclick=\"quickchart('df-4917befa-cb83-4a88-8f2c-ec77f2e16669')\"\n",
              "            title=\"Suggest charts.\"\n",
              "            style=\"display:none;\">\n",
              "\n",
              "<svg xmlns=\"http://www.w3.org/2000/svg\" height=\"24px\"viewBox=\"0 0 24 24\"\n",
              "     width=\"24px\">\n",
              "    <g>\n",
              "        <path d=\"M19 3H5c-1.1 0-2 .9-2 2v14c0 1.1.9 2 2 2h14c1.1 0 2-.9 2-2V5c0-1.1-.9-2-2-2zM9 17H7v-7h2v7zm4 0h-2V7h2v10zm4 0h-2v-4h2v4z\"/>\n",
              "    </g>\n",
              "</svg>\n",
              "  </button>\n",
              "\n",
              "<style>\n",
              "  .colab-df-quickchart {\n",
              "      --bg-color: #E8F0FE;\n",
              "      --fill-color: #1967D2;\n",
              "      --hover-bg-color: #E2EBFA;\n",
              "      --hover-fill-color: #174EA6;\n",
              "      --disabled-fill-color: #AAA;\n",
              "      --disabled-bg-color: #DDD;\n",
              "  }\n",
              "\n",
              "  [theme=dark] .colab-df-quickchart {\n",
              "      --bg-color: #3B4455;\n",
              "      --fill-color: #D2E3FC;\n",
              "      --hover-bg-color: #434B5C;\n",
              "      --hover-fill-color: #FFFFFF;\n",
              "      --disabled-bg-color: #3B4455;\n",
              "      --disabled-fill-color: #666;\n",
              "  }\n",
              "\n",
              "  .colab-df-quickchart {\n",
              "    background-color: var(--bg-color);\n",
              "    border: none;\n",
              "    border-radius: 50%;\n",
              "    cursor: pointer;\n",
              "    display: none;\n",
              "    fill: var(--fill-color);\n",
              "    height: 32px;\n",
              "    padding: 0;\n",
              "    width: 32px;\n",
              "  }\n",
              "\n",
              "  .colab-df-quickchart:hover {\n",
              "    background-color: var(--hover-bg-color);\n",
              "    box-shadow: 0 1px 2px rgba(60, 64, 67, 0.3), 0 1px 3px 1px rgba(60, 64, 67, 0.15);\n",
              "    fill: var(--button-hover-fill-color);\n",
              "  }\n",
              "\n",
              "  .colab-df-quickchart-complete:disabled,\n",
              "  .colab-df-quickchart-complete:disabled:hover {\n",
              "    background-color: var(--disabled-bg-color);\n",
              "    fill: var(--disabled-fill-color);\n",
              "    box-shadow: none;\n",
              "  }\n",
              "\n",
              "  .colab-df-spinner {\n",
              "    border: 2px solid var(--fill-color);\n",
              "    border-color: transparent;\n",
              "    border-bottom-color: var(--fill-color);\n",
              "    animation:\n",
              "      spin 1s steps(1) infinite;\n",
              "  }\n",
              "\n",
              "  @keyframes spin {\n",
              "    0% {\n",
              "      border-color: transparent;\n",
              "      border-bottom-color: var(--fill-color);\n",
              "      border-left-color: var(--fill-color);\n",
              "    }\n",
              "    20% {\n",
              "      border-color: transparent;\n",
              "      border-left-color: var(--fill-color);\n",
              "      border-top-color: var(--fill-color);\n",
              "    }\n",
              "    30% {\n",
              "      border-color: transparent;\n",
              "      border-left-color: var(--fill-color);\n",
              "      border-top-color: var(--fill-color);\n",
              "      border-right-color: var(--fill-color);\n",
              "    }\n",
              "    40% {\n",
              "      border-color: transparent;\n",
              "      border-right-color: var(--fill-color);\n",
              "      border-top-color: var(--fill-color);\n",
              "    }\n",
              "    60% {\n",
              "      border-color: transparent;\n",
              "      border-right-color: var(--fill-color);\n",
              "    }\n",
              "    80% {\n",
              "      border-color: transparent;\n",
              "      border-right-color: var(--fill-color);\n",
              "      border-bottom-color: var(--fill-color);\n",
              "    }\n",
              "    90% {\n",
              "      border-color: transparent;\n",
              "      border-bottom-color: var(--fill-color);\n",
              "    }\n",
              "  }\n",
              "</style>\n",
              "\n",
              "  <script>\n",
              "    async function quickchart(key) {\n",
              "      const quickchartButtonEl =\n",
              "        document.querySelector('#' + key + ' button');\n",
              "      quickchartButtonEl.disabled = true;  // To prevent multiple clicks.\n",
              "      quickchartButtonEl.classList.add('colab-df-spinner');\n",
              "      try {\n",
              "        const charts = await google.colab.kernel.invokeFunction(\n",
              "            'suggestCharts', [key], {});\n",
              "      } catch (error) {\n",
              "        console.error('Error during call to suggestCharts:', error);\n",
              "      }\n",
              "      quickchartButtonEl.classList.remove('colab-df-spinner');\n",
              "      quickchartButtonEl.classList.add('colab-df-quickchart-complete');\n",
              "    }\n",
              "    (() => {\n",
              "      let quickchartButtonEl =\n",
              "        document.querySelector('#df-4917befa-cb83-4a88-8f2c-ec77f2e16669 button');\n",
              "      quickchartButtonEl.style.display =\n",
              "        google.colab.kernel.accessAllowed ? 'block' : 'none';\n",
              "    })();\n",
              "  </script>\n",
              "</div>\n",
              "    </div>\n",
              "  </div>\n"
            ]
          },
          "metadata": {},
          "execution_count": 47
        }
      ]
    },
    {
      "cell_type": "markdown",
      "source": [
        "## Saving a model\n",
        "Once you've trained a model and found one which performs to your liking, you'll probably want to save it for use elsewhere (like a web application or mobile device).\n",
        "\n",
        "You can save a TensorFlow/Keras model using model.save().\n",
        "\n",
        "There are two ways to save a model in TensorFlow:\n",
        "\n",
        "1.The SavedModel format (default).\n",
        "\n",
        "2.The HDF5 format.\n",
        "\n",
        "The main difference between the two is the SavedModel is automatically able to save custom objects (such as special layers) without additional modifications when loading the model back in.\n",
        "\n",
        "Which one should you use?\n",
        "\n",
        "It depends on your situation but the SavedModel format will suffice most of the time."
      ],
      "metadata": {
        "id": "r5vqo0duTFkL"
      }
    },
    {
      "cell_type": "code",
      "source": [
        "model_2.save(\"model_2_saved_format\")"
      ],
      "metadata": {
        "id": "XWuj6YUkTEv9"
      },
      "execution_count": null,
      "outputs": []
    },
    {
      "cell_type": "code",
      "source": [
        "!ls model_2_saved_format"
      ],
      "metadata": {
        "id": "ZmYtlc2mVlSa",
        "colab": {
          "base_uri": "https://localhost:8080/"
        },
        "outputId": "82fa79ae-06de-41d5-d0c2-842da298c753"
      },
      "execution_count": null,
      "outputs": [
        {
          "output_type": "stream",
          "name": "stdout",
          "text": [
            "assets\tfingerprint.pb\tkeras_metadata.pb  saved_model.pb  variables\n"
          ]
        }
      ]
    },
    {
      "cell_type": "code",
      "source": [
        "model_2.save(\"model_2_saved_HDF5_format.h5\")"
      ],
      "metadata": {
        "id": "rgEVS047Vs5r",
        "colab": {
          "base_uri": "https://localhost:8080/"
        },
        "outputId": "a7cab060-ae7e-48ef-8824-ff2fd6b4e503"
      },
      "execution_count": null,
      "outputs": [
        {
          "output_type": "stream",
          "name": "stderr",
          "text": [
            "/usr/local/lib/python3.10/dist-packages/keras/src/engine/training.py:3000: UserWarning: You are saving your model as an HDF5 file via `model.save()`. This file format is considered legacy. We recommend using instead the native Keras format, e.g. `model.save('my_model.keras')`.\n",
            "  saving_api.save_model(\n"
          ]
        }
      ]
    },
    {
      "cell_type": "code",
      "source": [
        "!ls model_2_saved_HDF5_format.h5"
      ],
      "metadata": {
        "id": "if6ieNrOV2vC",
        "colab": {
          "base_uri": "https://localhost:8080/"
        },
        "outputId": "18b5b96b-1cbc-42ca-935c-b5cd1912e282"
      },
      "execution_count": null,
      "outputs": [
        {
          "output_type": "stream",
          "name": "stdout",
          "text": [
            "model_2_saved_HDF5_format.h5\n"
          ]
        }
      ]
    },
    {
      "cell_type": "markdown",
      "source": [
        "## Loading a model\n",
        "We can load a saved model using the load_model() method."
      ],
      "metadata": {
        "id": "-oMGFAQYXJHH"
      }
    },
    {
      "cell_type": "code",
      "source": [
        "load_saved_model = tf.keras.models.load_model(\"model_2_saved_format\")\n",
        "load_saved_model.summary()"
      ],
      "metadata": {
        "id": "MPdOAOSNXK7v",
        "colab": {
          "base_uri": "https://localhost:8080/"
        },
        "outputId": "6ee297f5-988e-4eab-8b05-f64caabc6773"
      },
      "execution_count": null,
      "outputs": [
        {
          "output_type": "stream",
          "name": "stdout",
          "text": [
            "Model: \"sequential_6\"\n",
            "_________________________________________________________________\n",
            " Layer (type)                Output Shape              Param #   \n",
            "=================================================================\n",
            " dense_7 (Dense)             (None, 1)                 2         \n",
            "                                                                 \n",
            " dense_8 (Dense)             (None, 1)                 2         \n",
            "                                                                 \n",
            "=================================================================\n",
            "Total params: 4 (16.00 Byte)\n",
            "Trainable params: 4 (16.00 Byte)\n",
            "Non-trainable params: 0 (0.00 Byte)\n",
            "_________________________________________________________________\n"
          ]
        }
      ]
    },
    {
      "cell_type": "code",
      "source": [
        "model_2_preds = model_2.predict(X_test)\n",
        "saved_model_preds = load_saved_model.predict(X_test)\n",
        "mae(y_test, saved_model_preds.squeeze()).numpy() == mae(y_test, model_2_preds.squeeze()).numpy()"
      ],
      "metadata": {
        "id": "kw7h82W-XWPp",
        "colab": {
          "base_uri": "https://localhost:8080/"
        },
        "outputId": "651a310b-62dc-4d8d-e0dd-2e2fed4b1969"
      },
      "execution_count": null,
      "outputs": [
        {
          "output_type": "stream",
          "name": "stdout",
          "text": [
            "1/1 [==============================] - 0s 36ms/step\n",
            "1/1 [==============================] - 0s 54ms/step\n"
          ]
        },
        {
          "output_type": "execute_result",
          "data": {
            "text/plain": [
              "True"
            ]
          },
          "metadata": {},
          "execution_count": 53
        }
      ]
    },
    {
      "cell_type": "code",
      "source": [
        "loaded_h5_model = tf.keras.models.load_model(\"model_2_saved_HDF5_format.h5\")\n",
        "loaded_h5_model.summary()"
      ],
      "metadata": {
        "id": "aflpSAFuX7K4",
        "colab": {
          "base_uri": "https://localhost:8080/"
        },
        "outputId": "bcb55cdc-ef2a-42ec-f638-7c3e9d3da9a8"
      },
      "execution_count": null,
      "outputs": [
        {
          "output_type": "stream",
          "name": "stdout",
          "text": [
            "Model: \"sequential_6\"\n",
            "_________________________________________________________________\n",
            " Layer (type)                Output Shape              Param #   \n",
            "=================================================================\n",
            " dense_7 (Dense)             (None, 1)                 2         \n",
            "                                                                 \n",
            " dense_8 (Dense)             (None, 1)                 2         \n",
            "                                                                 \n",
            "=================================================================\n",
            "Total params: 4 (16.00 Byte)\n",
            "Trainable params: 4 (16.00 Byte)\n",
            "Non-trainable params: 0 (0.00 Byte)\n",
            "_________________________________________________________________\n"
          ]
        }
      ]
    },
    {
      "cell_type": "code",
      "source": [
        "h5_model_preds = loaded_h5_model.predict(X_test)\n",
        "mae(y_test, h5_model_preds.squeeze()).numpy() == mae(y_test, model_2_preds.squeeze()).numpy()"
      ],
      "metadata": {
        "id": "PJmarO2PX_ER",
        "colab": {
          "base_uri": "https://localhost:8080/"
        },
        "outputId": "78281166-5a1f-497b-f144-3c7a12fb8a38"
      },
      "execution_count": null,
      "outputs": [
        {
          "output_type": "stream",
          "name": "stdout",
          "text": [
            "1/1 [==============================] - 0s 63ms/step\n"
          ]
        },
        {
          "output_type": "execute_result",
          "data": {
            "text/plain": [
              "True"
            ]
          },
          "metadata": {},
          "execution_count": 55
        }
      ]
    },
    {
      "cell_type": "markdown",
      "source": [
        "## Downloading a model (from Google Colab)\n",
        "\n",
        "Say you wanted to get your model from Google Colab to your local machine, you can do one of the following things:\n",
        "\n",
        "* Right click on the file in the files pane and click 'download'.\n",
        "* Use the code below."
      ],
      "metadata": {
        "id": "aeZ0c0dQYE1u"
      }
    },
    {
      "cell_type": "code",
      "source": [
        "#from google.colab import files\n",
        "#files.download(\"best_model_HDF5_format.h5\")\n",
        "\n"
      ],
      "metadata": {
        "id": "sVAAMINQYIHp"
      },
      "execution_count": null,
      "outputs": []
    },
    {
      "cell_type": "markdown",
      "source": [
        "## A larger example\n",
        "Alright, we've seen the fundamentals of building neural network regression models in TensorFlow.\n",
        "\n",
        "Let's step it up a notch and build a model for a more feature rich dataset.\n",
        "\n",
        "More specifically we're going to try predict the cost of medical insurance for individuals based on a number of different parameters such as, age, sex, bmi, children, smoking_status and residential_region.\n",
        "\n",
        "To do, we'll leverage the pubically available Medical Cost dataset available from Kaggle and hosted on GitHub.\n",
        "\n",
        "🔑 Note: When learning machine learning paradigms, you'll often go through a series of foundational techniques and then practice them by working with open-source datasets and examples. Just as we're doing now, learn foundations, put them to work with different problems. Every time you work on something new, it's a good idea to search for something like \"problem X example with Python/TensorFlow\" where you substitute X for your problem"
      ],
      "metadata": {
        "id": "fSQM-A1hh1oL"
      }
    },
    {
      "cell_type": "code",
      "source": [
        "import tensorflow as tf\n",
        "import pandas as pd\n",
        "import matplotlib.pyplot as plt\n"
      ],
      "metadata": {
        "id": "8W3DJkKfh5hA"
      },
      "execution_count": null,
      "outputs": []
    },
    {
      "cell_type": "code",
      "source": [
        "insurance = pd.read_csv(\"https://raw.githubusercontent.com/stedy/Machine-Learning-with-R-datasets/master/insurance.csv\")\n"
      ],
      "metadata": {
        "id": "-Iop_qBlvrQ-"
      },
      "execution_count": null,
      "outputs": []
    },
    {
      "cell_type": "code",
      "source": [
        "insurance.head()"
      ],
      "metadata": {
        "colab": {
          "base_uri": "https://localhost:8080/",
          "height": 206
        },
        "id": "kfjp7hKxvtZ9",
        "outputId": "711ac512-dc69-4e35-d91a-abc47475e513"
      },
      "execution_count": null,
      "outputs": [
        {
          "output_type": "execute_result",
          "data": {
            "text/plain": [
              "   age     sex     bmi  children smoker     region      charges\n",
              "0   19  female  27.900         0    yes  southwest  16884.92400\n",
              "1   18    male  33.770         1     no  southeast   1725.55230\n",
              "2   28    male  33.000         3     no  southeast   4449.46200\n",
              "3   33    male  22.705         0     no  northwest  21984.47061\n",
              "4   32    male  28.880         0     no  northwest   3866.85520"
            ],
            "text/html": [
              "\n",
              "  <div id=\"df-a03f594b-aa07-400b-b810-4bf87f84d92a\" class=\"colab-df-container\">\n",
              "    <div>\n",
              "<style scoped>\n",
              "    .dataframe tbody tr th:only-of-type {\n",
              "        vertical-align: middle;\n",
              "    }\n",
              "\n",
              "    .dataframe tbody tr th {\n",
              "        vertical-align: top;\n",
              "    }\n",
              "\n",
              "    .dataframe thead th {\n",
              "        text-align: right;\n",
              "    }\n",
              "</style>\n",
              "<table border=\"1\" class=\"dataframe\">\n",
              "  <thead>\n",
              "    <tr style=\"text-align: right;\">\n",
              "      <th></th>\n",
              "      <th>age</th>\n",
              "      <th>sex</th>\n",
              "      <th>bmi</th>\n",
              "      <th>children</th>\n",
              "      <th>smoker</th>\n",
              "      <th>region</th>\n",
              "      <th>charges</th>\n",
              "    </tr>\n",
              "  </thead>\n",
              "  <tbody>\n",
              "    <tr>\n",
              "      <th>0</th>\n",
              "      <td>19</td>\n",
              "      <td>female</td>\n",
              "      <td>27.900</td>\n",
              "      <td>0</td>\n",
              "      <td>yes</td>\n",
              "      <td>southwest</td>\n",
              "      <td>16884.92400</td>\n",
              "    </tr>\n",
              "    <tr>\n",
              "      <th>1</th>\n",
              "      <td>18</td>\n",
              "      <td>male</td>\n",
              "      <td>33.770</td>\n",
              "      <td>1</td>\n",
              "      <td>no</td>\n",
              "      <td>southeast</td>\n",
              "      <td>1725.55230</td>\n",
              "    </tr>\n",
              "    <tr>\n",
              "      <th>2</th>\n",
              "      <td>28</td>\n",
              "      <td>male</td>\n",
              "      <td>33.000</td>\n",
              "      <td>3</td>\n",
              "      <td>no</td>\n",
              "      <td>southeast</td>\n",
              "      <td>4449.46200</td>\n",
              "    </tr>\n",
              "    <tr>\n",
              "      <th>3</th>\n",
              "      <td>33</td>\n",
              "      <td>male</td>\n",
              "      <td>22.705</td>\n",
              "      <td>0</td>\n",
              "      <td>no</td>\n",
              "      <td>northwest</td>\n",
              "      <td>21984.47061</td>\n",
              "    </tr>\n",
              "    <tr>\n",
              "      <th>4</th>\n",
              "      <td>32</td>\n",
              "      <td>male</td>\n",
              "      <td>28.880</td>\n",
              "      <td>0</td>\n",
              "      <td>no</td>\n",
              "      <td>northwest</td>\n",
              "      <td>3866.85520</td>\n",
              "    </tr>\n",
              "  </tbody>\n",
              "</table>\n",
              "</div>\n",
              "    <div class=\"colab-df-buttons\">\n",
              "\n",
              "  <div class=\"colab-df-container\">\n",
              "    <button class=\"colab-df-convert\" onclick=\"convertToInteractive('df-a03f594b-aa07-400b-b810-4bf87f84d92a')\"\n",
              "            title=\"Convert this dataframe to an interactive table.\"\n",
              "            style=\"display:none;\">\n",
              "\n",
              "  <svg xmlns=\"http://www.w3.org/2000/svg\" height=\"24px\" viewBox=\"0 -960 960 960\">\n",
              "    <path d=\"M120-120v-720h720v720H120Zm60-500h600v-160H180v160Zm220 220h160v-160H400v160Zm0 220h160v-160H400v160ZM180-400h160v-160H180v160Zm440 0h160v-160H620v160ZM180-180h160v-160H180v160Zm440 0h160v-160H620v160Z\"/>\n",
              "  </svg>\n",
              "    </button>\n",
              "\n",
              "  <style>\n",
              "    .colab-df-container {\n",
              "      display:flex;\n",
              "      gap: 12px;\n",
              "    }\n",
              "\n",
              "    .colab-df-convert {\n",
              "      background-color: #E8F0FE;\n",
              "      border: none;\n",
              "      border-radius: 50%;\n",
              "      cursor: pointer;\n",
              "      display: none;\n",
              "      fill: #1967D2;\n",
              "      height: 32px;\n",
              "      padding: 0 0 0 0;\n",
              "      width: 32px;\n",
              "    }\n",
              "\n",
              "    .colab-df-convert:hover {\n",
              "      background-color: #E2EBFA;\n",
              "      box-shadow: 0px 1px 2px rgba(60, 64, 67, 0.3), 0px 1px 3px 1px rgba(60, 64, 67, 0.15);\n",
              "      fill: #174EA6;\n",
              "    }\n",
              "\n",
              "    .colab-df-buttons div {\n",
              "      margin-bottom: 4px;\n",
              "    }\n",
              "\n",
              "    [theme=dark] .colab-df-convert {\n",
              "      background-color: #3B4455;\n",
              "      fill: #D2E3FC;\n",
              "    }\n",
              "\n",
              "    [theme=dark] .colab-df-convert:hover {\n",
              "      background-color: #434B5C;\n",
              "      box-shadow: 0px 1px 3px 1px rgba(0, 0, 0, 0.15);\n",
              "      filter: drop-shadow(0px 1px 2px rgba(0, 0, 0, 0.3));\n",
              "      fill: #FFFFFF;\n",
              "    }\n",
              "  </style>\n",
              "\n",
              "    <script>\n",
              "      const buttonEl =\n",
              "        document.querySelector('#df-a03f594b-aa07-400b-b810-4bf87f84d92a button.colab-df-convert');\n",
              "      buttonEl.style.display =\n",
              "        google.colab.kernel.accessAllowed ? 'block' : 'none';\n",
              "\n",
              "      async function convertToInteractive(key) {\n",
              "        const element = document.querySelector('#df-a03f594b-aa07-400b-b810-4bf87f84d92a');\n",
              "        const dataTable =\n",
              "          await google.colab.kernel.invokeFunction('convertToInteractive',\n",
              "                                                    [key], {});\n",
              "        if (!dataTable) return;\n",
              "\n",
              "        const docLinkHtml = 'Like what you see? Visit the ' +\n",
              "          '<a target=\"_blank\" href=https://colab.research.google.com/notebooks/data_table.ipynb>data table notebook</a>'\n",
              "          + ' to learn more about interactive tables.';\n",
              "        element.innerHTML = '';\n",
              "        dataTable['output_type'] = 'display_data';\n",
              "        await google.colab.output.renderOutput(dataTable, element);\n",
              "        const docLink = document.createElement('div');\n",
              "        docLink.innerHTML = docLinkHtml;\n",
              "        element.appendChild(docLink);\n",
              "      }\n",
              "    </script>\n",
              "  </div>\n",
              "\n",
              "\n",
              "<div id=\"df-da0d0def-47da-4021-965b-0dd09ebad603\">\n",
              "  <button class=\"colab-df-quickchart\" onclick=\"quickchart('df-da0d0def-47da-4021-965b-0dd09ebad603')\"\n",
              "            title=\"Suggest charts.\"\n",
              "            style=\"display:none;\">\n",
              "\n",
              "<svg xmlns=\"http://www.w3.org/2000/svg\" height=\"24px\"viewBox=\"0 0 24 24\"\n",
              "     width=\"24px\">\n",
              "    <g>\n",
              "        <path d=\"M19 3H5c-1.1 0-2 .9-2 2v14c0 1.1.9 2 2 2h14c1.1 0 2-.9 2-2V5c0-1.1-.9-2-2-2zM9 17H7v-7h2v7zm4 0h-2V7h2v10zm4 0h-2v-4h2v4z\"/>\n",
              "    </g>\n",
              "</svg>\n",
              "  </button>\n",
              "\n",
              "<style>\n",
              "  .colab-df-quickchart {\n",
              "      --bg-color: #E8F0FE;\n",
              "      --fill-color: #1967D2;\n",
              "      --hover-bg-color: #E2EBFA;\n",
              "      --hover-fill-color: #174EA6;\n",
              "      --disabled-fill-color: #AAA;\n",
              "      --disabled-bg-color: #DDD;\n",
              "  }\n",
              "\n",
              "  [theme=dark] .colab-df-quickchart {\n",
              "      --bg-color: #3B4455;\n",
              "      --fill-color: #D2E3FC;\n",
              "      --hover-bg-color: #434B5C;\n",
              "      --hover-fill-color: #FFFFFF;\n",
              "      --disabled-bg-color: #3B4455;\n",
              "      --disabled-fill-color: #666;\n",
              "  }\n",
              "\n",
              "  .colab-df-quickchart {\n",
              "    background-color: var(--bg-color);\n",
              "    border: none;\n",
              "    border-radius: 50%;\n",
              "    cursor: pointer;\n",
              "    display: none;\n",
              "    fill: var(--fill-color);\n",
              "    height: 32px;\n",
              "    padding: 0;\n",
              "    width: 32px;\n",
              "  }\n",
              "\n",
              "  .colab-df-quickchart:hover {\n",
              "    background-color: var(--hover-bg-color);\n",
              "    box-shadow: 0 1px 2px rgba(60, 64, 67, 0.3), 0 1px 3px 1px rgba(60, 64, 67, 0.15);\n",
              "    fill: var(--button-hover-fill-color);\n",
              "  }\n",
              "\n",
              "  .colab-df-quickchart-complete:disabled,\n",
              "  .colab-df-quickchart-complete:disabled:hover {\n",
              "    background-color: var(--disabled-bg-color);\n",
              "    fill: var(--disabled-fill-color);\n",
              "    box-shadow: none;\n",
              "  }\n",
              "\n",
              "  .colab-df-spinner {\n",
              "    border: 2px solid var(--fill-color);\n",
              "    border-color: transparent;\n",
              "    border-bottom-color: var(--fill-color);\n",
              "    animation:\n",
              "      spin 1s steps(1) infinite;\n",
              "  }\n",
              "\n",
              "  @keyframes spin {\n",
              "    0% {\n",
              "      border-color: transparent;\n",
              "      border-bottom-color: var(--fill-color);\n",
              "      border-left-color: var(--fill-color);\n",
              "    }\n",
              "    20% {\n",
              "      border-color: transparent;\n",
              "      border-left-color: var(--fill-color);\n",
              "      border-top-color: var(--fill-color);\n",
              "    }\n",
              "    30% {\n",
              "      border-color: transparent;\n",
              "      border-left-color: var(--fill-color);\n",
              "      border-top-color: var(--fill-color);\n",
              "      border-right-color: var(--fill-color);\n",
              "    }\n",
              "    40% {\n",
              "      border-color: transparent;\n",
              "      border-right-color: var(--fill-color);\n",
              "      border-top-color: var(--fill-color);\n",
              "    }\n",
              "    60% {\n",
              "      border-color: transparent;\n",
              "      border-right-color: var(--fill-color);\n",
              "    }\n",
              "    80% {\n",
              "      border-color: transparent;\n",
              "      border-right-color: var(--fill-color);\n",
              "      border-bottom-color: var(--fill-color);\n",
              "    }\n",
              "    90% {\n",
              "      border-color: transparent;\n",
              "      border-bottom-color: var(--fill-color);\n",
              "    }\n",
              "  }\n",
              "</style>\n",
              "\n",
              "  <script>\n",
              "    async function quickchart(key) {\n",
              "      const quickchartButtonEl =\n",
              "        document.querySelector('#' + key + ' button');\n",
              "      quickchartButtonEl.disabled = true;  // To prevent multiple clicks.\n",
              "      quickchartButtonEl.classList.add('colab-df-spinner');\n",
              "      try {\n",
              "        const charts = await google.colab.kernel.invokeFunction(\n",
              "            'suggestCharts', [key], {});\n",
              "      } catch (error) {\n",
              "        console.error('Error during call to suggestCharts:', error);\n",
              "      }\n",
              "      quickchartButtonEl.classList.remove('colab-df-spinner');\n",
              "      quickchartButtonEl.classList.add('colab-df-quickchart-complete');\n",
              "    }\n",
              "    (() => {\n",
              "      let quickchartButtonEl =\n",
              "        document.querySelector('#df-da0d0def-47da-4021-965b-0dd09ebad603 button');\n",
              "      quickchartButtonEl.style.display =\n",
              "        google.colab.kernel.accessAllowed ? 'block' : 'none';\n",
              "    })();\n",
              "  </script>\n",
              "</div>\n",
              "    </div>\n",
              "  </div>\n"
            ]
          },
          "metadata": {},
          "execution_count": 59
        }
      ]
    },
    {
      "cell_type": "markdown",
      "source": [
        "We're going to have to turn the non-numerical columns into numbers (because a neural network can't handle non-numerical inputs).\n",
        "\n",
        "To do so, we'll use the get_dummies() method in pandas.\n",
        "\n",
        "It converts categorical variables (like the sex, smoker and region columns) into numerical variables using one-hot encoding."
      ],
      "metadata": {
        "id": "GV6APd-jvxdd"
      }
    },
    {
      "cell_type": "code",
      "source": [
        "insurance_one_hot = pd.get_dummies(insurance)\n",
        "insurance_one_hot.head()"
      ],
      "metadata": {
        "colab": {
          "base_uri": "https://localhost:8080/",
          "height": 206
        },
        "id": "Zp8A0TBDvvuM",
        "outputId": "39faa8f9-2225-45e4-d94f-de7d7aa54c4e"
      },
      "execution_count": null,
      "outputs": [
        {
          "output_type": "execute_result",
          "data": {
            "text/plain": [
              "   age     bmi  children      charges  sex_female  sex_male  smoker_no  \\\n",
              "0   19  27.900         0  16884.92400           1         0          0   \n",
              "1   18  33.770         1   1725.55230           0         1          1   \n",
              "2   28  33.000         3   4449.46200           0         1          1   \n",
              "3   33  22.705         0  21984.47061           0         1          1   \n",
              "4   32  28.880         0   3866.85520           0         1          1   \n",
              "\n",
              "   smoker_yes  region_northeast  region_northwest  region_southeast  \\\n",
              "0           1                 0                 0                 0   \n",
              "1           0                 0                 0                 1   \n",
              "2           0                 0                 0                 1   \n",
              "3           0                 0                 1                 0   \n",
              "4           0                 0                 1                 0   \n",
              "\n",
              "   region_southwest  \n",
              "0                 1  \n",
              "1                 0  \n",
              "2                 0  \n",
              "3                 0  \n",
              "4                 0  "
            ],
            "text/html": [
              "\n",
              "  <div id=\"df-30521932-4d40-4363-a01e-965372fb5ee3\" class=\"colab-df-container\">\n",
              "    <div>\n",
              "<style scoped>\n",
              "    .dataframe tbody tr th:only-of-type {\n",
              "        vertical-align: middle;\n",
              "    }\n",
              "\n",
              "    .dataframe tbody tr th {\n",
              "        vertical-align: top;\n",
              "    }\n",
              "\n",
              "    .dataframe thead th {\n",
              "        text-align: right;\n",
              "    }\n",
              "</style>\n",
              "<table border=\"1\" class=\"dataframe\">\n",
              "  <thead>\n",
              "    <tr style=\"text-align: right;\">\n",
              "      <th></th>\n",
              "      <th>age</th>\n",
              "      <th>bmi</th>\n",
              "      <th>children</th>\n",
              "      <th>charges</th>\n",
              "      <th>sex_female</th>\n",
              "      <th>sex_male</th>\n",
              "      <th>smoker_no</th>\n",
              "      <th>smoker_yes</th>\n",
              "      <th>region_northeast</th>\n",
              "      <th>region_northwest</th>\n",
              "      <th>region_southeast</th>\n",
              "      <th>region_southwest</th>\n",
              "    </tr>\n",
              "  </thead>\n",
              "  <tbody>\n",
              "    <tr>\n",
              "      <th>0</th>\n",
              "      <td>19</td>\n",
              "      <td>27.900</td>\n",
              "      <td>0</td>\n",
              "      <td>16884.92400</td>\n",
              "      <td>1</td>\n",
              "      <td>0</td>\n",
              "      <td>0</td>\n",
              "      <td>1</td>\n",
              "      <td>0</td>\n",
              "      <td>0</td>\n",
              "      <td>0</td>\n",
              "      <td>1</td>\n",
              "    </tr>\n",
              "    <tr>\n",
              "      <th>1</th>\n",
              "      <td>18</td>\n",
              "      <td>33.770</td>\n",
              "      <td>1</td>\n",
              "      <td>1725.55230</td>\n",
              "      <td>0</td>\n",
              "      <td>1</td>\n",
              "      <td>1</td>\n",
              "      <td>0</td>\n",
              "      <td>0</td>\n",
              "      <td>0</td>\n",
              "      <td>1</td>\n",
              "      <td>0</td>\n",
              "    </tr>\n",
              "    <tr>\n",
              "      <th>2</th>\n",
              "      <td>28</td>\n",
              "      <td>33.000</td>\n",
              "      <td>3</td>\n",
              "      <td>4449.46200</td>\n",
              "      <td>0</td>\n",
              "      <td>1</td>\n",
              "      <td>1</td>\n",
              "      <td>0</td>\n",
              "      <td>0</td>\n",
              "      <td>0</td>\n",
              "      <td>1</td>\n",
              "      <td>0</td>\n",
              "    </tr>\n",
              "    <tr>\n",
              "      <th>3</th>\n",
              "      <td>33</td>\n",
              "      <td>22.705</td>\n",
              "      <td>0</td>\n",
              "      <td>21984.47061</td>\n",
              "      <td>0</td>\n",
              "      <td>1</td>\n",
              "      <td>1</td>\n",
              "      <td>0</td>\n",
              "      <td>0</td>\n",
              "      <td>1</td>\n",
              "      <td>0</td>\n",
              "      <td>0</td>\n",
              "    </tr>\n",
              "    <tr>\n",
              "      <th>4</th>\n",
              "      <td>32</td>\n",
              "      <td>28.880</td>\n",
              "      <td>0</td>\n",
              "      <td>3866.85520</td>\n",
              "      <td>0</td>\n",
              "      <td>1</td>\n",
              "      <td>1</td>\n",
              "      <td>0</td>\n",
              "      <td>0</td>\n",
              "      <td>1</td>\n",
              "      <td>0</td>\n",
              "      <td>0</td>\n",
              "    </tr>\n",
              "  </tbody>\n",
              "</table>\n",
              "</div>\n",
              "    <div class=\"colab-df-buttons\">\n",
              "\n",
              "  <div class=\"colab-df-container\">\n",
              "    <button class=\"colab-df-convert\" onclick=\"convertToInteractive('df-30521932-4d40-4363-a01e-965372fb5ee3')\"\n",
              "            title=\"Convert this dataframe to an interactive table.\"\n",
              "            style=\"display:none;\">\n",
              "\n",
              "  <svg xmlns=\"http://www.w3.org/2000/svg\" height=\"24px\" viewBox=\"0 -960 960 960\">\n",
              "    <path d=\"M120-120v-720h720v720H120Zm60-500h600v-160H180v160Zm220 220h160v-160H400v160Zm0 220h160v-160H400v160ZM180-400h160v-160H180v160Zm440 0h160v-160H620v160ZM180-180h160v-160H180v160Zm440 0h160v-160H620v160Z\"/>\n",
              "  </svg>\n",
              "    </button>\n",
              "\n",
              "  <style>\n",
              "    .colab-df-container {\n",
              "      display:flex;\n",
              "      gap: 12px;\n",
              "    }\n",
              "\n",
              "    .colab-df-convert {\n",
              "      background-color: #E8F0FE;\n",
              "      border: none;\n",
              "      border-radius: 50%;\n",
              "      cursor: pointer;\n",
              "      display: none;\n",
              "      fill: #1967D2;\n",
              "      height: 32px;\n",
              "      padding: 0 0 0 0;\n",
              "      width: 32px;\n",
              "    }\n",
              "\n",
              "    .colab-df-convert:hover {\n",
              "      background-color: #E2EBFA;\n",
              "      box-shadow: 0px 1px 2px rgba(60, 64, 67, 0.3), 0px 1px 3px 1px rgba(60, 64, 67, 0.15);\n",
              "      fill: #174EA6;\n",
              "    }\n",
              "\n",
              "    .colab-df-buttons div {\n",
              "      margin-bottom: 4px;\n",
              "    }\n",
              "\n",
              "    [theme=dark] .colab-df-convert {\n",
              "      background-color: #3B4455;\n",
              "      fill: #D2E3FC;\n",
              "    }\n",
              "\n",
              "    [theme=dark] .colab-df-convert:hover {\n",
              "      background-color: #434B5C;\n",
              "      box-shadow: 0px 1px 3px 1px rgba(0, 0, 0, 0.15);\n",
              "      filter: drop-shadow(0px 1px 2px rgba(0, 0, 0, 0.3));\n",
              "      fill: #FFFFFF;\n",
              "    }\n",
              "  </style>\n",
              "\n",
              "    <script>\n",
              "      const buttonEl =\n",
              "        document.querySelector('#df-30521932-4d40-4363-a01e-965372fb5ee3 button.colab-df-convert');\n",
              "      buttonEl.style.display =\n",
              "        google.colab.kernel.accessAllowed ? 'block' : 'none';\n",
              "\n",
              "      async function convertToInteractive(key) {\n",
              "        const element = document.querySelector('#df-30521932-4d40-4363-a01e-965372fb5ee3');\n",
              "        const dataTable =\n",
              "          await google.colab.kernel.invokeFunction('convertToInteractive',\n",
              "                                                    [key], {});\n",
              "        if (!dataTable) return;\n",
              "\n",
              "        const docLinkHtml = 'Like what you see? Visit the ' +\n",
              "          '<a target=\"_blank\" href=https://colab.research.google.com/notebooks/data_table.ipynb>data table notebook</a>'\n",
              "          + ' to learn more about interactive tables.';\n",
              "        element.innerHTML = '';\n",
              "        dataTable['output_type'] = 'display_data';\n",
              "        await google.colab.output.renderOutput(dataTable, element);\n",
              "        const docLink = document.createElement('div');\n",
              "        docLink.innerHTML = docLinkHtml;\n",
              "        element.appendChild(docLink);\n",
              "      }\n",
              "    </script>\n",
              "  </div>\n",
              "\n",
              "\n",
              "<div id=\"df-4fee49bc-5263-4415-b524-317461c993e1\">\n",
              "  <button class=\"colab-df-quickchart\" onclick=\"quickchart('df-4fee49bc-5263-4415-b524-317461c993e1')\"\n",
              "            title=\"Suggest charts.\"\n",
              "            style=\"display:none;\">\n",
              "\n",
              "<svg xmlns=\"http://www.w3.org/2000/svg\" height=\"24px\"viewBox=\"0 0 24 24\"\n",
              "     width=\"24px\">\n",
              "    <g>\n",
              "        <path d=\"M19 3H5c-1.1 0-2 .9-2 2v14c0 1.1.9 2 2 2h14c1.1 0 2-.9 2-2V5c0-1.1-.9-2-2-2zM9 17H7v-7h2v7zm4 0h-2V7h2v10zm4 0h-2v-4h2v4z\"/>\n",
              "    </g>\n",
              "</svg>\n",
              "  </button>\n",
              "\n",
              "<style>\n",
              "  .colab-df-quickchart {\n",
              "      --bg-color: #E8F0FE;\n",
              "      --fill-color: #1967D2;\n",
              "      --hover-bg-color: #E2EBFA;\n",
              "      --hover-fill-color: #174EA6;\n",
              "      --disabled-fill-color: #AAA;\n",
              "      --disabled-bg-color: #DDD;\n",
              "  }\n",
              "\n",
              "  [theme=dark] .colab-df-quickchart {\n",
              "      --bg-color: #3B4455;\n",
              "      --fill-color: #D2E3FC;\n",
              "      --hover-bg-color: #434B5C;\n",
              "      --hover-fill-color: #FFFFFF;\n",
              "      --disabled-bg-color: #3B4455;\n",
              "      --disabled-fill-color: #666;\n",
              "  }\n",
              "\n",
              "  .colab-df-quickchart {\n",
              "    background-color: var(--bg-color);\n",
              "    border: none;\n",
              "    border-radius: 50%;\n",
              "    cursor: pointer;\n",
              "    display: none;\n",
              "    fill: var(--fill-color);\n",
              "    height: 32px;\n",
              "    padding: 0;\n",
              "    width: 32px;\n",
              "  }\n",
              "\n",
              "  .colab-df-quickchart:hover {\n",
              "    background-color: var(--hover-bg-color);\n",
              "    box-shadow: 0 1px 2px rgba(60, 64, 67, 0.3), 0 1px 3px 1px rgba(60, 64, 67, 0.15);\n",
              "    fill: var(--button-hover-fill-color);\n",
              "  }\n",
              "\n",
              "  .colab-df-quickchart-complete:disabled,\n",
              "  .colab-df-quickchart-complete:disabled:hover {\n",
              "    background-color: var(--disabled-bg-color);\n",
              "    fill: var(--disabled-fill-color);\n",
              "    box-shadow: none;\n",
              "  }\n",
              "\n",
              "  .colab-df-spinner {\n",
              "    border: 2px solid var(--fill-color);\n",
              "    border-color: transparent;\n",
              "    border-bottom-color: var(--fill-color);\n",
              "    animation:\n",
              "      spin 1s steps(1) infinite;\n",
              "  }\n",
              "\n",
              "  @keyframes spin {\n",
              "    0% {\n",
              "      border-color: transparent;\n",
              "      border-bottom-color: var(--fill-color);\n",
              "      border-left-color: var(--fill-color);\n",
              "    }\n",
              "    20% {\n",
              "      border-color: transparent;\n",
              "      border-left-color: var(--fill-color);\n",
              "      border-top-color: var(--fill-color);\n",
              "    }\n",
              "    30% {\n",
              "      border-color: transparent;\n",
              "      border-left-color: var(--fill-color);\n",
              "      border-top-color: var(--fill-color);\n",
              "      border-right-color: var(--fill-color);\n",
              "    }\n",
              "    40% {\n",
              "      border-color: transparent;\n",
              "      border-right-color: var(--fill-color);\n",
              "      border-top-color: var(--fill-color);\n",
              "    }\n",
              "    60% {\n",
              "      border-color: transparent;\n",
              "      border-right-color: var(--fill-color);\n",
              "    }\n",
              "    80% {\n",
              "      border-color: transparent;\n",
              "      border-right-color: var(--fill-color);\n",
              "      border-bottom-color: var(--fill-color);\n",
              "    }\n",
              "    90% {\n",
              "      border-color: transparent;\n",
              "      border-bottom-color: var(--fill-color);\n",
              "    }\n",
              "  }\n",
              "</style>\n",
              "\n",
              "  <script>\n",
              "    async function quickchart(key) {\n",
              "      const quickchartButtonEl =\n",
              "        document.querySelector('#' + key + ' button');\n",
              "      quickchartButtonEl.disabled = true;  // To prevent multiple clicks.\n",
              "      quickchartButtonEl.classList.add('colab-df-spinner');\n",
              "      try {\n",
              "        const charts = await google.colab.kernel.invokeFunction(\n",
              "            'suggestCharts', [key], {});\n",
              "      } catch (error) {\n",
              "        console.error('Error during call to suggestCharts:', error);\n",
              "      }\n",
              "      quickchartButtonEl.classList.remove('colab-df-spinner');\n",
              "      quickchartButtonEl.classList.add('colab-df-quickchart-complete');\n",
              "    }\n",
              "    (() => {\n",
              "      let quickchartButtonEl =\n",
              "        document.querySelector('#df-4fee49bc-5263-4415-b524-317461c993e1 button');\n",
              "      quickchartButtonEl.style.display =\n",
              "        google.colab.kernel.accessAllowed ? 'block' : 'none';\n",
              "    })();\n",
              "  </script>\n",
              "</div>\n",
              "    </div>\n",
              "  </div>\n"
            ]
          },
          "metadata": {},
          "execution_count": 60
        }
      ]
    },
    {
      "cell_type": "code",
      "source": [
        "X = insurance_one_hot.drop([\"charges\"], axis = 1)\n",
        "y = insurance_one_hot[\"charges\"]"
      ],
      "metadata": {
        "id": "4y-piBHJv7iu"
      },
      "execution_count": null,
      "outputs": []
    },
    {
      "cell_type": "code",
      "source": [
        "X.head()"
      ],
      "metadata": {
        "colab": {
          "base_uri": "https://localhost:8080/",
          "height": 206
        },
        "id": "mLX83TP9wG7V",
        "outputId": "1c35b6b4-7e7d-419b-f9f0-6a1badceb74c"
      },
      "execution_count": null,
      "outputs": [
        {
          "output_type": "execute_result",
          "data": {
            "text/plain": [
              "   age     bmi  children  sex_female  sex_male  smoker_no  smoker_yes  \\\n",
              "0   19  27.900         0           1         0          0           1   \n",
              "1   18  33.770         1           0         1          1           0   \n",
              "2   28  33.000         3           0         1          1           0   \n",
              "3   33  22.705         0           0         1          1           0   \n",
              "4   32  28.880         0           0         1          1           0   \n",
              "\n",
              "   region_northeast  region_northwest  region_southeast  region_southwest  \n",
              "0                 0                 0                 0                 1  \n",
              "1                 0                 0                 1                 0  \n",
              "2                 0                 0                 1                 0  \n",
              "3                 0                 1                 0                 0  \n",
              "4                 0                 1                 0                 0  "
            ],
            "text/html": [
              "\n",
              "  <div id=\"df-983a5bbb-5427-4579-a606-4d38952b820b\" class=\"colab-df-container\">\n",
              "    <div>\n",
              "<style scoped>\n",
              "    .dataframe tbody tr th:only-of-type {\n",
              "        vertical-align: middle;\n",
              "    }\n",
              "\n",
              "    .dataframe tbody tr th {\n",
              "        vertical-align: top;\n",
              "    }\n",
              "\n",
              "    .dataframe thead th {\n",
              "        text-align: right;\n",
              "    }\n",
              "</style>\n",
              "<table border=\"1\" class=\"dataframe\">\n",
              "  <thead>\n",
              "    <tr style=\"text-align: right;\">\n",
              "      <th></th>\n",
              "      <th>age</th>\n",
              "      <th>bmi</th>\n",
              "      <th>children</th>\n",
              "      <th>sex_female</th>\n",
              "      <th>sex_male</th>\n",
              "      <th>smoker_no</th>\n",
              "      <th>smoker_yes</th>\n",
              "      <th>region_northeast</th>\n",
              "      <th>region_northwest</th>\n",
              "      <th>region_southeast</th>\n",
              "      <th>region_southwest</th>\n",
              "    </tr>\n",
              "  </thead>\n",
              "  <tbody>\n",
              "    <tr>\n",
              "      <th>0</th>\n",
              "      <td>19</td>\n",
              "      <td>27.900</td>\n",
              "      <td>0</td>\n",
              "      <td>1</td>\n",
              "      <td>0</td>\n",
              "      <td>0</td>\n",
              "      <td>1</td>\n",
              "      <td>0</td>\n",
              "      <td>0</td>\n",
              "      <td>0</td>\n",
              "      <td>1</td>\n",
              "    </tr>\n",
              "    <tr>\n",
              "      <th>1</th>\n",
              "      <td>18</td>\n",
              "      <td>33.770</td>\n",
              "      <td>1</td>\n",
              "      <td>0</td>\n",
              "      <td>1</td>\n",
              "      <td>1</td>\n",
              "      <td>0</td>\n",
              "      <td>0</td>\n",
              "      <td>0</td>\n",
              "      <td>1</td>\n",
              "      <td>0</td>\n",
              "    </tr>\n",
              "    <tr>\n",
              "      <th>2</th>\n",
              "      <td>28</td>\n",
              "      <td>33.000</td>\n",
              "      <td>3</td>\n",
              "      <td>0</td>\n",
              "      <td>1</td>\n",
              "      <td>1</td>\n",
              "      <td>0</td>\n",
              "      <td>0</td>\n",
              "      <td>0</td>\n",
              "      <td>1</td>\n",
              "      <td>0</td>\n",
              "    </tr>\n",
              "    <tr>\n",
              "      <th>3</th>\n",
              "      <td>33</td>\n",
              "      <td>22.705</td>\n",
              "      <td>0</td>\n",
              "      <td>0</td>\n",
              "      <td>1</td>\n",
              "      <td>1</td>\n",
              "      <td>0</td>\n",
              "      <td>0</td>\n",
              "      <td>1</td>\n",
              "      <td>0</td>\n",
              "      <td>0</td>\n",
              "    </tr>\n",
              "    <tr>\n",
              "      <th>4</th>\n",
              "      <td>32</td>\n",
              "      <td>28.880</td>\n",
              "      <td>0</td>\n",
              "      <td>0</td>\n",
              "      <td>1</td>\n",
              "      <td>1</td>\n",
              "      <td>0</td>\n",
              "      <td>0</td>\n",
              "      <td>1</td>\n",
              "      <td>0</td>\n",
              "      <td>0</td>\n",
              "    </tr>\n",
              "  </tbody>\n",
              "</table>\n",
              "</div>\n",
              "    <div class=\"colab-df-buttons\">\n",
              "\n",
              "  <div class=\"colab-df-container\">\n",
              "    <button class=\"colab-df-convert\" onclick=\"convertToInteractive('df-983a5bbb-5427-4579-a606-4d38952b820b')\"\n",
              "            title=\"Convert this dataframe to an interactive table.\"\n",
              "            style=\"display:none;\">\n",
              "\n",
              "  <svg xmlns=\"http://www.w3.org/2000/svg\" height=\"24px\" viewBox=\"0 -960 960 960\">\n",
              "    <path d=\"M120-120v-720h720v720H120Zm60-500h600v-160H180v160Zm220 220h160v-160H400v160Zm0 220h160v-160H400v160ZM180-400h160v-160H180v160Zm440 0h160v-160H620v160ZM180-180h160v-160H180v160Zm440 0h160v-160H620v160Z\"/>\n",
              "  </svg>\n",
              "    </button>\n",
              "\n",
              "  <style>\n",
              "    .colab-df-container {\n",
              "      display:flex;\n",
              "      gap: 12px;\n",
              "    }\n",
              "\n",
              "    .colab-df-convert {\n",
              "      background-color: #E8F0FE;\n",
              "      border: none;\n",
              "      border-radius: 50%;\n",
              "      cursor: pointer;\n",
              "      display: none;\n",
              "      fill: #1967D2;\n",
              "      height: 32px;\n",
              "      padding: 0 0 0 0;\n",
              "      width: 32px;\n",
              "    }\n",
              "\n",
              "    .colab-df-convert:hover {\n",
              "      background-color: #E2EBFA;\n",
              "      box-shadow: 0px 1px 2px rgba(60, 64, 67, 0.3), 0px 1px 3px 1px rgba(60, 64, 67, 0.15);\n",
              "      fill: #174EA6;\n",
              "    }\n",
              "\n",
              "    .colab-df-buttons div {\n",
              "      margin-bottom: 4px;\n",
              "    }\n",
              "\n",
              "    [theme=dark] .colab-df-convert {\n",
              "      background-color: #3B4455;\n",
              "      fill: #D2E3FC;\n",
              "    }\n",
              "\n",
              "    [theme=dark] .colab-df-convert:hover {\n",
              "      background-color: #434B5C;\n",
              "      box-shadow: 0px 1px 3px 1px rgba(0, 0, 0, 0.15);\n",
              "      filter: drop-shadow(0px 1px 2px rgba(0, 0, 0, 0.3));\n",
              "      fill: #FFFFFF;\n",
              "    }\n",
              "  </style>\n",
              "\n",
              "    <script>\n",
              "      const buttonEl =\n",
              "        document.querySelector('#df-983a5bbb-5427-4579-a606-4d38952b820b button.colab-df-convert');\n",
              "      buttonEl.style.display =\n",
              "        google.colab.kernel.accessAllowed ? 'block' : 'none';\n",
              "\n",
              "      async function convertToInteractive(key) {\n",
              "        const element = document.querySelector('#df-983a5bbb-5427-4579-a606-4d38952b820b');\n",
              "        const dataTable =\n",
              "          await google.colab.kernel.invokeFunction('convertToInteractive',\n",
              "                                                    [key], {});\n",
              "        if (!dataTable) return;\n",
              "\n",
              "        const docLinkHtml = 'Like what you see? Visit the ' +\n",
              "          '<a target=\"_blank\" href=https://colab.research.google.com/notebooks/data_table.ipynb>data table notebook</a>'\n",
              "          + ' to learn more about interactive tables.';\n",
              "        element.innerHTML = '';\n",
              "        dataTable['output_type'] = 'display_data';\n",
              "        await google.colab.output.renderOutput(dataTable, element);\n",
              "        const docLink = document.createElement('div');\n",
              "        docLink.innerHTML = docLinkHtml;\n",
              "        element.appendChild(docLink);\n",
              "      }\n",
              "    </script>\n",
              "  </div>\n",
              "\n",
              "\n",
              "<div id=\"df-3bd44735-dd3b-401c-81c2-aa7eaa44f8e2\">\n",
              "  <button class=\"colab-df-quickchart\" onclick=\"quickchart('df-3bd44735-dd3b-401c-81c2-aa7eaa44f8e2')\"\n",
              "            title=\"Suggest charts.\"\n",
              "            style=\"display:none;\">\n",
              "\n",
              "<svg xmlns=\"http://www.w3.org/2000/svg\" height=\"24px\"viewBox=\"0 0 24 24\"\n",
              "     width=\"24px\">\n",
              "    <g>\n",
              "        <path d=\"M19 3H5c-1.1 0-2 .9-2 2v14c0 1.1.9 2 2 2h14c1.1 0 2-.9 2-2V5c0-1.1-.9-2-2-2zM9 17H7v-7h2v7zm4 0h-2V7h2v10zm4 0h-2v-4h2v4z\"/>\n",
              "    </g>\n",
              "</svg>\n",
              "  </button>\n",
              "\n",
              "<style>\n",
              "  .colab-df-quickchart {\n",
              "      --bg-color: #E8F0FE;\n",
              "      --fill-color: #1967D2;\n",
              "      --hover-bg-color: #E2EBFA;\n",
              "      --hover-fill-color: #174EA6;\n",
              "      --disabled-fill-color: #AAA;\n",
              "      --disabled-bg-color: #DDD;\n",
              "  }\n",
              "\n",
              "  [theme=dark] .colab-df-quickchart {\n",
              "      --bg-color: #3B4455;\n",
              "      --fill-color: #D2E3FC;\n",
              "      --hover-bg-color: #434B5C;\n",
              "      --hover-fill-color: #FFFFFF;\n",
              "      --disabled-bg-color: #3B4455;\n",
              "      --disabled-fill-color: #666;\n",
              "  }\n",
              "\n",
              "  .colab-df-quickchart {\n",
              "    background-color: var(--bg-color);\n",
              "    border: none;\n",
              "    border-radius: 50%;\n",
              "    cursor: pointer;\n",
              "    display: none;\n",
              "    fill: var(--fill-color);\n",
              "    height: 32px;\n",
              "    padding: 0;\n",
              "    width: 32px;\n",
              "  }\n",
              "\n",
              "  .colab-df-quickchart:hover {\n",
              "    background-color: var(--hover-bg-color);\n",
              "    box-shadow: 0 1px 2px rgba(60, 64, 67, 0.3), 0 1px 3px 1px rgba(60, 64, 67, 0.15);\n",
              "    fill: var(--button-hover-fill-color);\n",
              "  }\n",
              "\n",
              "  .colab-df-quickchart-complete:disabled,\n",
              "  .colab-df-quickchart-complete:disabled:hover {\n",
              "    background-color: var(--disabled-bg-color);\n",
              "    fill: var(--disabled-fill-color);\n",
              "    box-shadow: none;\n",
              "  }\n",
              "\n",
              "  .colab-df-spinner {\n",
              "    border: 2px solid var(--fill-color);\n",
              "    border-color: transparent;\n",
              "    border-bottom-color: var(--fill-color);\n",
              "    animation:\n",
              "      spin 1s steps(1) infinite;\n",
              "  }\n",
              "\n",
              "  @keyframes spin {\n",
              "    0% {\n",
              "      border-color: transparent;\n",
              "      border-bottom-color: var(--fill-color);\n",
              "      border-left-color: var(--fill-color);\n",
              "    }\n",
              "    20% {\n",
              "      border-color: transparent;\n",
              "      border-left-color: var(--fill-color);\n",
              "      border-top-color: var(--fill-color);\n",
              "    }\n",
              "    30% {\n",
              "      border-color: transparent;\n",
              "      border-left-color: var(--fill-color);\n",
              "      border-top-color: var(--fill-color);\n",
              "      border-right-color: var(--fill-color);\n",
              "    }\n",
              "    40% {\n",
              "      border-color: transparent;\n",
              "      border-right-color: var(--fill-color);\n",
              "      border-top-color: var(--fill-color);\n",
              "    }\n",
              "    60% {\n",
              "      border-color: transparent;\n",
              "      border-right-color: var(--fill-color);\n",
              "    }\n",
              "    80% {\n",
              "      border-color: transparent;\n",
              "      border-right-color: var(--fill-color);\n",
              "      border-bottom-color: var(--fill-color);\n",
              "    }\n",
              "    90% {\n",
              "      border-color: transparent;\n",
              "      border-bottom-color: var(--fill-color);\n",
              "    }\n",
              "  }\n",
              "</style>\n",
              "\n",
              "  <script>\n",
              "    async function quickchart(key) {\n",
              "      const quickchartButtonEl =\n",
              "        document.querySelector('#' + key + ' button');\n",
              "      quickchartButtonEl.disabled = true;  // To prevent multiple clicks.\n",
              "      quickchartButtonEl.classList.add('colab-df-spinner');\n",
              "      try {\n",
              "        const charts = await google.colab.kernel.invokeFunction(\n",
              "            'suggestCharts', [key], {});\n",
              "      } catch (error) {\n",
              "        console.error('Error during call to suggestCharts:', error);\n",
              "      }\n",
              "      quickchartButtonEl.classList.remove('colab-df-spinner');\n",
              "      quickchartButtonEl.classList.add('colab-df-quickchart-complete');\n",
              "    }\n",
              "    (() => {\n",
              "      let quickchartButtonEl =\n",
              "        document.querySelector('#df-3bd44735-dd3b-401c-81c2-aa7eaa44f8e2 button');\n",
              "      quickchartButtonEl.style.display =\n",
              "        google.colab.kernel.accessAllowed ? 'block' : 'none';\n",
              "    })();\n",
              "  </script>\n",
              "</div>\n",
              "    </div>\n",
              "  </div>\n"
            ]
          },
          "metadata": {},
          "execution_count": 62
        }
      ]
    },
    {
      "cell_type": "code",
      "source": [
        "from sklearn.model_selection import train_test_split\n",
        "X_train, X_test, y_train, y_test = train_test_split(X, y , test_size = 0.2, random_state = 42)\n"
      ],
      "metadata": {
        "id": "Z-aFlsZ-wICF"
      },
      "execution_count": null,
      "outputs": []
    },
    {
      "cell_type": "code",
      "source": [
        "tf.random.set_seed(42)\n",
        "\n",
        "insurance_model = tf.keras.Sequential()\n",
        "\n",
        "insurance_model.add(tf.keras.layers.Dense(1))\n",
        "insurance_model.add(tf.keras.layers.Dense(1))\n",
        "\n",
        "insurance_model.compile(loss = tf.keras.losses.mae,\n",
        "                        optimizer = tf.keras.optimizers.SGD(),\n",
        "                        metrics = [\"mae\"])\n",
        "\n",
        "insurance_model.fit(X_train, y_train , epochs = 100)"
      ],
      "metadata": {
        "colab": {
          "base_uri": "https://localhost:8080/"
        },
        "id": "pDQHCPbYwXr1",
        "outputId": "eefa0d19-480f-4950-e51e-7107992d0cb4"
      },
      "execution_count": null,
      "outputs": [
        {
          "output_type": "stream",
          "name": "stdout",
          "text": [
            "Epoch 1/100\n",
            "34/34 [==============================] - 1s 3ms/step - loss: 9193.0068 - mae: 9193.0068\n",
            "Epoch 2/100\n",
            "34/34 [==============================] - 0s 4ms/step - loss: 7889.8457 - mae: 7889.8457\n",
            "Epoch 3/100\n",
            "34/34 [==============================] - 0s 4ms/step - loss: 7572.5386 - mae: 7572.5386\n",
            "Epoch 4/100\n",
            "34/34 [==============================] - 0s 2ms/step - loss: 7674.2734 - mae: 7674.2734\n",
            "Epoch 5/100\n",
            "34/34 [==============================] - 0s 3ms/step - loss: 7690.2393 - mae: 7690.2393\n",
            "Epoch 6/100\n",
            "34/34 [==============================] - 0s 3ms/step - loss: 7612.4360 - mae: 7612.4360\n",
            "Epoch 7/100\n",
            "34/34 [==============================] - 0s 2ms/step - loss: 7582.4404 - mae: 7582.4404\n",
            "Epoch 8/100\n",
            "34/34 [==============================] - 0s 3ms/step - loss: 7797.8174 - mae: 7797.8174\n",
            "Epoch 9/100\n",
            "34/34 [==============================] - 0s 3ms/step - loss: 7611.7085 - mae: 7611.7085\n",
            "Epoch 10/100\n",
            "34/34 [==============================] - 0s 4ms/step - loss: 7744.9067 - mae: 7744.9067\n",
            "Epoch 11/100\n",
            "34/34 [==============================] - 0s 7ms/step - loss: 7597.1636 - mae: 7597.1636\n",
            "Epoch 12/100\n",
            "34/34 [==============================] - 0s 3ms/step - loss: 7641.8389 - mae: 7641.8389\n",
            "Epoch 13/100\n",
            "34/34 [==============================] - 0s 6ms/step - loss: 7714.6733 - mae: 7714.6733\n",
            "Epoch 14/100\n",
            "34/34 [==============================] - 0s 3ms/step - loss: 7796.6221 - mae: 7796.6221\n",
            "Epoch 15/100\n",
            "34/34 [==============================] - 0s 4ms/step - loss: 7527.0820 - mae: 7527.0820\n",
            "Epoch 16/100\n",
            "34/34 [==============================] - 0s 6ms/step - loss: 7789.0415 - mae: 7789.0415\n",
            "Epoch 17/100\n",
            "34/34 [==============================] - 0s 6ms/step - loss: 7526.0630 - mae: 7526.0630\n",
            "Epoch 18/100\n",
            "34/34 [==============================] - 0s 7ms/step - loss: 7819.1445 - mae: 7819.1445\n",
            "Epoch 19/100\n",
            "34/34 [==============================] - 0s 5ms/step - loss: 7540.2852 - mae: 7540.2852\n",
            "Epoch 20/100\n",
            "34/34 [==============================] - 0s 4ms/step - loss: 7913.7700 - mae: 7913.7700\n",
            "Epoch 21/100\n",
            "34/34 [==============================] - 0s 4ms/step - loss: 7566.0728 - mae: 7566.0728\n",
            "Epoch 22/100\n",
            "34/34 [==============================] - 0s 6ms/step - loss: 7851.7681 - mae: 7851.7681\n",
            "Epoch 23/100\n",
            "34/34 [==============================] - 0s 4ms/step - loss: 7710.6406 - mae: 7710.6406\n",
            "Epoch 24/100\n",
            "34/34 [==============================] - 0s 6ms/step - loss: 7469.5688 - mae: 7469.5688\n",
            "Epoch 25/100\n",
            "34/34 [==============================] - 0s 7ms/step - loss: 7613.4688 - mae: 7613.4688\n",
            "Epoch 26/100\n",
            "34/34 [==============================] - 0s 5ms/step - loss: 7697.1494 - mae: 7697.1494\n",
            "Epoch 27/100\n",
            "34/34 [==============================] - 0s 4ms/step - loss: 7583.4976 - mae: 7583.4976\n",
            "Epoch 28/100\n",
            "34/34 [==============================] - 0s 6ms/step - loss: 7524.1675 - mae: 7524.1675\n",
            "Epoch 29/100\n",
            "34/34 [==============================] - 0s 4ms/step - loss: 7635.7490 - mae: 7635.7490\n",
            "Epoch 30/100\n",
            "34/34 [==============================] - 0s 7ms/step - loss: 7572.3613 - mae: 7572.3613\n",
            "Epoch 31/100\n",
            "34/34 [==============================] - 0s 5ms/step - loss: 7724.4204 - mae: 7724.4204\n",
            "Epoch 32/100\n",
            "34/34 [==============================] - 0s 5ms/step - loss: 7508.2891 - mae: 7508.2891\n",
            "Epoch 33/100\n",
            "34/34 [==============================] - 0s 3ms/step - loss: 7459.9697 - mae: 7459.9697\n",
            "Epoch 34/100\n",
            "34/34 [==============================] - 0s 3ms/step - loss: 7452.0620 - mae: 7452.0620\n",
            "Epoch 35/100\n",
            "34/34 [==============================] - 0s 4ms/step - loss: 7612.6392 - mae: 7612.6392\n",
            "Epoch 36/100\n",
            "34/34 [==============================] - 0s 3ms/step - loss: 7557.0703 - mae: 7557.0703\n",
            "Epoch 37/100\n",
            "34/34 [==============================] - 0s 4ms/step - loss: 7629.5923 - mae: 7629.5923\n",
            "Epoch 38/100\n",
            "34/34 [==============================] - 0s 3ms/step - loss: 7362.2466 - mae: 7362.2466\n",
            "Epoch 39/100\n",
            "34/34 [==============================] - 0s 3ms/step - loss: 7545.4404 - mae: 7545.4404\n",
            "Epoch 40/100\n",
            "34/34 [==============================] - 0s 3ms/step - loss: 7322.7358 - mae: 7322.7358\n",
            "Epoch 41/100\n",
            "34/34 [==============================] - 0s 3ms/step - loss: 7636.8931 - mae: 7636.8931\n",
            "Epoch 42/100\n",
            "34/34 [==============================] - 0s 2ms/step - loss: 7363.5498 - mae: 7363.5498\n",
            "Epoch 43/100\n",
            "34/34 [==============================] - 0s 3ms/step - loss: 7758.6987 - mae: 7758.6987\n",
            "Epoch 44/100\n",
            "34/34 [==============================] - 0s 3ms/step - loss: 7484.5278 - mae: 7484.5278\n",
            "Epoch 45/100\n",
            "34/34 [==============================] - 0s 2ms/step - loss: 7499.4170 - mae: 7499.4170\n",
            "Epoch 46/100\n",
            "34/34 [==============================] - 0s 2ms/step - loss: 7386.1968 - mae: 7386.1968\n",
            "Epoch 47/100\n",
            "34/34 [==============================] - 0s 2ms/step - loss: 7439.1943 - mae: 7439.1943\n",
            "Epoch 48/100\n",
            "34/34 [==============================] - 0s 3ms/step - loss: 7525.7959 - mae: 7525.7959\n",
            "Epoch 49/100\n",
            "34/34 [==============================] - 0s 3ms/step - loss: 7538.0845 - mae: 7538.0845\n",
            "Epoch 50/100\n",
            "34/34 [==============================] - 0s 3ms/step - loss: 7508.0439 - mae: 7508.0439\n",
            "Epoch 51/100\n",
            "34/34 [==============================] - 0s 2ms/step - loss: 7412.8799 - mae: 7412.8799\n",
            "Epoch 52/100\n",
            "34/34 [==============================] - 0s 3ms/step - loss: 7405.6470 - mae: 7405.6470\n",
            "Epoch 53/100\n",
            "34/34 [==============================] - 0s 3ms/step - loss: 7498.2773 - mae: 7498.2773\n",
            "Epoch 54/100\n",
            "34/34 [==============================] - 0s 3ms/step - loss: 7173.4160 - mae: 7173.4160\n",
            "Epoch 55/100\n",
            "34/34 [==============================] - 0s 5ms/step - loss: 7268.4180 - mae: 7268.4180\n",
            "Epoch 56/100\n",
            "34/34 [==============================] - 0s 4ms/step - loss: 7297.3369 - mae: 7297.3369\n",
            "Epoch 57/100\n",
            "34/34 [==============================] - 0s 3ms/step - loss: 7521.4722 - mae: 7521.4722\n",
            "Epoch 58/100\n",
            "34/34 [==============================] - 0s 2ms/step - loss: 7535.2563 - mae: 7535.2563\n",
            "Epoch 59/100\n",
            "34/34 [==============================] - 0s 2ms/step - loss: 7553.1299 - mae: 7553.1299\n",
            "Epoch 60/100\n",
            "34/34 [==============================] - 0s 2ms/step - loss: 7457.6865 - mae: 7457.6865\n",
            "Epoch 61/100\n",
            "34/34 [==============================] - 0s 3ms/step - loss: 7485.0576 - mae: 7485.0576\n",
            "Epoch 62/100\n",
            "34/34 [==============================] - 0s 4ms/step - loss: 7217.4995 - mae: 7217.4995\n",
            "Epoch 63/100\n",
            "34/34 [==============================] - 0s 3ms/step - loss: 7391.4468 - mae: 7391.4468\n",
            "Epoch 64/100\n",
            "34/34 [==============================] - 0s 3ms/step - loss: 7294.5522 - mae: 7294.5522\n",
            "Epoch 65/100\n",
            "34/34 [==============================] - 0s 4ms/step - loss: 7362.6030 - mae: 7362.6030\n",
            "Epoch 66/100\n",
            "34/34 [==============================] - 0s 4ms/step - loss: 7614.4404 - mae: 7614.4404\n",
            "Epoch 67/100\n",
            "34/34 [==============================] - 0s 4ms/step - loss: 7251.2983 - mae: 7251.2983\n",
            "Epoch 68/100\n",
            "34/34 [==============================] - 0s 3ms/step - loss: 7540.1641 - mae: 7540.1641\n",
            "Epoch 69/100\n",
            "34/34 [==============================] - 0s 4ms/step - loss: 7565.7920 - mae: 7565.7920\n",
            "Epoch 70/100\n",
            "34/34 [==============================] - 0s 3ms/step - loss: 7541.4707 - mae: 7541.4707\n",
            "Epoch 71/100\n",
            "34/34 [==============================] - 0s 6ms/step - loss: 7289.3120 - mae: 7289.3120\n",
            "Epoch 72/100\n",
            "34/34 [==============================] - 0s 2ms/step - loss: 7391.9766 - mae: 7391.9766\n",
            "Epoch 73/100\n",
            "34/34 [==============================] - 0s 3ms/step - loss: 7384.9204 - mae: 7384.9204\n",
            "Epoch 74/100\n",
            "34/34 [==============================] - 0s 5ms/step - loss: 7381.9780 - mae: 7381.9780\n",
            "Epoch 75/100\n",
            "34/34 [==============================] - 0s 5ms/step - loss: 7321.1553 - mae: 7321.1553\n",
            "Epoch 76/100\n",
            "34/34 [==============================] - 0s 4ms/step - loss: 7201.2100 - mae: 7201.2100\n",
            "Epoch 77/100\n",
            "34/34 [==============================] - 0s 4ms/step - loss: 7456.4932 - mae: 7456.4932\n",
            "Epoch 78/100\n",
            "34/34 [==============================] - 0s 3ms/step - loss: 7104.8765 - mae: 7104.8765\n",
            "Epoch 79/100\n",
            "34/34 [==============================] - 0s 3ms/step - loss: 7520.0972 - mae: 7520.0972\n",
            "Epoch 80/100\n",
            "34/34 [==============================] - 0s 4ms/step - loss: 7137.5405 - mae: 7137.5405\n",
            "Epoch 81/100\n",
            "34/34 [==============================] - 0s 4ms/step - loss: 7330.2544 - mae: 7330.2544\n",
            "Epoch 82/100\n",
            "34/34 [==============================] - 0s 2ms/step - loss: 7337.7568 - mae: 7337.7568\n",
            "Epoch 83/100\n",
            "34/34 [==============================] - 0s 3ms/step - loss: 7343.7021 - mae: 7343.7021\n",
            "Epoch 84/100\n",
            "34/34 [==============================] - 0s 4ms/step - loss: 7396.8486 - mae: 7396.8486\n",
            "Epoch 85/100\n",
            "34/34 [==============================] - 0s 5ms/step - loss: 7418.1143 - mae: 7418.1143\n",
            "Epoch 86/100\n",
            "34/34 [==============================] - 0s 3ms/step - loss: 7432.6309 - mae: 7432.6309\n",
            "Epoch 87/100\n",
            "34/34 [==============================] - 0s 3ms/step - loss: 7158.4185 - mae: 7158.4185\n",
            "Epoch 88/100\n",
            "34/34 [==============================] - 0s 2ms/step - loss: 7206.2881 - mae: 7206.2881\n",
            "Epoch 89/100\n",
            "34/34 [==============================] - 0s 2ms/step - loss: 7205.9028 - mae: 7205.9028\n",
            "Epoch 90/100\n",
            "34/34 [==============================] - 0s 3ms/step - loss: 7350.9434 - mae: 7350.9434\n",
            "Epoch 91/100\n",
            "34/34 [==============================] - 0s 3ms/step - loss: 7312.7046 - mae: 7312.7046\n",
            "Epoch 92/100\n",
            "34/34 [==============================] - 0s 3ms/step - loss: 7345.4009 - mae: 7345.4009\n",
            "Epoch 93/100\n",
            "34/34 [==============================] - 0s 5ms/step - loss: 7525.8970 - mae: 7525.8970\n",
            "Epoch 94/100\n",
            "34/34 [==============================] - 0s 3ms/step - loss: 7305.6274 - mae: 7305.6274\n",
            "Epoch 95/100\n",
            "34/34 [==============================] - 0s 3ms/step - loss: 7364.3618 - mae: 7364.3618\n",
            "Epoch 96/100\n",
            "34/34 [==============================] - 0s 2ms/step - loss: 7260.9082 - mae: 7260.9082\n",
            "Epoch 97/100\n",
            "34/34 [==============================] - 0s 3ms/step - loss: 7173.4956 - mae: 7173.4956\n",
            "Epoch 98/100\n",
            "34/34 [==============================] - 0s 3ms/step - loss: 7398.9844 - mae: 7398.9844\n",
            "Epoch 99/100\n",
            "34/34 [==============================] - 0s 3ms/step - loss: 7382.9062 - mae: 7382.9062\n",
            "Epoch 100/100\n",
            "34/34 [==============================] - 0s 2ms/step - loss: 7219.1919 - mae: 7219.1919\n"
          ]
        },
        {
          "output_type": "execute_result",
          "data": {
            "text/plain": [
              "<keras.src.callbacks.History at 0x78aa35eaa950>"
            ]
          },
          "metadata": {},
          "execution_count": 64
        }
      ]
    },
    {
      "cell_type": "code",
      "source": [
        "insurance_model.evaluate(X_test, y_test)"
      ],
      "metadata": {
        "colab": {
          "base_uri": "https://localhost:8080/"
        },
        "id": "FDum8wxAw3oM",
        "outputId": "3ea640bb-6d97-4b08-da01-83b602ce1e27"
      },
      "execution_count": null,
      "outputs": [
        {
          "output_type": "stream",
          "name": "stdout",
          "text": [
            "9/9 [==============================] - 0s 3ms/step - loss: 8680.9521 - mae: 8680.9521\n"
          ]
        },
        {
          "output_type": "execute_result",
          "data": {
            "text/plain": [
              "[8680.9521484375, 8680.9521484375]"
            ]
          },
          "metadata": {},
          "execution_count": 65
        }
      ]
    },
    {
      "cell_type": "markdown",
      "source": [
        "Our model didn't perform very well, let's try a bigger model.\n",
        "\n",
        "We'll try 3 things:\n",
        "\n",
        "* Increasing the number of layers (2 -> 3).\n",
        "* Increasing the number of units in each layer (except for the output layer).\n",
        "* Changing the optimizer (from SGD to Adam)."
      ],
      "metadata": {
        "id": "G1_pDpeexFi4"
      }
    },
    {
      "cell_type": "code",
      "source": [
        "tf.random.set_seed(42)\n",
        "\n",
        "insurance_model_2 = tf.keras.Sequential()\n",
        "\n",
        "insurance_model_2.add(tf.keras.layers.Dense(100))\n",
        "insurance_model_2.add(tf.keras.layers.Dense(10))\n",
        "insurance_model_2.add(tf.keras.layers.Dense(1))\n",
        "\n",
        "insurance_model_2.compile(loss = tf.keras.losses.mae,\n",
        "                        optimizer = tf.keras.optimizers.Adam(),\n",
        "                        metrics = [\"mae\"])\n",
        "\n",
        "history = insurance_model_2.fit(X_train, y_train , epochs = 100, verbose = 0)"
      ],
      "metadata": {
        "id": "BZRj-uorxBM0"
      },
      "execution_count": null,
      "outputs": []
    },
    {
      "cell_type": "code",
      "source": [
        "# 🔑 Note: For many problems, the Adam optimizer is a great starting choice.\n",
        "insurance_model_2_loss, insurance_model_2_mae = insurance_model_2.evaluate(X_test, y_test)"
      ],
      "metadata": {
        "colab": {
          "base_uri": "https://localhost:8080/"
        },
        "id": "aMlUKvtNxYpk",
        "outputId": "85359d92-7f1e-46f8-c85e-f1d3573a8e7c"
      },
      "execution_count": null,
      "outputs": [
        {
          "output_type": "stream",
          "name": "stdout",
          "text": [
            "9/9 [==============================] - 0s 2ms/step - loss: 4755.1538 - mae: 4755.1538\n"
          ]
        }
      ]
    },
    {
      "cell_type": "code",
      "source": [
        "pd.DataFrame(history.history).plot()\n",
        "plt.ylabel(\"loss\")\n",
        "plt.xlabel(\"epochs\")\n",
        "plt.show()"
      ],
      "metadata": {
        "colab": {
          "base_uri": "https://localhost:8080/",
          "height": 449
        },
        "id": "KeuEoX4xxgJ8",
        "outputId": "af07f06d-c794-4bde-9010-e8563793b3f9"
      },
      "execution_count": null,
      "outputs": [
        {
          "output_type": "display_data",
          "data": {
            "text/plain": [
              "<Figure size 640x480 with 1 Axes>"
            ],
            "image/png": "[encoded data removed]"
          },
          "metadata": {}
        }
      ]
    },
    {
      "cell_type": "markdown",
      "source": [
        "## Preprocessing data (normalization and standardization)\n",
        "A common practice when working with neural networks is to make sure all of the data you pass to them is in the range 0 to 1.\n",
        "\n",
        "This practice is called normalization (scaling all values from their original range to, e.g. between 0 and 100,000 to be between 0 and 1).\n",
        "\n",
        "There is another process call standardization which converts all of your data to unit variance and 0 mean.\n",
        "\n",
        "These two practices are often part of a preprocessing pipeline (a series of functions to prepare your data for use with neural networks).\n",
        "\n",
        "Knowing this, some of the major steps you'll take to preprocess your data for a neural network include:\n",
        "\n",
        "* Turning all of your data to numbers (a neural network can't handle strings).\n",
        "* Making sure your data is in the right shape (verifying input and output shapes).\n",
        "* Feature scaling:\n",
        "   \n",
        "   **Normalizing data** (making sure all values are between 0 and 1). This is done by subtracting the minimum value then dividing by the maximum value minus the minimum. This is also referred to as min-max scaling.\n",
        "   \n",
        "   **Standardization** (making sure all values have a mean of 0 and a variance of 1). This is done by subtracting the mean value from the target feature and then dividing it by the standard deviation.\n",
        "   \n",
        "   **Which one should you use?**\n",
        "With neural networks you'll tend to favour normalization as they tend to prefer values between 0 and 1 (you'll see this espcially with image processing), however, you'll often find a neural network can perform pretty well with minimal feature scaling."
      ],
      "metadata": {
        "id": "A9cY5fH9yKh-"
      }
    },
    {
      "cell_type": "code",
      "source": [
        "insurance.head()"
      ],
      "metadata": {
        "colab": {
          "base_uri": "https://localhost:8080/",
          "height": 206
        },
        "id": "ftBR94wlyjG0",
        "outputId": "0317be29-a61c-4b00-8950-fe838dc37804"
      },
      "execution_count": null,
      "outputs": [
        {
          "output_type": "execute_result",
          "data": {
            "text/plain": [
              "   age     sex     bmi  children smoker     region      charges\n",
              "0   19  female  27.900         0    yes  southwest  16884.92400\n",
              "1   18    male  33.770         1     no  southeast   1725.55230\n",
              "2   28    male  33.000         3     no  southeast   4449.46200\n",
              "3   33    male  22.705         0     no  northwest  21984.47061\n",
              "4   32    male  28.880         0     no  northwest   3866.85520"
            ],
            "text/html": [
              "\n",
              "  <div id=\"df-6a45fc1c-e374-40fc-8b09-dd40288fcf68\" class=\"colab-df-container\">\n",
              "    <div>\n",
              "<style scoped>\n",
              "    .dataframe tbody tr th:only-of-type {\n",
              "        vertical-align: middle;\n",
              "    }\n",
              "\n",
              "    .dataframe tbody tr th {\n",
              "        vertical-align: top;\n",
              "    }\n",
              "\n",
              "    .dataframe thead th {\n",
              "        text-align: right;\n",
              "    }\n",
              "</style>\n",
              "<table border=\"1\" class=\"dataframe\">\n",
              "  <thead>\n",
              "    <tr style=\"text-align: right;\">\n",
              "      <th></th>\n",
              "      <th>age</th>\n",
              "      <th>sex</th>\n",
              "      <th>bmi</th>\n",
              "      <th>children</th>\n",
              "      <th>smoker</th>\n",
              "      <th>region</th>\n",
              "      <th>charges</th>\n",
              "    </tr>\n",
              "  </thead>\n",
              "  <tbody>\n",
              "    <tr>\n",
              "      <th>0</th>\n",
              "      <td>19</td>\n",
              "      <td>female</td>\n",
              "      <td>27.900</td>\n",
              "      <td>0</td>\n",
              "      <td>yes</td>\n",
              "      <td>southwest</td>\n",
              "      <td>16884.92400</td>\n",
              "    </tr>\n",
              "    <tr>\n",
              "      <th>1</th>\n",
              "      <td>18</td>\n",
              "      <td>male</td>\n",
              "      <td>33.770</td>\n",
              "      <td>1</td>\n",
              "      <td>no</td>\n",
              "      <td>southeast</td>\n",
              "      <td>1725.55230</td>\n",
              "    </tr>\n",
              "    <tr>\n",
              "      <th>2</th>\n",
              "      <td>28</td>\n",
              "      <td>male</td>\n",
              "      <td>33.000</td>\n",
              "      <td>3</td>\n",
              "      <td>no</td>\n",
              "      <td>southeast</td>\n",
              "      <td>4449.46200</td>\n",
              "    </tr>\n",
              "    <tr>\n",
              "      <th>3</th>\n",
              "      <td>33</td>\n",
              "      <td>male</td>\n",
              "      <td>22.705</td>\n",
              "      <td>0</td>\n",
              "      <td>no</td>\n",
              "      <td>northwest</td>\n",
              "      <td>21984.47061</td>\n",
              "    </tr>\n",
              "    <tr>\n",
              "      <th>4</th>\n",
              "      <td>32</td>\n",
              "      <td>male</td>\n",
              "      <td>28.880</td>\n",
              "      <td>0</td>\n",
              "      <td>no</td>\n",
              "      <td>northwest</td>\n",
              "      <td>3866.85520</td>\n",
              "    </tr>\n",
              "  </tbody>\n",
              "</table>\n",
              "</div>\n",
              "    <div class=\"colab-df-buttons\">\n",
              "\n",
              "  <div class=\"colab-df-container\">\n",
              "    <button class=\"colab-df-convert\" onclick=\"convertToInteractive('df-6a45fc1c-e374-40fc-8b09-dd40288fcf68')\"\n",
              "            title=\"Convert this dataframe to an interactive table.\"\n",
              "            style=\"display:none;\">\n",
              "\n",
              "  <svg xmlns=\"http://www.w3.org/2000/svg\" height=\"24px\" viewBox=\"0 -960 960 960\">\n",
              "    <path d=\"M120-120v-720h720v720H120Zm60-500h600v-160H180v160Zm220 220h160v-160H400v160Zm0 220h160v-160H400v160ZM180-400h160v-160H180v160Zm440 0h160v-160H620v160ZM180-180h160v-160H180v160Zm440 0h160v-160H620v160Z\"/>\n",
              "  </svg>\n",
              "    </button>\n",
              "\n",
              "  <style>\n",
              "    .colab-df-container {\n",
              "      display:flex;\n",
              "      gap: 12px;\n",
              "    }\n",
              "\n",
              "    .colab-df-convert {\n",
              "      background-color: #E8F0FE;\n",
              "      border: none;\n",
              "      border-radius: 50%;\n",
              "      cursor: pointer;\n",
              "      display: none;\n",
              "      fill: #1967D2;\n",
              "      height: 32px;\n",
              "      padding: 0 0 0 0;\n",
              "      width: 32px;\n",
              "    }\n",
              "\n",
              "    .colab-df-convert:hover {\n",
              "      background-color: #E2EBFA;\n",
              "      box-shadow: 0px 1px 2px rgba(60, 64, 67, 0.3), 0px 1px 3px 1px rgba(60, 64, 67, 0.15);\n",
              "      fill: #174EA6;\n",
              "    }\n",
              "\n",
              "    .colab-df-buttons div {\n",
              "      margin-bottom: 4px;\n",
              "    }\n",
              "\n",
              "    [theme=dark] .colab-df-convert {\n",
              "      background-color: #3B4455;\n",
              "      fill: #D2E3FC;\n",
              "    }\n",
              "\n",
              "    [theme=dark] .colab-df-convert:hover {\n",
              "      background-color: #434B5C;\n",
              "      box-shadow: 0px 1px 3px 1px rgba(0, 0, 0, 0.15);\n",
              "      filter: drop-shadow(0px 1px 2px rgba(0, 0, 0, 0.3));\n",
              "      fill: #FFFFFF;\n",
              "    }\n",
              "  </style>\n",
              "\n",
              "    <script>\n",
              "      const buttonEl =\n",
              "        document.querySelector('#df-6a45fc1c-e374-40fc-8b09-dd40288fcf68 button.colab-df-convert');\n",
              "      buttonEl.style.display =\n",
              "        google.colab.kernel.accessAllowed ? 'block' : 'none';\n",
              "\n",
              "      async function convertToInteractive(key) {\n",
              "        const element = document.querySelector('#df-6a45fc1c-e374-40fc-8b09-dd40288fcf68');\n",
              "        const dataTable =\n",
              "          await google.colab.kernel.invokeFunction('convertToInteractive',\n",
              "                                                    [key], {});\n",
              "        if (!dataTable) return;\n",
              "\n",
              "        const docLinkHtml = 'Like what you see? Visit the ' +\n",
              "          '<a target=\"_blank\" href=https://colab.research.google.com/notebooks/data_table.ipynb>data table notebook</a>'\n",
              "          + ' to learn more about interactive tables.';\n",
              "        element.innerHTML = '';\n",
              "        dataTable['output_type'] = 'display_data';\n",
              "        await google.colab.output.renderOutput(dataTable, element);\n",
              "        const docLink = document.createElement('div');\n",
              "        docLink.innerHTML = docLinkHtml;\n",
              "        element.appendChild(docLink);\n",
              "      }\n",
              "    </script>\n",
              "  </div>\n",
              "\n",
              "\n",
              "<div id=\"df-c65f66ef-3cd5-4d0d-b2a7-11e8926a5e64\">\n",
              "  <button class=\"colab-df-quickchart\" onclick=\"quickchart('df-c65f66ef-3cd5-4d0d-b2a7-11e8926a5e64')\"\n",
              "            title=\"Suggest charts.\"\n",
              "            style=\"display:none;\">\n",
              "\n",
              "<svg xmlns=\"http://www.w3.org/2000/svg\" height=\"24px\"viewBox=\"0 0 24 24\"\n",
              "     width=\"24px\">\n",
              "    <g>\n",
              "        <path d=\"M19 3H5c-1.1 0-2 .9-2 2v14c0 1.1.9 2 2 2h14c1.1 0 2-.9 2-2V5c0-1.1-.9-2-2-2zM9 17H7v-7h2v7zm4 0h-2V7h2v10zm4 0h-2v-4h2v4z\"/>\n",
              "    </g>\n",
              "</svg>\n",
              "  </button>\n",
              "\n",
              "<style>\n",
              "  .colab-df-quickchart {\n",
              "      --bg-color: #E8F0FE;\n",
              "      --fill-color: #1967D2;\n",
              "      --hover-bg-color: #E2EBFA;\n",
              "      --hover-fill-color: #174EA6;\n",
              "      --disabled-fill-color: #AAA;\n",
              "      --disabled-bg-color: #DDD;\n",
              "  }\n",
              "\n",
              "  [theme=dark] .colab-df-quickchart {\n",
              "      --bg-color: #3B4455;\n",
              "      --fill-color: #D2E3FC;\n",
              "      --hover-bg-color: #434B5C;\n",
              "      --hover-fill-color: #FFFFFF;\n",
              "      --disabled-bg-color: #3B4455;\n",
              "      --disabled-fill-color: #666;\n",
              "  }\n",
              "\n",
              "  .colab-df-quickchart {\n",
              "    background-color: var(--bg-color);\n",
              "    border: none;\n",
              "    border-radius: 50%;\n",
              "    cursor: pointer;\n",
              "    display: none;\n",
              "    fill: var(--fill-color);\n",
              "    height: 32px;\n",
              "    padding: 0;\n",
              "    width: 32px;\n",
              "  }\n",
              "\n",
              "  .colab-df-quickchart:hover {\n",
              "    background-color: var(--hover-bg-color);\n",
              "    box-shadow: 0 1px 2px rgba(60, 64, 67, 0.3), 0 1px 3px 1px rgba(60, 64, 67, 0.15);\n",
              "    fill: var(--button-hover-fill-color);\n",
              "  }\n",
              "\n",
              "  .colab-df-quickchart-complete:disabled,\n",
              "  .colab-df-quickchart-complete:disabled:hover {\n",
              "    background-color: var(--disabled-bg-color);\n",
              "    fill: var(--disabled-fill-color);\n",
              "    box-shadow: none;\n",
              "  }\n",
              "\n",
              "  .colab-df-spinner {\n",
              "    border: 2px solid var(--fill-color);\n",
              "    border-color: transparent;\n",
              "    border-bottom-color: var(--fill-color);\n",
              "    animation:\n",
              "      spin 1s steps(1) infinite;\n",
              "  }\n",
              "\n",
              "  @keyframes spin {\n",
              "    0% {\n",
              "      border-color: transparent;\n",
              "      border-bottom-color: var(--fill-color);\n",
              "      border-left-color: var(--fill-color);\n",
              "    }\n",
              "    20% {\n",
              "      border-color: transparent;\n",
              "      border-left-color: var(--fill-color);\n",
              "      border-top-color: var(--fill-color);\n",
              "    }\n",
              "    30% {\n",
              "      border-color: transparent;\n",
              "      border-left-color: var(--fill-color);\n",
              "      border-top-color: var(--fill-color);\n",
              "      border-right-color: var(--fill-color);\n",
              "    }\n",
              "    40% {\n",
              "      border-color: transparent;\n",
              "      border-right-color: var(--fill-color);\n",
              "      border-top-color: var(--fill-color);\n",
              "    }\n",
              "    60% {\n",
              "      border-color: transparent;\n",
              "      border-right-color: var(--fill-color);\n",
              "    }\n",
              "    80% {\n",
              "      border-color: transparent;\n",
              "      border-right-color: var(--fill-color);\n",
              "      border-bottom-color: var(--fill-color);\n",
              "    }\n",
              "    90% {\n",
              "      border-color: transparent;\n",
              "      border-bottom-color: var(--fill-color);\n",
              "    }\n",
              "  }\n",
              "</style>\n",
              "\n",
              "  <script>\n",
              "    async function quickchart(key) {\n",
              "      const quickchartButtonEl =\n",
              "        document.querySelector('#' + key + ' button');\n",
              "      quickchartButtonEl.disabled = true;  // To prevent multiple clicks.\n",
              "      quickchartButtonEl.classList.add('colab-df-spinner');\n",
              "      try {\n",
              "        const charts = await google.colab.kernel.invokeFunction(\n",
              "            'suggestCharts', [key], {});\n",
              "      } catch (error) {\n",
              "        console.error('Error during call to suggestCharts:', error);\n",
              "      }\n",
              "      quickchartButtonEl.classList.remove('colab-df-spinner');\n",
              "      quickchartButtonEl.classList.add('colab-df-quickchart-complete');\n",
              "    }\n",
              "    (() => {\n",
              "      let quickchartButtonEl =\n",
              "        document.querySelector('#df-c65f66ef-3cd5-4d0d-b2a7-11e8926a5e64 button');\n",
              "      quickchartButtonEl.style.display =\n",
              "        google.colab.kernel.accessAllowed ? 'block' : 'none';\n",
              "    })();\n",
              "  </script>\n",
              "</div>\n",
              "    </div>\n",
              "  </div>\n"
            ]
          },
          "metadata": {},
          "execution_count": 81
        }
      ]
    },
    {
      "cell_type": "markdown",
      "source": [
        "Now, just as before, we need to transform the non-numerical columns into numbers and this time we'll also be normalizing the numerical columns with different ranges (to make sure they're all between 0 and 1).\n",
        "\n",
        "To do this, we're going to use a few classes from Scikit-Learn:\n",
        "\n",
        "* make_column_transformer - build a multi-step data preprocessing function for the folllowing transformations:\n",
        "\n",
        "* MinMaxScaler - make sure all numerical columns are normalized (between 0 and 1).\n",
        "\n",
        "* OneHotEncoder - one hot encode the non-numerical columns."
      ],
      "metadata": {
        "id": "UzltXj_Oytw2"
      }
    },
    {
      "cell_type": "code",
      "source": [
        "from sklearn.compose import make_column_transformer\n",
        "from sklearn.preprocessing import MinMaxScaler,OneHotEncoder\n",
        "\n",
        "ct = make_column_transformer(\n",
        "    (MinMaxScaler(), [\"age\",\"bmi\",\"children\"]),\n",
        "    (OneHotEncoder(handle_unknown=\"ignore\"),[\"sex\",\"smoker\",\"region\"])\n",
        ")\n",
        "\n",
        "X = insurance.drop(\"charges\", axis=1)\n",
        "y = insurance[\"charges\"]\n",
        "\n",
        "\n",
        "X_train, X_test, y_train, y_test = train_test_split(X, y, test_size=0.2, random_state=42)\n",
        "\n",
        "ct.fit(X_train)\n",
        "\n",
        "X_train_normal = ct.transform(X_train)\n",
        "X_test_normal = ct.transform(X_test)\n"
      ],
      "metadata": {
        "id": "FS4LHWaMypor"
      },
      "execution_count": null,
      "outputs": []
    },
    {
      "cell_type": "code",
      "source": [
        "X_train.loc[0]"
      ],
      "metadata": {
        "colab": {
          "base_uri": "https://localhost:8080/"
        },
        "id": "o0Y94UI5zdTx",
        "outputId": "89c7fa94-d4ea-45d9-cda1-e802366919e2"
      },
      "execution_count": null,
      "outputs": [
        {
          "output_type": "execute_result",
          "data": {
            "text/plain": [
              "age                19\n",
              "sex            female\n",
              "bmi              27.9\n",
              "children            0\n",
              "smoker            yes\n",
              "region      southwest\n",
              "Name: 0, dtype: object"
            ]
          },
          "metadata": {},
          "execution_count": 71
        }
      ]
    },
    {
      "cell_type": "code",
      "source": [
        "X_train_normal[0]"
      ],
      "metadata": {
        "colab": {
          "base_uri": "https://localhost:8080/"
        },
        "id": "lxOyLsKFzf1S",
        "outputId": "e0f8218f-cda9-40ef-9b75-f723d98b114a"
      },
      "execution_count": null,
      "outputs": [
        {
          "output_type": "execute_result",
          "data": {
            "text/plain": [
              "array([0.60869565, 0.10734463, 0.4       , 1.        , 0.        ,\n",
              "       1.        , 0.        , 0.        , 1.        , 0.        ,\n",
              "       0.        ])"
            ]
          },
          "metadata": {},
          "execution_count": 72
        }
      ]
    },
    {
      "cell_type": "code",
      "source": [
        "X_train_normal.shape, X_train.shape"
      ],
      "metadata": {
        "colab": {
          "base_uri": "https://localhost:8080/"
        },
        "id": "OmGn6HM1zjMp",
        "outputId": "78330fc0-1d4b-4609-d055-58ca62e4fd26"
      },
      "execution_count": null,
      "outputs": [
        {
          "output_type": "execute_result",
          "data": {
            "text/plain": [
              "((1070, 11), (1070, 6))"
            ]
          },
          "metadata": {},
          "execution_count": 73
        }
      ]
    },
    {
      "cell_type": "code",
      "source": [
        "\n",
        "tf.random.set_seed(42)\n",
        "\n",
        "insurance_model_3 = tf.keras.Sequential([\n",
        "  tf.keras.layers.Dense(100),\n",
        "  tf.keras.layers.Dense(10),\n",
        "  tf.keras.layers.Dense(1)\n",
        "])\n",
        "\n",
        "\n",
        "insurance_model_3.compile(loss=tf.keras.losses.mae,\n",
        "                          optimizer=tf.keras.optimizers.Adam(),\n",
        "                          metrics=['mae'])\n",
        "\n",
        "insurance_model_3.fit(X_train_normal, y_train, epochs=200, verbose=0)"
      ],
      "metadata": {
        "colab": {
          "base_uri": "https://localhost:8080/"
        },
        "id": "WvlkdSiBzwBT",
        "outputId": "0fbc5ba9-9fb9-4c59-ffb5-58cb477cc7b8"
      },
      "execution_count": null,
      "outputs": [
        {
          "output_type": "execute_result",
          "data": {
            "text/plain": [
              "<keras.src.callbacks.History at 0x78aa48aed450>"
            ]
          },
          "metadata": {},
          "execution_count": 74
        }
      ]
    },
    {
      "cell_type": "code",
      "source": [
        "insurance_model_3_loss, insurance_model_3_mae = insurance_model_3.evaluate(X_test_normal, y_test)"
      ],
      "metadata": {
        "colab": {
          "base_uri": "https://localhost:8080/"
        },
        "id": "k15MHyohz3SJ",
        "outputId": "42a50d81-20d5-40c4-8605-729c0bf147cb"
      },
      "execution_count": null,
      "outputs": [
        {
          "output_type": "stream",
          "name": "stdout",
          "text": [
            "9/9 [==============================] - 0s 2ms/step - loss: 3170.2056 - mae: 3170.2056\n"
          ]
        }
      ]
    },
    {
      "cell_type": "code",
      "source": [
        "insurance_model_2_mae,insurance_model_3_mae"
      ],
      "metadata": {
        "colab": {
          "base_uri": "https://localhost:8080/"
        },
        "id": "TvYIFPaD0Grh",
        "outputId": "22702348-598c-4c8d-d838-af6d6624df8f"
      },
      "execution_count": null,
      "outputs": [
        {
          "output_type": "execute_result",
          "data": {
            "text/plain": [
              "(4755.15380859375, 3170.20556640625)"
            ]
          },
          "metadata": {},
          "execution_count": 76
        }
      ]
    },
    {
      "cell_type": "markdown",
      "source": [
        "From this we can see normalizing the data results in 10% less error using the same model than not normalizing the data.\n",
        "\n",
        "This is one of the main benefits of normalization: faster convergence time (a fancy way of saying, your model gets to better results faster)."
      ],
      "metadata": {
        "id": "92Yfw9Pl0pOQ"
      }
    },
    {
      "cell_type": "code",
      "source": [
        "(X_train, y_train), (X_test,y_test) = tf.keras.datasets.boston_housing.load_data(test_split = 0.2)"
      ],
      "metadata": {
        "id": "82e5c_eh1n_g"
      },
      "execution_count": null,
      "outputs": []
    },
    {
      "cell_type": "code",
      "source": [
        "X_train.shape, y_train.shape"
      ],
      "metadata": {
        "colab": {
          "base_uri": "https://localhost:8080/"
        },
        "id": "ZtL8QZ7F2hiu",
        "outputId": "be542348-1ab6-44d3-bb31-98515f4c19d6"
      },
      "execution_count": null,
      "outputs": [
        {
          "output_type": "execute_result",
          "data": {
            "text/plain": [
              "((404, 13), (404,))"
            ]
          },
          "metadata": {},
          "execution_count": 86
        }
      ]
    },
    {
      "cell_type": "code",
      "source": [
        "X_test.shape,y_test.shape"
      ],
      "metadata": {
        "colab": {
          "base_uri": "https://localhost:8080/"
        },
        "id": "wuuZus7R2kAG",
        "outputId": "a931c5e3-7a04-4e0c-d663-fecdb94a32ec"
      },
      "execution_count": null,
      "outputs": [
        {
          "output_type": "execute_result",
          "data": {
            "text/plain": [
              "((102, 13), (102,))"
            ]
          },
          "metadata": {},
          "execution_count": 91
        }
      ]
    },
    {
      "cell_type": "code",
      "source": [
        "tf.random.set_seed(42)\n",
        "\n",
        "boston_model = tf.keras.Sequential()\n",
        "\n",
        "boston_model.add(tf.keras.layers.Dense(1))\n",
        "\n",
        "boston_model.compile(loss = tf.keras.losses.mae,\n",
        "                     optimizer = tf.keras.optimizers.SGD(),\n",
        "                     metrics = [\"mae\"])\n",
        "\n",
        "history1 = boston_model.fit(X_train, y_train, epochs = 50)"
      ],
      "metadata": {
        "colab": {
          "base_uri": "https://localhost:8080/"
        },
        "id": "3rcox36H20x-",
        "outputId": "2dad73b3-d743-41db-94d4-ee2e34499bca"
      },
      "execution_count": null,
      "outputs": [
        {
          "output_type": "stream",
          "name": "stdout",
          "text": [
            "Epoch 1/50\n",
            "13/13 [==============================] - 0s 2ms/step - loss: 1319.0186 - mae: 1319.0186\n",
            "Epoch 2/50\n",
            "13/13 [==============================] - 0s 2ms/step - loss: 1420.0667 - mae: 1420.0667\n",
            "Epoch 3/50\n",
            "13/13 [==============================] - 0s 2ms/step - loss: 1541.0492 - mae: 1541.0492\n",
            "Epoch 4/50\n",
            "13/13 [==============================] - 0s 2ms/step - loss: 1420.3734 - mae: 1420.3734\n",
            "Epoch 5/50\n",
            "13/13 [==============================] - 0s 2ms/step - loss: 1491.4087 - mae: 1491.4087\n",
            "Epoch 6/50\n",
            "13/13 [==============================] - 0s 2ms/step - loss: 1384.2759 - mae: 1384.2759\n",
            "Epoch 7/50\n",
            "13/13 [==============================] - 0s 2ms/step - loss: 1518.1544 - mae: 1518.1544\n",
            "Epoch 8/50\n",
            "13/13 [==============================] - 0s 2ms/step - loss: 1503.6799 - mae: 1503.6799\n",
            "Epoch 9/50\n",
            "13/13 [==============================] - 0s 2ms/step - loss: 1441.1021 - mae: 1441.1021\n",
            "Epoch 10/50\n",
            "13/13 [==============================] - 0s 2ms/step - loss: 1531.2520 - mae: 1531.2520\n",
            "Epoch 11/50\n",
            "13/13 [==============================] - 0s 2ms/step - loss: 1472.6509 - mae: 1472.6509\n",
            "Epoch 12/50\n",
            "13/13 [==============================] - 0s 2ms/step - loss: 1483.0139 - mae: 1483.0139\n",
            "Epoch 13/50\n",
            "13/13 [==============================] - 0s 2ms/step - loss: 1486.2944 - mae: 1486.2944\n",
            "Epoch 14/50\n",
            "13/13 [==============================] - 0s 2ms/step - loss: 1452.6805 - mae: 1452.6805\n",
            "Epoch 15/50\n",
            "13/13 [==============================] - 0s 2ms/step - loss: 1536.9103 - mae: 1536.9103\n",
            "Epoch 16/50\n",
            "13/13 [==============================] - 0s 2ms/step - loss: 1453.5967 - mae: 1453.5967\n",
            "Epoch 17/50\n",
            "13/13 [==============================] - 0s 2ms/step - loss: 1497.3715 - mae: 1497.3715\n",
            "Epoch 18/50\n",
            "13/13 [==============================] - 0s 3ms/step - loss: 1489.2163 - mae: 1489.2163\n",
            "Epoch 19/50\n",
            "13/13 [==============================] - 0s 3ms/step - loss: 1506.9768 - mae: 1506.9768\n",
            "Epoch 20/50\n",
            "13/13 [==============================] - 0s 2ms/step - loss: 1457.0520 - mae: 1457.0520\n",
            "Epoch 21/50\n",
            "13/13 [==============================] - 0s 2ms/step - loss: 1490.9900 - mae: 1490.9900\n",
            "Epoch 22/50\n",
            "13/13 [==============================] - 0s 2ms/step - loss: 1467.5079 - mae: 1467.5079\n",
            "Epoch 23/50\n",
            "13/13 [==============================] - 0s 2ms/step - loss: 1519.1892 - mae: 1519.1892\n",
            "Epoch 24/50\n",
            "13/13 [==============================] - 0s 2ms/step - loss: 1446.4868 - mae: 1446.4868\n",
            "Epoch 25/50\n",
            "13/13 [==============================] - 0s 2ms/step - loss: 1518.3925 - mae: 1518.3925\n",
            "Epoch 26/50\n",
            "13/13 [==============================] - 0s 2ms/step - loss: 1398.8546 - mae: 1398.8546\n",
            "Epoch 27/50\n",
            "13/13 [==============================] - 0s 2ms/step - loss: 1472.8846 - mae: 1472.8846\n",
            "Epoch 28/50\n",
            "13/13 [==============================] - 0s 2ms/step - loss: 1462.6660 - mae: 1462.6660\n",
            "Epoch 29/50\n",
            "13/13 [==============================] - 0s 2ms/step - loss: 1522.1766 - mae: 1522.1766\n",
            "Epoch 30/50\n",
            "13/13 [==============================] - 0s 2ms/step - loss: 1480.5933 - mae: 1480.5933\n",
            "Epoch 31/50\n",
            "13/13 [==============================] - 0s 2ms/step - loss: 1507.1512 - mae: 1507.1512\n",
            "Epoch 32/50\n",
            "13/13 [==============================] - 0s 2ms/step - loss: 1486.2737 - mae: 1486.2737\n",
            "Epoch 33/50\n",
            "13/13 [==============================] - 0s 2ms/step - loss: 1501.2463 - mae: 1501.2463\n",
            "Epoch 34/50\n",
            "13/13 [==============================] - 0s 2ms/step - loss: 1490.8362 - mae: 1490.8362\n",
            "Epoch 35/50\n",
            "13/13 [==============================] - 0s 2ms/step - loss: 1473.1482 - mae: 1473.1482\n",
            "Epoch 36/50\n",
            "13/13 [==============================] - 0s 2ms/step - loss: 1488.8462 - mae: 1488.8462\n",
            "Epoch 37/50\n",
            "13/13 [==============================] - 0s 2ms/step - loss: 1477.4189 - mae: 1477.4189\n",
            "Epoch 38/50\n",
            "13/13 [==============================] - 0s 2ms/step - loss: 1494.5071 - mae: 1494.5071\n",
            "Epoch 39/50\n",
            "13/13 [==============================] - 0s 2ms/step - loss: 1443.0526 - mae: 1443.0526\n",
            "Epoch 40/50\n",
            "13/13 [==============================] - 0s 3ms/step - loss: 1524.5386 - mae: 1524.5386\n",
            "Epoch 41/50\n",
            "13/13 [==============================] - 0s 2ms/step - loss: 1386.5063 - mae: 1386.5063\n",
            "Epoch 42/50\n",
            "13/13 [==============================] - 0s 2ms/step - loss: 1492.1547 - mae: 1492.1547\n",
            "Epoch 43/50\n",
            "13/13 [==============================] - 0s 2ms/step - loss: 1478.4259 - mae: 1478.4259\n",
            "Epoch 44/50\n",
            "13/13 [==============================] - 0s 2ms/step - loss: 1480.0526 - mae: 1480.0526\n",
            "Epoch 45/50\n",
            "13/13 [==============================] - 0s 2ms/step - loss: 1488.5199 - mae: 1488.5199\n",
            "Epoch 46/50\n",
            "13/13 [==============================] - 0s 2ms/step - loss: 1431.9929 - mae: 1431.9929\n",
            "Epoch 47/50\n",
            "13/13 [==============================] - 0s 2ms/step - loss: 1484.9465 - mae: 1484.9465\n",
            "Epoch 48/50\n",
            "13/13 [==============================] - 0s 2ms/step - loss: 1522.4944 - mae: 1522.4944\n",
            "Epoch 49/50\n",
            "13/13 [==============================] - 0s 2ms/step - loss: 1455.3970 - mae: 1455.3970\n",
            "Epoch 50/50\n",
            "13/13 [==============================] - 0s 2ms/step - loss: 1542.2540 - mae: 1542.2540\n"
          ]
        }
      ]
    },
    {
      "cell_type": "code",
      "source": [
        "boston_model.evaluate(X_test,y_test)"
      ],
      "metadata": {
        "id": "77ByScfF3qPs",
        "colab": {
          "base_uri": "https://localhost:8080/"
        },
        "outputId": "d9c613ff-cffc-46ab-e816-e41e7f25b70c"
      },
      "execution_count": null,
      "outputs": [
        {
          "output_type": "stream",
          "name": "stdout",
          "text": [
            "4/4 [==============================] - 0s 3ms/step - loss: 942.4326 - mae: 942.4326\n"
          ]
        },
        {
          "output_type": "execute_result",
          "data": {
            "text/plain": [
              "[942.4326171875, 942.4326171875]"
            ]
          },
          "metadata": {},
          "execution_count": 105
        }
      ]
    },
    {
      "cell_type": "code",
      "source": [
        "scaler = MinMaxScaler()\n",
        "scaler.fit_transform(X_train,X_test)"
      ],
      "metadata": {
        "colab": {
          "base_uri": "https://localhost:8080/"
        },
        "id": "DOojsujpvigi",
        "outputId": "d5e4591b-2ed0-460f-90aa-203f1a702b22"
      },
      "execution_count": null,
      "outputs": [
        {
          "output_type": "execute_result",
          "data": {
            "text/plain": [
              "array([[1.37816304e-02, 0.00000000e+00, 2.81524927e-01, ...,\n",
              "        8.93617021e-01, 1.00000000e+00, 4.68818985e-01],\n",
              "       [1.73654275e-04, 8.25000000e-01, 5.75513196e-02, ...,\n",
              "        2.23404255e-01, 9.96167230e-01, 3.80794702e-02],\n",
              "       [5.49837765e-02, 0.00000000e+00, 6.46627566e-01, ...,\n",
              "        8.08510638e-01, 9.46089061e-01, 4.22185430e-02],\n",
              "       ...,\n",
              "       [3.18534767e-04, 3.50000000e-01, 2.05278592e-01, ...,\n",
              "        4.57446809e-01, 9.12627969e-01, 1.68322296e-01],\n",
              "       [2.40852297e-02, 0.00000000e+00, 7.00879765e-01, ...,\n",
              "        2.23404255e-01, 6.59715568e-01, 3.87969095e-01],\n",
              "       [9.07048543e-05, 6.00000000e-01, 9.05425220e-02, ...,\n",
              "        3.19148936e-01, 9.49064501e-01, 7.31236203e-02]])"
            ]
          },
          "metadata": {},
          "execution_count": 106
        }
      ]
    },
    {
      "cell_type": "code",
      "source": [
        "X_train_normal = scaler.fit_transform(X_train)\n",
        "X_test_normal = scaler.fit_transform(X_test)"
      ],
      "metadata": {
        "id": "6IOiNtBMxJUg"
      },
      "execution_count": null,
      "outputs": []
    },
    {
      "cell_type": "code",
      "source": [
        "X_train_normal[0]"
      ],
      "metadata": {
        "colab": {
          "base_uri": "https://localhost:8080/"
        },
        "id": "oSVZrE-FxiJn",
        "outputId": "d568b52b-d188-48f8-d210-cc2b3b8d192f"
      },
      "execution_count": null,
      "outputs": [
        {
          "output_type": "execute_result",
          "data": {
            "text/plain": [
              "array([0.01378163, 0.        , 0.28152493, 0.        , 0.31481481,\n",
              "       0.49980635, 0.91452111, 0.29719123, 0.13043478, 0.22753346,\n",
              "       0.89361702, 1.        , 0.46881898])"
            ]
          },
          "metadata": {},
          "execution_count": 108
        }
      ]
    },
    {
      "cell_type": "code",
      "source": [
        "# Creat boston_model_2\n",
        "tf.random.set_seed(42)\n",
        "\n",
        "boston_model_2 = tf.keras.Sequential()\n",
        "\n",
        "boston_model_2.add(tf.keras.layers.Dense(100))\n",
        "boston_model_2.add(tf.keras.layers.Dense(10))\n",
        "boston_model_2.add(tf.keras.layers.Dense(1))\n",
        "\n",
        "boston_model_2.compile(loss = tf.keras.losses.mae,\n",
        "                       optimizer = tf.keras.optimizers.Adam(),\n",
        "                       metrics = [\"mae\"])\n",
        "\n",
        "history2 = boston_model_2.fit(X_train_normal, y_train, epochs = 200, verbose = 1)"
      ],
      "metadata": {
        "colab": {
          "base_uri": "https://localhost:8080/"
        },
        "id": "6FTX7o--xoXH",
        "outputId": "aa790903-ba50-4bfc-ea13-66ee81b8130c"
      },
      "execution_count": null,
      "outputs": [
        {
          "output_type": "stream",
          "name": "stdout",
          "text": [
            "Epoch 1/200\n",
            "13/13 [==============================] - 1s 2ms/step - loss: 22.3980 - mae: 22.3980\n",
            "Epoch 2/200\n",
            "13/13 [==============================] - 0s 2ms/step - loss: 20.4985 - mae: 20.4985\n",
            "Epoch 3/200\n",
            "13/13 [==============================] - 0s 2ms/step - loss: 18.1800 - mae: 18.1800\n",
            "Epoch 4/200\n",
            "13/13 [==============================] - 0s 2ms/step - loss: 15.0563 - mae: 15.0563\n",
            "Epoch 5/200\n",
            "13/13 [==============================] - 0s 2ms/step - loss: 11.3998 - mae: 11.3998\n",
            "Epoch 6/200\n",
            "13/13 [==============================] - 0s 3ms/step - loss: 8.9980 - mae: 8.9980\n",
            "Epoch 7/200\n",
            "13/13 [==============================] - 0s 2ms/step - loss: 8.0816 - mae: 8.0816\n",
            "Epoch 8/200\n",
            "13/13 [==============================] - 0s 2ms/step - loss: 7.5737 - mae: 7.5737\n",
            "Epoch 9/200\n",
            "13/13 [==============================] - 0s 2ms/step - loss: 6.9683 - mae: 6.9683\n",
            "Epoch 10/200\n",
            "13/13 [==============================] - 0s 2ms/step - loss: 6.4657 - mae: 6.4657\n",
            "Epoch 11/200\n",
            "13/13 [==============================] - 0s 2ms/step - loss: 6.0209 - mae: 6.0209\n",
            "Epoch 12/200\n",
            "13/13 [==============================] - 0s 2ms/step - loss: 5.6202 - mae: 5.6202\n",
            "Epoch 13/200\n",
            "13/13 [==============================] - 0s 2ms/step - loss: 5.3465 - mae: 5.3465\n",
            "Epoch 14/200\n",
            "13/13 [==============================] - 0s 2ms/step - loss: 5.1708 - mae: 5.1708\n",
            "Epoch 15/200\n",
            "13/13 [==============================] - 0s 2ms/step - loss: 5.0559 - mae: 5.0559\n",
            "Epoch 16/200\n",
            "13/13 [==============================] - 0s 2ms/step - loss: 4.9736 - mae: 4.9736\n",
            "Epoch 17/200\n",
            "13/13 [==============================] - 0s 2ms/step - loss: 4.9148 - mae: 4.9148\n",
            "Epoch 18/200\n",
            "13/13 [==============================] - 0s 3ms/step - loss: 4.8353 - mae: 4.8353\n",
            "Epoch 19/200\n",
            "13/13 [==============================] - 0s 2ms/step - loss: 4.7800 - mae: 4.7800\n",
            "Epoch 20/200\n",
            "13/13 [==============================] - 0s 3ms/step - loss: 4.7178 - mae: 4.7178\n",
            "Epoch 21/200\n",
            "13/13 [==============================] - 0s 2ms/step - loss: 4.6494 - mae: 4.6494\n",
            "Epoch 22/200\n",
            "13/13 [==============================] - 0s 2ms/step - loss: 4.5881 - mae: 4.5881\n",
            "Epoch 23/200\n",
            "13/13 [==============================] - 0s 2ms/step - loss: 4.5161 - mae: 4.5161\n",
            "Epoch 24/200\n",
            "13/13 [==============================] - 0s 3ms/step - loss: 4.4519 - mae: 4.4519\n",
            "Epoch 25/200\n",
            "13/13 [==============================] - 0s 2ms/step - loss: 4.3808 - mae: 4.3808\n",
            "Epoch 26/200\n",
            "13/13 [==============================] - 0s 2ms/step - loss: 4.3399 - mae: 4.3399\n",
            "Epoch 27/200\n",
            "13/13 [==============================] - 0s 2ms/step - loss: 4.2589 - mae: 4.2589\n",
            "Epoch 28/200\n",
            "13/13 [==============================] - 0s 2ms/step - loss: 4.2395 - mae: 4.2395\n",
            "Epoch 29/200\n",
            "13/13 [==============================] - 0s 2ms/step - loss: 4.2005 - mae: 4.2005\n",
            "Epoch 30/200\n",
            "13/13 [==============================] - 0s 2ms/step - loss: 4.0840 - mae: 4.0840\n",
            "Epoch 31/200\n",
            "13/13 [==============================] - 0s 2ms/step - loss: 4.0068 - mae: 4.0068\n",
            "Epoch 32/200\n",
            "13/13 [==============================] - 0s 2ms/step - loss: 3.9530 - mae: 3.9530\n",
            "Epoch 33/200\n",
            "13/13 [==============================] - 0s 3ms/step - loss: 3.9072 - mae: 3.9072\n",
            "Epoch 34/200\n",
            "13/13 [==============================] - 0s 2ms/step - loss: 3.8485 - mae: 3.8485\n",
            "Epoch 35/200\n",
            "13/13 [==============================] - 0s 2ms/step - loss: 3.7997 - mae: 3.7997\n",
            "Epoch 36/200\n",
            "13/13 [==============================] - 0s 2ms/step - loss: 3.7616 - mae: 3.7616\n",
            "Epoch 37/200\n",
            "13/13 [==============================] - 0s 2ms/step - loss: 3.7095 - mae: 3.7095\n",
            "Epoch 38/200\n",
            "13/13 [==============================] - 0s 2ms/step - loss: 3.6417 - mae: 3.6417\n",
            "Epoch 39/200\n",
            "13/13 [==============================] - 0s 2ms/step - loss: 3.6100 - mae: 3.6100\n",
            "Epoch 40/200\n",
            "13/13 [==============================] - 0s 2ms/step - loss: 3.5633 - mae: 3.5633\n",
            "Epoch 41/200\n",
            "13/13 [==============================] - 0s 2ms/step - loss: 3.5261 - mae: 3.5261\n",
            "Epoch 42/200\n",
            "13/13 [==============================] - 0s 3ms/step - loss: 3.4667 - mae: 3.4667\n",
            "Epoch 43/200\n",
            "13/13 [==============================] - 0s 2ms/step - loss: 3.4525 - mae: 3.4525\n",
            "Epoch 44/200\n",
            "13/13 [==============================] - 0s 2ms/step - loss: 3.3837 - mae: 3.3837\n",
            "Epoch 45/200\n",
            "13/13 [==============================] - 0s 3ms/step - loss: 3.3509 - mae: 3.3509\n",
            "Epoch 46/200\n",
            "13/13 [==============================] - 0s 2ms/step - loss: 3.3339 - mae: 3.3339\n",
            "Epoch 47/200\n",
            "13/13 [==============================] - 0s 2ms/step - loss: 3.3366 - mae: 3.3366\n",
            "Epoch 48/200\n",
            "13/13 [==============================] - 0s 2ms/step - loss: 3.3008 - mae: 3.3008\n",
            "Epoch 49/200\n",
            "13/13 [==============================] - 0s 3ms/step - loss: 3.3256 - mae: 3.3256\n",
            "Epoch 50/200\n",
            "13/13 [==============================] - 0s 2ms/step - loss: 3.2654 - mae: 3.2654\n",
            "Epoch 51/200\n",
            "13/13 [==============================] - 0s 2ms/step - loss: 3.2950 - mae: 3.2950\n",
            "Epoch 52/200\n",
            "13/13 [==============================] - 0s 2ms/step - loss: 3.2769 - mae: 3.2769\n",
            "Epoch 53/200\n",
            "13/13 [==============================] - 0s 2ms/step - loss: 3.2214 - mae: 3.2214\n",
            "Epoch 54/200\n",
            "13/13 [==============================] - 0s 2ms/step - loss: 3.2372 - mae: 3.2372\n",
            "Epoch 55/200\n",
            "13/13 [==============================] - 0s 2ms/step - loss: 3.2384 - mae: 3.2384\n",
            "Epoch 56/200\n",
            "13/13 [==============================] - 0s 2ms/step - loss: 3.2222 - mae: 3.2222\n",
            "Epoch 57/200\n",
            "13/13 [==============================] - 0s 2ms/step - loss: 3.2227 - mae: 3.2227\n",
            "Epoch 58/200\n",
            "13/13 [==============================] - 0s 2ms/step - loss: 3.1998 - mae: 3.1998\n",
            "Epoch 59/200\n",
            "13/13 [==============================] - 0s 2ms/step - loss: 3.1894 - mae: 3.1894\n",
            "Epoch 60/200\n",
            "13/13 [==============================] - 0s 2ms/step - loss: 3.2003 - mae: 3.2003\n",
            "Epoch 61/200\n",
            "13/13 [==============================] - 0s 2ms/step - loss: 3.1873 - mae: 3.1873\n",
            "Epoch 62/200\n",
            "13/13 [==============================] - 0s 2ms/step - loss: 3.2019 - mae: 3.2019\n",
            "Epoch 63/200\n",
            "13/13 [==============================] - 0s 2ms/step - loss: 3.1640 - mae: 3.1640\n",
            "Epoch 64/200\n",
            "13/13 [==============================] - 0s 2ms/step - loss: 3.1784 - mae: 3.1784\n",
            "Epoch 65/200\n",
            "13/13 [==============================] - 0s 2ms/step - loss: 3.1625 - mae: 3.1625\n",
            "Epoch 66/200\n",
            "13/13 [==============================] - 0s 2ms/step - loss: 3.2138 - mae: 3.2138\n",
            "Epoch 67/200\n",
            "13/13 [==============================] - 0s 2ms/step - loss: 3.1962 - mae: 3.1962\n",
            "Epoch 68/200\n",
            "13/13 [==============================] - 0s 2ms/step - loss: 3.1818 - mae: 3.1818\n",
            "Epoch 69/200\n",
            "13/13 [==============================] - 0s 2ms/step - loss: 3.1645 - mae: 3.1645\n",
            "Epoch 70/200\n",
            "13/13 [==============================] - 0s 2ms/step - loss: 3.1631 - mae: 3.1631\n",
            "Epoch 71/200\n",
            "13/13 [==============================] - 0s 3ms/step - loss: 3.1901 - mae: 3.1901\n",
            "Epoch 72/200\n",
            "13/13 [==============================] - 0s 3ms/step - loss: 3.2027 - mae: 3.2027\n",
            "Epoch 73/200\n",
            "13/13 [==============================] - 0s 3ms/step - loss: 3.1820 - mae: 3.1820\n",
            "Epoch 74/200\n",
            "13/13 [==============================] - 0s 2ms/step - loss: 3.1609 - mae: 3.1609\n",
            "Epoch 75/200\n",
            "13/13 [==============================] - 0s 3ms/step - loss: 3.1755 - mae: 3.1755\n",
            "Epoch 76/200\n",
            "13/13 [==============================] - 0s 2ms/step - loss: 3.1593 - mae: 3.1593\n",
            "Epoch 77/200\n",
            "13/13 [==============================] - 0s 2ms/step - loss: 3.1358 - mae: 3.1358\n",
            "Epoch 78/200\n",
            "13/13 [==============================] - 0s 2ms/step - loss: 3.1601 - mae: 3.1601\n",
            "Epoch 79/200\n",
            "13/13 [==============================] - 0s 2ms/step - loss: 3.1476 - mae: 3.1476\n",
            "Epoch 80/200\n",
            "13/13 [==============================] - 0s 2ms/step - loss: 3.1259 - mae: 3.1259\n",
            "Epoch 81/200\n",
            "13/13 [==============================] - 0s 2ms/step - loss: 3.1383 - mae: 3.1383\n",
            "Epoch 82/200\n",
            "13/13 [==============================] - 0s 2ms/step - loss: 3.1396 - mae: 3.1396\n",
            "Epoch 83/200\n",
            "13/13 [==============================] - 0s 2ms/step - loss: 3.1341 - mae: 3.1341\n",
            "Epoch 84/200\n",
            "13/13 [==============================] - 0s 2ms/step - loss: 3.1342 - mae: 3.1342\n",
            "Epoch 85/200\n",
            "13/13 [==============================] - 0s 2ms/step - loss: 3.1246 - mae: 3.1246\n",
            "Epoch 86/200\n",
            "13/13 [==============================] - 0s 2ms/step - loss: 3.1289 - mae: 3.1289\n",
            "Epoch 87/200\n",
            "13/13 [==============================] - 0s 2ms/step - loss: 3.1261 - mae: 3.1261\n",
            "Epoch 88/200\n",
            "13/13 [==============================] - 0s 2ms/step - loss: 3.1446 - mae: 3.1446\n",
            "Epoch 89/200\n",
            "13/13 [==============================] - 0s 2ms/step - loss: 3.1710 - mae: 3.1710\n",
            "Epoch 90/200\n",
            "13/13 [==============================] - 0s 2ms/step - loss: 3.1459 - mae: 3.1459\n",
            "Epoch 91/200\n",
            "13/13 [==============================] - 0s 2ms/step - loss: 3.1195 - mae: 3.1195\n",
            "Epoch 92/200\n",
            "13/13 [==============================] - 0s 2ms/step - loss: 3.1273 - mae: 3.1273\n",
            "Epoch 93/200\n",
            "13/13 [==============================] - 0s 2ms/step - loss: 3.1426 - mae: 3.1426\n",
            "Epoch 94/200\n",
            "13/13 [==============================] - 0s 2ms/step - loss: 3.1431 - mae: 3.1431\n",
            "Epoch 95/200\n",
            "13/13 [==============================] - 0s 2ms/step - loss: 3.1345 - mae: 3.1345\n",
            "Epoch 96/200\n",
            "13/13 [==============================] - 0s 2ms/step - loss: 3.1168 - mae: 3.1168\n",
            "Epoch 97/200\n",
            "13/13 [==============================] - 0s 2ms/step - loss: 3.1279 - mae: 3.1279\n",
            "Epoch 98/200\n",
            "13/13 [==============================] - 0s 2ms/step - loss: 3.1613 - mae: 3.1613\n",
            "Epoch 99/200\n",
            "13/13 [==============================] - 0s 3ms/step - loss: 3.1386 - mae: 3.1386\n",
            "Epoch 100/200\n",
            "13/13 [==============================] - 0s 3ms/step - loss: 3.1096 - mae: 3.1096\n",
            "Epoch 101/200\n",
            "13/13 [==============================] - 0s 2ms/step - loss: 3.1197 - mae: 3.1197\n",
            "Epoch 102/200\n",
            "13/13 [==============================] - 0s 3ms/step - loss: 3.1072 - mae: 3.1072\n",
            "Epoch 103/200\n",
            "13/13 [==============================] - 0s 3ms/step - loss: 3.1134 - mae: 3.1134\n",
            "Epoch 104/200\n",
            "13/13 [==============================] - 0s 2ms/step - loss: 3.1197 - mae: 3.1197\n",
            "Epoch 105/200\n",
            "13/13 [==============================] - 0s 2ms/step - loss: 3.0974 - mae: 3.0974\n",
            "Epoch 106/200\n",
            "13/13 [==============================] - 0s 2ms/step - loss: 3.1277 - mae: 3.1277\n",
            "Epoch 107/200\n",
            "13/13 [==============================] - 0s 2ms/step - loss: 3.1224 - mae: 3.1224\n",
            "Epoch 108/200\n",
            "13/13 [==============================] - 0s 2ms/step - loss: 3.1328 - mae: 3.1328\n",
            "Epoch 109/200\n",
            "13/13 [==============================] - 0s 2ms/step - loss: 3.1231 - mae: 3.1231\n",
            "Epoch 110/200\n",
            "13/13 [==============================] - 0s 2ms/step - loss: 3.1549 - mae: 3.1549\n",
            "Epoch 111/200\n",
            "13/13 [==============================] - 0s 2ms/step - loss: 3.1243 - mae: 3.1243\n",
            "Epoch 112/200\n",
            "13/13 [==============================] - 0s 2ms/step - loss: 3.1017 - mae: 3.1017\n",
            "Epoch 113/200\n",
            "13/13 [==============================] - 0s 3ms/step - loss: 3.1183 - mae: 3.1183\n",
            "Epoch 114/200\n",
            "13/13 [==============================] - 0s 2ms/step - loss: 3.1039 - mae: 3.1039\n",
            "Epoch 115/200\n",
            "13/13 [==============================] - 0s 2ms/step - loss: 3.1246 - mae: 3.1246\n",
            "Epoch 116/200\n",
            "13/13 [==============================] - 0s 3ms/step - loss: 3.1254 - mae: 3.1254\n",
            "Epoch 117/200\n",
            "13/13 [==============================] - 0s 2ms/step - loss: 3.2368 - mae: 3.2368\n",
            "Epoch 118/200\n",
            "13/13 [==============================] - 0s 2ms/step - loss: 3.1746 - mae: 3.1746\n",
            "Epoch 119/200\n",
            "13/13 [==============================] - 0s 2ms/step - loss: 3.1203 - mae: 3.1203\n",
            "Epoch 120/200\n",
            "13/13 [==============================] - 0s 2ms/step - loss: 3.1054 - mae: 3.1054\n",
            "Epoch 121/200\n",
            "13/13 [==============================] - 0s 2ms/step - loss: 3.1092 - mae: 3.1092\n",
            "Epoch 122/200\n",
            "13/13 [==============================] - 0s 2ms/step - loss: 3.1259 - mae: 3.1259\n",
            "Epoch 123/200\n",
            "13/13 [==============================] - 0s 2ms/step - loss: 3.1241 - mae: 3.1241\n",
            "Epoch 124/200\n",
            "13/13 [==============================] - 0s 3ms/step - loss: 3.1135 - mae: 3.1135\n",
            "Epoch 125/200\n",
            "13/13 [==============================] - 0s 3ms/step - loss: 3.1335 - mae: 3.1335\n",
            "Epoch 126/200\n",
            "13/13 [==============================] - 0s 3ms/step - loss: 3.1030 - mae: 3.1030\n",
            "Epoch 127/200\n",
            "13/13 [==============================] - 0s 3ms/step - loss: 3.1086 - mae: 3.1086\n",
            "Epoch 128/200\n",
            "13/13 [==============================] - 0s 3ms/step - loss: 3.1153 - mae: 3.1153\n",
            "Epoch 129/200\n",
            "13/13 [==============================] - 0s 2ms/step - loss: 3.1111 - mae: 3.1111\n",
            "Epoch 130/200\n",
            "13/13 [==============================] - 0s 2ms/step - loss: 3.1025 - mae: 3.1025\n",
            "Epoch 131/200\n",
            "13/13 [==============================] - 0s 2ms/step - loss: 3.1269 - mae: 3.1269\n",
            "Epoch 132/200\n",
            "13/13 [==============================] - 0s 2ms/step - loss: 3.1217 - mae: 3.1217\n",
            "Epoch 133/200\n",
            "13/13 [==============================] - 0s 2ms/step - loss: 3.1317 - mae: 3.1317\n",
            "Epoch 134/200\n",
            "13/13 [==============================] - 0s 3ms/step - loss: 3.1243 - mae: 3.1243\n",
            "Epoch 135/200\n",
            "13/13 [==============================] - 0s 2ms/step - loss: 3.1030 - mae: 3.1030\n",
            "Epoch 136/200\n",
            "13/13 [==============================] - 0s 3ms/step - loss: 3.1117 - mae: 3.1117\n",
            "Epoch 137/200\n",
            "13/13 [==============================] - 0s 2ms/step - loss: 3.1263 - mae: 3.1263\n",
            "Epoch 138/200\n",
            "13/13 [==============================] - 0s 2ms/step - loss: 3.1059 - mae: 3.1059\n",
            "Epoch 139/200\n",
            "13/13 [==============================] - 0s 2ms/step - loss: 3.1382 - mae: 3.1382\n",
            "Epoch 140/200\n",
            "13/13 [==============================] - 0s 2ms/step - loss: 3.1277 - mae: 3.1277\n",
            "Epoch 141/200\n",
            "13/13 [==============================] - 0s 2ms/step - loss: 3.1099 - mae: 3.1099\n",
            "Epoch 142/200\n",
            "13/13 [==============================] - 0s 2ms/step - loss: 3.1044 - mae: 3.1044\n",
            "Epoch 143/200\n",
            "13/13 [==============================] - 0s 2ms/step - loss: 3.1106 - mae: 3.1106\n",
            "Epoch 144/200\n",
            "13/13 [==============================] - 0s 2ms/step - loss: 3.1210 - mae: 3.1210\n",
            "Epoch 145/200\n",
            "13/13 [==============================] - 0s 2ms/step - loss: 3.1344 - mae: 3.1344\n",
            "Epoch 146/200\n",
            "13/13 [==============================] - 0s 3ms/step - loss: 3.1216 - mae: 3.1216\n",
            "Epoch 147/200\n",
            "13/13 [==============================] - 0s 2ms/step - loss: 3.1156 - mae: 3.1156\n",
            "Epoch 148/200\n",
            "13/13 [==============================] - 0s 2ms/step - loss: 3.1105 - mae: 3.1105\n",
            "Epoch 149/200\n",
            "13/13 [==============================] - 0s 2ms/step - loss: 3.1016 - mae: 3.1016\n",
            "Epoch 150/200\n",
            "13/13 [==============================] - 0s 3ms/step - loss: 3.1113 - mae: 3.1113\n",
            "Epoch 151/200\n",
            "13/13 [==============================] - 0s 3ms/step - loss: 3.1057 - mae: 3.1057\n",
            "Epoch 152/200\n",
            "13/13 [==============================] - 0s 2ms/step - loss: 3.1336 - mae: 3.1336\n",
            "Epoch 153/200\n",
            "13/13 [==============================] - 0s 2ms/step - loss: 3.2164 - mae: 3.2164\n",
            "Epoch 154/200\n",
            "13/13 [==============================] - 0s 2ms/step - loss: 3.1538 - mae: 3.1538\n",
            "Epoch 155/200\n",
            "13/13 [==============================] - 0s 2ms/step - loss: 3.1109 - mae: 3.1109\n",
            "Epoch 156/200\n",
            "13/13 [==============================] - 0s 2ms/step - loss: 3.1237 - mae: 3.1237\n",
            "Epoch 157/200\n",
            "13/13 [==============================] - 0s 2ms/step - loss: 3.1714 - mae: 3.1714\n",
            "Epoch 158/200\n",
            "13/13 [==============================] - 0s 2ms/step - loss: 3.1651 - mae: 3.1651\n",
            "Epoch 159/200\n",
            "13/13 [==============================] - 0s 2ms/step - loss: 3.1644 - mae: 3.1644\n",
            "Epoch 160/200\n",
            "13/13 [==============================] - 0s 2ms/step - loss: 3.1698 - mae: 3.1698\n",
            "Epoch 161/200\n",
            "13/13 [==============================] - 0s 2ms/step - loss: 3.1941 - mae: 3.1941\n",
            "Epoch 162/200\n",
            "13/13 [==============================] - 0s 2ms/step - loss: 3.1242 - mae: 3.1242\n",
            "Epoch 163/200\n",
            "13/13 [==============================] - 0s 2ms/step - loss: 3.1088 - mae: 3.1088\n",
            "Epoch 164/200\n",
            "13/13 [==============================] - 0s 2ms/step - loss: 3.1283 - mae: 3.1283\n",
            "Epoch 165/200\n",
            "13/13 [==============================] - 0s 2ms/step - loss: 3.0994 - mae: 3.0994\n",
            "Epoch 166/200\n",
            "13/13 [==============================] - 0s 2ms/step - loss: 3.1014 - mae: 3.1014\n",
            "Epoch 167/200\n",
            "13/13 [==============================] - 0s 2ms/step - loss: 3.1130 - mae: 3.1130\n",
            "Epoch 168/200\n",
            "13/13 [==============================] - 0s 2ms/step - loss: 3.1096 - mae: 3.1096\n",
            "Epoch 169/200\n",
            "13/13 [==============================] - 0s 2ms/step - loss: 3.1042 - mae: 3.1042\n",
            "Epoch 170/200\n",
            "13/13 [==============================] - 0s 3ms/step - loss: 3.1169 - mae: 3.1169\n",
            "Epoch 171/200\n",
            "13/13 [==============================] - 0s 2ms/step - loss: 3.1245 - mae: 3.1245\n",
            "Epoch 172/200\n",
            "13/13 [==============================] - 0s 2ms/step - loss: 3.1004 - mae: 3.1004\n",
            "Epoch 173/200\n",
            "13/13 [==============================] - 0s 2ms/step - loss: 3.1165 - mae: 3.1165\n",
            "Epoch 174/200\n",
            "13/13 [==============================] - 0s 2ms/step - loss: 3.1407 - mae: 3.1407\n",
            "Epoch 175/200\n",
            "13/13 [==============================] - 0s 2ms/step - loss: 3.1285 - mae: 3.1285\n",
            "Epoch 176/200\n",
            "13/13 [==============================] - 0s 2ms/step - loss: 3.1159 - mae: 3.1159\n",
            "Epoch 177/200\n",
            "13/13 [==============================] - 0s 2ms/step - loss: 3.1112 - mae: 3.1112\n",
            "Epoch 178/200\n",
            "13/13 [==============================] - 0s 3ms/step - loss: 3.1248 - mae: 3.1248\n",
            "Epoch 179/200\n",
            "13/13 [==============================] - 0s 2ms/step - loss: 3.1052 - mae: 3.1052\n",
            "Epoch 180/200\n",
            "13/13 [==============================] - 0s 3ms/step - loss: 3.1096 - mae: 3.1096\n",
            "Epoch 181/200\n",
            "13/13 [==============================] - 0s 2ms/step - loss: 3.1122 - mae: 3.1122\n",
            "Epoch 182/200\n",
            "13/13 [==============================] - 0s 2ms/step - loss: 3.1504 - mae: 3.1504\n",
            "Epoch 183/200\n",
            "13/13 [==============================] - 0s 2ms/step - loss: 3.1371 - mae: 3.1371\n",
            "Epoch 184/200\n",
            "13/13 [==============================] - 0s 2ms/step - loss: 3.0942 - mae: 3.0942\n",
            "Epoch 185/200\n",
            "13/13 [==============================] - 0s 2ms/step - loss: 3.1014 - mae: 3.1014\n",
            "Epoch 186/200\n",
            "13/13 [==============================] - 0s 2ms/step - loss: 3.1182 - mae: 3.1182\n",
            "Epoch 187/200\n",
            "13/13 [==============================] - 0s 2ms/step - loss: 3.1081 - mae: 3.1081\n",
            "Epoch 188/200\n",
            "13/13 [==============================] - 0s 2ms/step - loss: 3.1061 - mae: 3.1061\n",
            "Epoch 189/200\n",
            "13/13 [==============================] - 0s 2ms/step - loss: 3.1369 - mae: 3.1369\n",
            "Epoch 190/200\n",
            "13/13 [==============================] - 0s 3ms/step - loss: 3.1472 - mae: 3.1472\n",
            "Epoch 191/200\n",
            "13/13 [==============================] - 0s 2ms/step - loss: 3.1593 - mae: 3.1593\n",
            "Epoch 192/200\n",
            "13/13 [==============================] - 0s 2ms/step - loss: 3.1136 - mae: 3.1136\n",
            "Epoch 193/200\n",
            "13/13 [==============================] - 0s 2ms/step - loss: 3.1614 - mae: 3.1614\n",
            "Epoch 194/200\n",
            "13/13 [==============================] - 0s 2ms/step - loss: 3.1298 - mae: 3.1298\n",
            "Epoch 195/200\n",
            "13/13 [==============================] - 0s 2ms/step - loss: 3.1099 - mae: 3.1099\n",
            "Epoch 196/200\n",
            "13/13 [==============================] - 0s 2ms/step - loss: 3.0983 - mae: 3.0983\n",
            "Epoch 197/200\n",
            "13/13 [==============================] - 0s 3ms/step - loss: 3.1077 - mae: 3.1077\n",
            "Epoch 198/200\n",
            "13/13 [==============================] - 0s 2ms/step - loss: 3.1935 - mae: 3.1935\n",
            "Epoch 199/200\n",
            "13/13 [==============================] - 0s 2ms/step - loss: 3.1225 - mae: 3.1225\n",
            "Epoch 200/200\n",
            "13/13 [==============================] - 0s 3ms/step - loss: 3.1120 - mae: 3.1120\n"
          ]
        }
      ]
    },
    {
      "cell_type": "code",
      "source": [
        "boston_model_2.evaluate(X_test_normal,y_test)"
      ],
      "metadata": {
        "colab": {
          "base_uri": "https://localhost:8080/"
        },
        "id": "h1fGRARoygyu",
        "outputId": "b17cb699-57a4-41ca-ea8d-2a8a77446fd7"
      },
      "execution_count": null,
      "outputs": [
        {
          "output_type": "stream",
          "name": "stdout",
          "text": [
            "4/4 [==============================] - 0s 3ms/step - loss: 6.6354 - mae: 6.6354\n"
          ]
        },
        {
          "output_type": "execute_result",
          "data": {
            "text/plain": [
              "[6.635444641113281, 6.635444641113281]"
            ]
          },
          "metadata": {},
          "execution_count": 110
        }
      ]
    },
    {
      "cell_type": "code",
      "source": [
        "import matplotlib.pyplot as plt\n",
        "plt.figure(figsize = (10,7))\n",
        "plt.plot(history2.history[\"loss\"], color = \"green\")\n",
        "plt.plot(history1.history[\"loss\"], color = \"blue\")\n",
        "plt.xlabel(\"epochs\")\n",
        "plt.ylabel(\"loss\")\n",
        "plt.legend()\n",
        "plt.show()"
      ],
      "metadata": {
        "colab": {
          "base_uri": "https://localhost:8080/",
          "height": 636
        },
        "id": "ARToG2kFyswN",
        "outputId": "9ed669b8-d64b-43aa-b034-d1d0a60640b3"
      },
      "execution_count": null,
      "outputs": [
        {
          "output_type": "stream",
          "name": "stderr",
          "text": [
            "WARNING:matplotlib.legend:No artists with labels found to put in legend.  Note that artists whose label start with an underscore are ignored when legend() is called with no argument.\n"
          ]
        },
        {
          "output_type": "display_data",
          "data": {
            "text/plain": [
              "<Figure size 1000x700 with 1 Axes>"
            ],
            "image/png": "[encoded data removed]"
          },
          "metadata": {}
        }
      ]
    },
    {
      "cell_type": "code",
      "source": [],
      "metadata": {
        "id": "y0sxcvvFzcpl"
      },
      "execution_count": null,
      "outputs": []
    }
  ]
}